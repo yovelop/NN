{
  "nbformat": 4,
  "nbformat_minor": 0,
  "metadata": {
    "colab": {
      "name": "NN Energy Predictor.ipynb",
      "provenance": [],
      "collapsed_sections": [],
      "machine_shape": "hm",
      "include_colab_link": true
    },
    "kernelspec": {
      "name": "python3",
      "display_name": "Python 3"
    },
    "accelerator": "GPU"
  },
  "cells": [
    {
      "cell_type": "markdown",
      "metadata": {
        "id": "view-in-github",
        "colab_type": "text"
      },
      "source": [
        "<a href=\"https://colab.research.google.com/github/yovelop/NN/blob/master/NN_Energy_Predictor.ipynb\" target=\"_parent\"><img src=\"https://colab.research.google.com/assets/colab-badge.svg\" alt=\"Open In Colab\"/></a>"
      ]
    },
    {
      "cell_type": "code",
      "metadata": {
        "id": "zO1azhvf_t9_",
        "colab_type": "code",
        "outputId": "15c53c13-0a46-47a9-8775-9ae6d9bba48e",
        "colab": {
          "base_uri": "https://localhost:8080/",
          "height": 34
        }
      },
      "source": [
        "from google.colab import drive\n",
        "drive.mount('/content/drive')\n"
      ],
      "execution_count": 2,
      "outputs": [
        {
          "output_type": "stream",
          "text": [
            "Drive already mounted at /content/drive; to attempt to forcibly remount, call drive.mount(\"/content/drive\", force_remount=True).\n"
          ],
          "name": "stdout"
        }
      ]
    },
    {
      "cell_type": "markdown",
      "metadata": {
        "id": "-NSMGnmFbe-f",
        "colab_type": "text"
      },
      "source": [
        ""
      ]
    },
    {
      "cell_type": "code",
      "metadata": {
        "id": "ZQgo_OJG_Wxk",
        "colab_type": "code",
        "colab": {}
      },
      "source": [
        "DIR = '/content/drive/My Drive/Colab Notebooks/ENSaver/'"
      ],
      "execution_count": 0,
      "outputs": []
    },
    {
      "cell_type": "code",
      "metadata": {
        "id": "fRgT9oDx_vpi",
        "colab_type": "code",
        "outputId": "f7ecf96d-4a49-4766-bb65-0c4f92217d79",
        "colab": {
          "base_uri": "https://localhost:8080/",
          "height": 221
        }
      },
      "source": [
        "#Импорты\n",
        "if 1==1:\n",
        "  import numpy as np # linear algebra\n",
        "  import pandas as pd # data processing, CSV file I/O (e.g. pd.read_csv)\n",
        "\n",
        "  import matplotlib.pyplot as plt\n",
        "  import matplotlib.style\n",
        "  matplotlib.style.use('ggplot')\n",
        "\n",
        "  from sys import getsizeof\n",
        "\n",
        "  import os\n",
        "  for dirname, _, filenames in os.walk(DIR):\n",
        "      for filename in filenames:\n",
        "          print(os.path.join(dirname, filename))\n",
        "\n",
        "  pd.options.mode.chained_assignment = None  # default='warn'\n",
        "  import warnings\n",
        "  pd.set_option('display.max_rows', 500)\n",
        "  pd.set_option('display.max_columns', 500)\n",
        "  pd.set_option('display.width', 100)\n",
        "  warnings.filterwarnings('ignore')\n",
        "  np.set_printoptions (precision = 4, suppress  = True)\n",
        "\n",
        "  def reduce_mem_usage(df):\n",
        "      start_mem_usg = df.memory_usage().sum() / 1024**2 \n",
        "      print(\"Memory usage of properties dataframe is :\",start_mem_usg,\" MB\")\n",
        "      NAlist = [] # Keeps track of columns that have missing values filled in. \n",
        "      for col in df.columns:\n",
        "          if (df[col].dtype != object) &  (df[col].dtype != 'datetime64[ns]'):  # Exclude strings            \n",
        "              # Print current column type\n",
        "              print(\"******************************\")\n",
        "              print(\"Column: \",col)\n",
        "              print(\"dtype before: \",df[col].dtype)            \n",
        "              # make variables for Int, max and min\n",
        "              IsInt = False\n",
        "              mx = df[col].max()\n",
        "              mn = df[col].min()\n",
        "              print(\"min for this col: \",mn)\n",
        "              print(\"max for this col: \",mx)\n",
        "              # Integer does not support NA, therefore, NA needs to be filled\n",
        "              if not np.isfinite(df[col]).all(): \n",
        "                  NAlist.append(col)\n",
        "                  df[col].fillna(mn-1,inplace=True)  \n",
        "                    \n",
        "              # test if column can be converted to an integer\n",
        "              asint = df[col].fillna(0).astype(np.int64)\n",
        "              result = (df[col] - asint)\n",
        "              result = result.sum()\n",
        "              if result > -0.01 and result < 0.01:\n",
        "                  IsInt = True            \n",
        "              # Make Integer/unsigned Integer datatypes\n",
        "              if IsInt:\n",
        "                  if mn >= 0:\n",
        "                      if mx < 255:\n",
        "                          df[col] = df[col].astype(np.uint8)\n",
        "                      elif mx < 65535:\n",
        "                          df[col] = df[col].astype(np.uint16)\n",
        "                      elif mx < 4294967295:\n",
        "                          df[col] = df[col].astype(np.uint32)\n",
        "                      else:\n",
        "                          df[col] = df[col].astype(np.uint64)\n",
        "                  else:\n",
        "                      if mn > np.iinfo(np.int8).min and mx < np.iinfo(np.int8).max:\n",
        "                          df[col] = df[col].astype(np.int8)\n",
        "                      elif mn > np.iinfo(np.int16).min and mx < np.iinfo(np.int16).max:\n",
        "                          df[col] = df[col].astype(np.int16)\n",
        "                      elif mn > np.iinfo(np.int32).min and mx < np.iinfo(np.int32).max:\n",
        "                          df[col] = df[col].astype(np.int32)\n",
        "                      elif mn > np.iinfo(np.int64).min and mx < np.iinfo(np.int64).max:\n",
        "                          df[col] = df[col].astype(np.int64)    \n",
        "              # Make float datatypes 32 bit\n",
        "              else:\n",
        "                  df[col] = df[col].astype(np.float32)\n",
        "              \n",
        "              # Print new column type\n",
        "              print(\"dtype after: \",df[col].dtype)\n",
        "              print(\"******************************\")\n",
        "      # Print final result\n",
        "      print(\"___MEMORY USAGE AFTER COMPLETION:___\")\n",
        "      mem_usg = df.memory_usage().sum() / 1024**2 \n",
        "      print(\"Memory usage is: \",mem_usg,\" MB\")\n",
        "      print(\"This is \",100*mem_usg/start_mem_usg,\"% of the initial size\")\n",
        "      return df, NAlist\n",
        "\n",
        "  def show_plot(hist):\n",
        "    plt.plot(hist.history['loss'])\n",
        "    plt.plot(hist.history['val_loss'])\n",
        "    plt.title('Model NN')\n",
        "    plt.xlabel('Epoch')\n",
        "    plt.ylabel('Loss')\n",
        "    plt.legend(['Train','Val'])\n",
        "    plt.show()\n",
        "    \n",
        "    plt.plot(hist.history['loss'])\n",
        "    plt.plot(hist.history['val_loss'])\n",
        "    plt.title('Model NN')\n",
        "    plt.xlabel('Epoch')\n",
        "    plt.ylabel('Loss')\n",
        "    plt.ylim([1,2])\n",
        "    plt.legend(['Train','Val'])\n",
        "    plt.show()\n",
        "\n",
        "    plt.plot(hist.history['loss'])\n",
        "    plt.plot(hist.history['val_loss'])\n",
        "    plt.title('Model NN')\n",
        "    plt.xlabel('Epoch')\n",
        "    plt.ylabel('Loss')\n",
        "    plt.ylim([0,1])\n",
        "    plt.legend(['Train','Val'])\n",
        "    plt.show()"
      ],
      "execution_count": 4,
      "outputs": [
        {
          "output_type": "stream",
          "text": [
            "/content/drive/My Drive/Colab Notebooks/ENSaver/building_metadata.csv\n",
            "/content/drive/My Drive/Colab Notebooks/ENSaver/model_nn.h5\n",
            "/content/drive/My Drive/Colab Notebooks/ENSaver/model_nn.json\n",
            "/content/drive/My Drive/Colab Notebooks/ENSaver/out_file_int.csv\n",
            "/content/drive/My Drive/Colab Notebooks/ENSaver/sample_submission (1).csv\n",
            "/content/drive/My Drive/Colab Notebooks/ENSaver/sample_submission.csv\n",
            "/content/drive/My Drive/Colab Notebooks/ENSaver/test.csv\n",
            "/content/drive/My Drive/Colab Notebooks/ENSaver/train.csv\n",
            "/content/drive/My Drive/Colab Notebooks/ENSaver/weather_test.csv\n",
            "/content/drive/My Drive/Colab Notebooks/ENSaver/weather_train.csv\n",
            "/content/drive/My Drive/Colab Notebooks/ENSaver/DF_TRAIN_EXTENDED.PKL\n",
            "/content/drive/My Drive/Colab Notebooks/ENSaver/DF_TRAIN_EXTENDED.FTHR\n"
          ],
          "name": "stdout"
        }
      ]
    },
    {
      "cell_type": "code",
      "metadata": {
        "id": "-Fv4ErMY_vsQ",
        "colab_type": "code",
        "colab": {}
      },
      "source": [
        "#0: electricity, 1: chilledwater, 2: steam, 3: hotwater\n",
        "\n",
        "#  Подготовка данных\n",
        "if 1==1:\n",
        "  df = pd.read_csv(DIR + \"train.csv\", engine = 'python')\n",
        "  #df_test = pd.read_csv(DIR + \"test.csv\", engine = 'python')\n",
        "\n",
        "  df['timestamp'] = pd.to_datetime(df['timestamp'])\n",
        "  #df_test['timestamp'] = pd.to_datetime(df_test['timestamp'])\n",
        "\n",
        "  #Очистка от корявых данных\n",
        "  #df = df.query('not (building_id <= 104 & meter == 0 & timestamp <= \"2016-05-20\")')\n",
        "\n",
        "  #df['meter_reading'] = np.log1p(df['meter_reading'])\n",
        "\n",
        "  #df = pd.concat([df_train, df_test], sort=False)\n",
        "\n",
        "  df['hour_cos'] = np.cos(df['timestamp'].dt.hour * 2 * np.pi / 24)\n",
        "  df['hour_sin'] = np.sin(df['timestamp'].dt.hour * 2 * np.pi / 24)\n",
        "\n",
        "  df['weekday_cos'] = np.cos(df['timestamp'].dt.weekday * 2 * np.pi / 7)\n",
        "  df['weekday_sin'] = np.sin(df['timestamp'].dt.weekday * 2 * np.pi / 7)\n",
        "\n",
        "  df['week_cos'] = np.cos(df['timestamp'].dt.week * 2 * np.pi / 53)\n",
        "  df['week_sin'] = np.sin(df['timestamp'].dt.week * 2 * np.pi / 53)\n",
        "\n",
        "  #df_train['weekends'] = (df_train['weekday'] >= 6) * 1"
      ],
      "execution_count": 0,
      "outputs": []
    },
    {
      "cell_type": "code",
      "metadata": {
        "id": "W3xRu7Y_2MP5",
        "colab_type": "code",
        "colab": {}
      },
      "source": [
        "#Очистка от подозрительных нулей\n",
        "if 1==1:\n",
        "  #print(df[df['building_id']==2][['timestamp','meter_reading','meter','ds_zero','de_zero','is_bad_zero']].head(20))\n",
        "\n",
        "  df = df.sort_values(by = ['meter','building_id','timestamp'])\n",
        "  df['meter_reading_prev'] = 0\n",
        "\n",
        "  #for bid in df['building_id'].unique():\n",
        "  #  for met in df['meter'].unique():\n",
        "  df['meter_reading_prev'] = df['meter_reading'].shift()\n",
        "  df['is_equal_prev']= (df['meter_reading_prev'] == df['meter_reading'] )*1\n",
        "\n",
        "  df['day'] = df['timestamp'].dt.dayofyear\n",
        "  df_bad_rows = df.groupby(by=['building_id','day','meter'], as_index = False)['is_equal_prev'].mean()\n",
        "  df_bad_rows.rename({\"is_equal_prev\": \"IS_BAD_PRCNT\"}, axis='columns', inplace=True)\n",
        "\n",
        "  df = pd.merge(df, df_bad_rows, how = 'inner', on = ['building_id','day','meter'])\n",
        "  #print(df_bad_rows[df_bad_rows['building_id']==109].head(365))\n",
        "  del df_bad_rows \n",
        "\n",
        "  #print(df[df['building_id']==2][['timestamp','meter_reading','is_equal_prev','IS_BAD_PRCNT','day']].head(30))"
      ],
      "execution_count": 0,
      "outputs": []
    },
    {
      "cell_type": "code",
      "metadata": {
        "id": "g52hlFMS2cpu",
        "colab_type": "code",
        "colab": {}
      },
      "source": [
        "# Добавление медианы по метрике постройки\n",
        "if 1==1:\n",
        "  df_median = df.groupby(by=['building_id','meter'])['meter_reading'].median()\n",
        "  df_median.name = 'building_meter_median'\n",
        "  df = pd.merge(df, df_median, how = 'inner', on = ['building_id','meter'])\n",
        "  del df_median \n",
        "\n",
        "# Добавление медианы по часу, по неделе, метрике постройки\n",
        "if 1==1:\n",
        "  df['hour'] = df['timestamp'].dt.hour\n",
        "  df_median = df.groupby(by=['building_id','hour','meter'])['meter_reading'].median()\n",
        "  df_median.name = 'building_meter_hour_median'\n",
        "  df = pd.merge(df, df_median, how = 'inner', on = ['building_id','hour','meter'])\n",
        "  del df_median \n",
        "\n",
        "  df['weekday'] = df['timestamp'].dt.weekday\n",
        "  df_median = df.groupby(by=['building_id','weekday','meter'])['meter_reading'].median()\n",
        "  df_median.name = 'building_meter_weekday_median'\n",
        "  df = pd.merge(df, df_median, how = 'inner', on = ['building_id','weekday','meter'])\n",
        "  del df_median \n",
        "\n",
        "#Подстановка параметров сооружения\n",
        "if 1==1:\n",
        "  building_df = pd.read_csv(DIR + \"building_metadata.csv\", engine = 'python')\n",
        "  from sklearn.preprocessing import LabelEncoder\n",
        "  le = LabelEncoder()\n",
        "  building_df[\"primary_use_ID\"] = le.fit_transform(building_df[\"primary_use\"])\n",
        "\n",
        "  building_df['primary_use'] = building_df['primary_use'].astype('category')\n",
        "  building_df = pd.get_dummies(building_df)\n",
        "\n",
        "  df = df.merge(building_df, left_on = \"building_id\", right_on = \"building_id\", how = \"left\")\n",
        "  df.head(5)\n",
        "  del building_df"
      ],
      "execution_count": 0,
      "outputs": []
    },
    {
      "cell_type": "code",
      "metadata": {
        "id": "MIDKj_YCb_bD",
        "colab_type": "code",
        "colab": {}
      },
      "source": [
        "#Вставка данных погоды\n",
        "#Восстановление пустых данных погоды через соседей по линейной инетрполяции\n",
        "if 1==1:\n",
        "  df_weather = pd.read_csv(DIR + \"weather_train.csv\", engine = 'python')\n",
        "  df_weather['timestamp'] = pd.to_datetime(df_weather['timestamp'])\n",
        "  #weather_train.groupby('site_id').apply(lambda group: group.isna().sum())\n",
        "  df_weather = df_weather.groupby('site_id').apply(lambda group: group.interpolate(limit_direction='both'))\n",
        "  df = pd.merge(df, df_weather, how = 'left', on = ['site_id','timestamp'])\n",
        "  del df_weather"
      ],
      "execution_count": 0,
      "outputs": []
    },
    {
      "cell_type": "code",
      "metadata": {
        "id": "8vojXrtAOc0t",
        "colab_type": "code",
        "outputId": "ebbb1fb0-2ee9-4323-e7fb-8e9eea322059",
        "colab": {
          "base_uri": "https://localhost:8080/",
          "height": 86
        }
      },
      "source": [
        "#Инфо о корявости данных:\n",
        "if 1==1:\n",
        "  print('0 Всего:',df[df['meter']==0].shape, 'Откинуть:', df[(df['meter']==0) & (df['IS_BAD_PRCNT']>0.45)].shape)\n",
        "  print('1 Всего:',df[df['meter']==1].shape, 'Откинуть:', df[(df['meter']==1) & (df['IS_BAD_PRCNT']>0.75)].shape)\n",
        "  print('2 Всего:',df[df['meter']==2].shape, 'Откинуть:', df[(df['meter']==2) & (df['IS_BAD_PRCNT']>0.75)].shape)\n",
        "  print('3 Всего:',df[df['meter']==3].shape, 'Откинуть:', df[(df['meter']==3) & (df['IS_BAD_PRCNT']>0.75)].shape)"
      ],
      "execution_count": 0,
      "outputs": [
        {
          "output_type": "stream",
          "text": [
            "0 Всего: (12060910, 47) Откинуть: (1401057, 47)\n",
            "1 Всего: (4182440, 47) Откинуть: (537615, 47)\n",
            "2 Всего: (2708713, 47) Откинуть: (223436, 47)\n",
            "3 Всего: (1264037, 47) Откинуть: (311410, 47)\n"
          ],
          "name": "stdout"
        }
      ]
    },
    {
      "cell_type": "code",
      "metadata": {
        "id": "TmQtkGKQCueL",
        "colab_type": "code",
        "colab": {}
      },
      "source": [
        "#Вывести кол-во пустот по полям. Затем заполнить из средним значением по полю\n",
        "\n",
        "for col in df.columns:\n",
        "  print(col)\n",
        "  for met in df['meter'].unique():\n",
        "    if np.sum(df[col].isnull()) > 0:\n",
        "      print(met)\n",
        "      print(np.sum(df[col].isnull()))\n",
        "\n",
        "      df_col = df.groupby(by=['building_id','meter'], as_index = False)[col].mean()\n",
        "      df_col.rename({col: \"tmp\"}, axis='columns', inplace=True)\n",
        "      df = df.merge(df_col, left_on = ['building_id','meter'], right_on = ['building_id','meter'], how = \"left\")\n",
        "      df[col].fillna( df_col['tmp'], inplace = True)\n",
        "      df.drop(columns = ['tmp'],inplace = True)\n",
        "      del df_col\n",
        "\n",
        "      df_col = df.groupby(by=['meter'], as_index = False)[col].mean()\n",
        "      df_col.rename({col: \"tmp\"}, axis='columns', inplace=True)\n",
        "      df = df.merge(df_col, left_on = ['meter'], right_on = ['meter'], how = \"left\")\n",
        "      df[col].fillna( df_col['tmp'], inplace = True)\n",
        "      df.drop(columns = ['tmp'],inplace = True)\n",
        "      del df_col\n",
        "\n",
        "      df[col].fillna( df[col].mean(), inplace = True)\n"
      ],
      "execution_count": 0,
      "outputs": []
    },
    {
      "cell_type": "code",
      "metadata": {
        "id": "DxPaU99v4PI-",
        "colab_type": "code",
        "colab": {}
      },
      "source": [
        "#df.to_feather(DIR + 'DF_TRAIN_EXTENDED.FTHR')\n",
        "#df = pd.read_feather(DIR + 'DF_TRAIN_EXTENDED.FTHR')\n",
        "#reduce_mem_usage(df)\n",
        "#df.to_feather(DIR + 'DF_TRAIN_REDUCED.FTHR')"
      ],
      "execution_count": 0,
      "outputs": []
    },
    {
      "cell_type": "code",
      "metadata": {
        "id": "asr3-4DHF_sx",
        "colab_type": "code",
        "colab": {}
      },
      "source": [
        "df = pd.read_feather(DIR + 'DF_TRAIN_EXTENDED.FTHR')"
      ],
      "execution_count": 0,
      "outputs": []
    },
    {
      "cell_type": "code",
      "metadata": {
        "id": "9dKU2_Eb7NFo",
        "colab_type": "code",
        "colab": {}
      },
      "source": [
        "df.describe()"
      ],
      "execution_count": 0,
      "outputs": []
    },
    {
      "cell_type": "code",
      "metadata": {
        "id": "vRnpeXMU_vu5",
        "colab_type": "code",
        "outputId": "adf6947f-a5c3-4d50-e8c7-50bbecf3e1c1",
        "colab": {
          "base_uri": "https://localhost:8080/",
          "height": 80
        }
      },
      "source": [
        "#Импорты Керас:\n",
        "if 1==1:\n",
        "  from keras.models import Sequential\n",
        "\n",
        "  from keras.layers import Dense\n",
        "  from keras.initializers import TruncatedNormal, Constant\n",
        "  from keras.regularizers import l1\n",
        "  from keras.optimizers import Adam\n",
        "  import keras.backend as K\n",
        "\n",
        "  from keras. callbacks import EarlyStopping, ReduceLROnPlateau\n",
        "  #from keras.utils import plot_model\n",
        "  from keras.losses import mean_squared_error as mse #, mean_absolute_percentage_error as mape\n",
        "\n",
        "  def RMSLE(y_true, y_pred):\n",
        "    return K.pow( K.mean( K.pow(K.log(y_true+1) - K.log(y_pred+1),2.00000)),0.5000)\n",
        "\n",
        "  def tweedieloss(y_true, y_pred):\n",
        "      return K.mean(  K.pow(    K.pow(backend.maximum(0.000,K.maximum(0.013000,y_true)),0.5)  -   K.pow(K.maximum(0.013000,y_pred),0.5)   , 2 ) / K.pow(K.maximum(0.013000,y_pred),0.5)\n",
        "                  )\n",
        "\n",
        "  def tweedieloss_bkp(y_true, y_pred):\n",
        "      p=1.5\n",
        "      dev = 2 * (K.pow(K.maximum(0.000,y_true), 2-p)/((1-p) * (2-p)) -\n",
        "                    y_true * K.pow(y_pred, 1-p)/(1-p) +\n",
        "                    K.pow(y_pred, 2-p)/(2-p))\n",
        "      return K.mean(dev)\n",
        "\n",
        "  def VAL_ (y_true, y_pred):\n",
        "      return  K.maximum(0.0330000, K.sum(y_pred))/ K.maximum(0.033000, K.sum(y_true)) \n",
        "      \n",
        "  def VAL_2 (y_true, y_pred):\n",
        "      return  K.exp ( K.abs( K.log( VAL_ (y_true, y_pred))))-1\n",
        "      \n",
        "  def MAPE_ (y_true, y_pred):\n",
        "      return K.mean( K.minimum( 5.000000,  K.abs(y_true - y_pred)/ K.maximum(0.033000, y_true)) )\n",
        "      \n",
        "  def MAE_(y_true, y_pred):\n",
        "      return K.sum( K.abs(y_true - y_pred))/ K.maximum(0.033000, K.sum(y_true))\n",
        "\n",
        "  def MSE_(y_true, y_pred):\n",
        "      return K.sum( K.pow(y_true - y_pred,2.00000))/ K.maximum(0.033000,  K.sum(K.pow(y_true,2.00000)))\n",
        "\n",
        "  def MAE_MAPE(y_true, y_pred):\n",
        "      return (\n",
        "                        MAE_(y_true, y_pred)\n",
        "          +  0.250000 * MAPE_ (y_true, y_pred)\n",
        "      )\n",
        "              \n",
        "  def MAE_VAL_MAPE(y_true, y_pred):\n",
        "      return (\n",
        "                        MAE_(y_true, y_pred)\n",
        "          + 1.800000 *   VAL_2 (y_true, y_pred)          \n",
        "          + 0.950000 *   MAPE_ (y_true, y_pred)\n",
        "          )\n",
        "\n",
        "  def MAE_VAL(y_true, y_pred):\n",
        "      return (\n",
        "                        MAE_(y_true, y_pred)\n",
        "          + 0.800000 *   VAL_2 (y_true, y_pred)                     \n",
        "              )\n",
        "\n",
        "  def MAPE_VAL(y_true, y_pred):\n",
        "      return (\n",
        "                      MAPE_ (y_true, y_pred)\n",
        "          + 0.4000 *  VAL_2 (y_true, y_pred)             \n",
        "              )\n",
        "\n",
        "  def MSE_VAL_MAPE(y_true, y_pred):\n",
        "      return (\n",
        "            5.000000 *   MSE_(y_true, y_pred)\n",
        "          + 2.200000 *   VAL_2 (y_true, y_pred)          \n",
        "          + 0.750000 *   MAPE_ (y_true, y_pred)\n",
        "          )\n",
        "\n",
        "  def MASPE_VAL(y_true, y_pred):\n",
        "      return (\n",
        "                        MAE_(y_true, y_pred)               \n",
        "          + 0.500000 *   MSE_(y_true, y_pred)\n",
        "          + 1.200000 *   VAL_2 (y_true, y_pred)          \n",
        "          + 0.250000 *   MAPE_ (y_true, y_pred)\n",
        "          )\n",
        "  \n",
        "  def MAE_RMSLE(y_true, y_pred):\n",
        "      return (\n",
        "            1.000000 *   MAE_   (y_true, y_pred)\n",
        "          + 2.000000 *   RMSLE  (y_true, y_pred)          \n",
        "          )  \n",
        "\n",
        "  import keras.metrics\n",
        "  keras.metrics.MAE_ = MAE_\n",
        "  keras.metrics.VAL_ = VAL_\n",
        "  keras.metrics.VAL_2 = VAL_2\n",
        "  keras.metrics.MAPE_ = MAPE_\n",
        "  keras.metrics.MSE_ = MSE_\n",
        "  keras.metrics.tweedieloss = tweedieloss\n",
        "\n",
        "  import keras.losses\n",
        "  keras.losses.MAE_VAL_MAPE = MAE_VAL_MAPE\n",
        "  keras.losses.MSE_VAL_MAPE = MSE_VAL_MAPE\n",
        "  keras.losses.MAE_ = MAE_\n",
        "  keras.losses.MASPE_VAL = MASPE_VAL\n",
        "  keras.losses.tweedieloss = tweedieloss"
      ],
      "execution_count": 35,
      "outputs": [
        {
          "output_type": "stream",
          "text": [
            "Using TensorFlow backend.\n"
          ],
          "name": "stderr"
        },
        {
          "output_type": "display_data",
          "data": {
            "text/html": [
              "<p style=\"color: red;\">\n",
              "The default version of TensorFlow in Colab will soon switch to TensorFlow 2.x.<br>\n",
              "We recommend you <a href=\"https://www.tensorflow.org/guide/migrate\" target=\"_blank\">upgrade</a> now \n",
              "or ensure your notebook will continue to use TensorFlow 1.x via the <code>%tensorflow_version 1.x</code> magic:\n",
              "<a href=\"https://colab.research.google.com/notebooks/tensorflow_version.ipynb\" target=\"_blank\">more info</a>.</p>\n"
            ],
            "text/plain": [
              "<IPython.core.display.HTML object>"
            ]
          },
          "metadata": {
            "tags": []
          }
        }
      ]
    },
    {
      "cell_type": "code",
      "metadata": {
        "id": "hfToQh4ArZ3R",
        "colab_type": "code",
        "colab": {
          "base_uri": "https://localhost:8080/",
          "height": 238
        },
        "outputId": "ba03ceeb-c98f-4d54-cd49-10538fdebf24"
      },
      "source": [
        "df.columns"
      ],
      "execution_count": 36,
      "outputs": [
        {
          "output_type": "execute_result",
          "data": {
            "text/plain": [
              "Index(['building_id', 'meter', 'timestamp', 'meter_reading', 'hour_cos', 'hour_sin', 'weekday_cos',\n",
              "       'weekday_sin', 'week_cos', 'week_sin', 'meter_reading_prev', 'is_equal_prev', 'day',\n",
              "       'IS_BAD_PRCNT', 'building_meter_median', 'hour', 'building_meter_hour_median', 'weekday',\n",
              "       'building_meter_weekday_median', 'site_id', 'square_feet', 'year_built', 'floor_count',\n",
              "       'primary_use_ID', 'primary_use_Education', 'primary_use_Entertainment/public assembly',\n",
              "       'primary_use_Food sales and service', 'primary_use_Healthcare',\n",
              "       'primary_use_Lodging/residential', 'primary_use_Manufacturing/industrial',\n",
              "       'primary_use_Office', 'primary_use_Other', 'primary_use_Parking',\n",
              "       'primary_use_Public services', 'primary_use_Religious worship', 'primary_use_Retail',\n",
              "       'primary_use_Services', 'primary_use_Technology/science', 'primary_use_Utility',\n",
              "       'primary_use_Warehouse/storage', 'air_temperature', 'cloud_coverage', 'dew_temperature',\n",
              "       'precip_depth_1_hr', 'sea_level_pressure', 'wind_direction', 'wind_speed'],\n",
              "      dtype='object')"
            ]
          },
          "metadata": {
            "tags": []
          },
          "execution_count": 36
        }
      ]
    },
    {
      "cell_type": "code",
      "metadata": {
        "id": "N_Em3Xm6rdeV",
        "colab_type": "code",
        "colab": {}
      },
      "source": [
        "Out_Columns = 'meter_reading'\n",
        "In_Columns = [ 'hour_cos','hour_sin', 'weekday_cos', 'weekday_sin', 'week_cos', 'week_sin',\n",
        "       'site_id', 'square_feet', 'year_built', 'floor_count', #'primary_use_ID',\n",
        "       'primary_use_Education', 'primary_use_Entertainment/public assembly',\n",
        "       'primary_use_Food sales and service', 'primary_use_Healthcare',\n",
        "       'primary_use_Lodging/residential',\n",
        "       'primary_use_Manufacturing/industrial', 'primary_use_Office',\n",
        "       'primary_use_Other', 'primary_use_Parking',\n",
        "       'primary_use_Public services', 'primary_use_Religious worship',\n",
        "       'primary_use_Retail', 'primary_use_Services',\n",
        "       'primary_use_Technology/science', 'primary_use_Utility',\n",
        "       'primary_use_Warehouse/storage', 'air_temperature', 'cloud_coverage',\n",
        "       'dew_temperature', 'precip_depth_1_hr', 'sea_level_pressure',\n",
        "       'wind_direction', 'wind_speed'\n",
        "       , 'building_meter_median','building_meter_hour_median','building_meter_weekday_median']\n",
        "# Нормализация\n",
        "if 1==1:\n",
        "  from sklearn.preprocessing import StandardScaler, MinMaxScaler, RobustScaler, OneHotEncoder\n",
        "  scaler =  MinMaxScaler (copy=True, feature_range=(0, 1))                                  #quantile_range  = (15.0,85.0)) #Normalizer #(copy=True, feature_range=(-1, 1)) # MinMaxScaler(copy=True, feature_range=(-1, 1)) #StandardScaler() #MinMaxScaler(copy=True, feature_range=(-1, 1)) # RobustScaler()\n",
        "  scaler.fit( df[In_Columns] )\n",
        "  df[In_Columns]     = pd.DataFrame(data = scaler.transform( df[In_Columns])    , columns = df[In_Columns].columns   , index=df.index) \n",
        "\n",
        "  df.fillna(0.33)"
      ],
      "execution_count": 0,
      "outputs": []
    },
    {
      "cell_type": "code",
      "metadata": {
        "id": "aup6pDdkDoZZ",
        "colab_type": "code",
        "outputId": "fba37beb-e189-41a8-d50f-572bac8524c5",
        "colab": {
          "base_uri": "https://localhost:8080/",
          "height": 1000
        }
      },
      "source": [
        "#0: electricity, 1: chilledwater, 2: steam, 3: hotwater\n",
        "# РАСЧЁТ НЕЙРОНОК:\n",
        "if 1==1:\n",
        "  reg = 0.00001\n",
        "  batch_size = 2048\n",
        "  epochs = 50\n",
        "\n",
        "  earlyStopping = EarlyStopping(monitor='loss', patience=100, verbose=1, mode='min')\n",
        "  reduce_lr_loss = ReduceLROnPlateau(monitor='loss', factor=0.3, patience=5, verbose=1, min_delta=1e-3, mode='min')\n",
        "\n",
        "  init = TruncatedNormal(mean=0.0, stddev=0.05, seed=159)\n",
        "  bias = Constant(value = 1e-3)\n",
        "  \n",
        "  if 0==0:\n",
        "    meter = 0\n",
        "    opt = Adam(lr = 0.003)\n",
        "\n",
        "    nn_0 = Sequential()\n",
        "    nn_0.add(Dense(60, input_shape = df[In_Columns].shape[1:], activation = 'tanh', kernel_regularizer=l1(reg), kernel_initializer = 'normal'))\n",
        "    nn_0.add(Dense(60, activation = 'tanh',  kernel_initializer = 'normal'))\n",
        "    nn_0.add(Dense(1, activation = 'relu', kernel_initializer = 'normal'))\n",
        "\n",
        "    nn_0.compile(optimizer = opt, loss = MAE_RMSLE, metrics=[ MAE_, RMSLE, VAL_, 'mse' ])\n",
        "    \n",
        "    val = df[(df['meter']==meter) & (df['day']%6==0)]\n",
        "    hist = nn_0.fit( df[(df['meter']==meter) & (df['IS_BAD_PRCNT']<0.45)][In_Columns], df[(df['meter']==meter) & (df['IS_BAD_PRCNT']<0.45)][Out_Columns], batch_size = batch_size, verbose = 1\n",
        "                    , epochs = epochs, shuffle = True, callbacks=[earlyStopping, reduce_lr_loss]\n",
        "                    , validation_data=(val[In_Columns], val[Out_Columns])\n",
        "                    ) "
      ],
      "execution_count": 39,
      "outputs": [
        {
          "output_type": "stream",
          "text": [
            "WARNING:tensorflow:From /usr/local/lib/python3.6/dist-packages/keras/backend/tensorflow_backend.py:66: The name tf.get_default_graph is deprecated. Please use tf.compat.v1.get_default_graph instead.\n",
            "\n",
            "WARNING:tensorflow:From /usr/local/lib/python3.6/dist-packages/keras/backend/tensorflow_backend.py:541: The name tf.placeholder is deprecated. Please use tf.compat.v1.placeholder instead.\n",
            "\n",
            "WARNING:tensorflow:From /usr/local/lib/python3.6/dist-packages/keras/backend/tensorflow_backend.py:4409: The name tf.random_normal is deprecated. Please use tf.random.normal instead.\n",
            "\n",
            "WARNING:tensorflow:From /usr/local/lib/python3.6/dist-packages/keras/optimizers.py:793: The name tf.train.Optimizer is deprecated. Please use tf.compat.v1.train.Optimizer instead.\n",
            "\n",
            "WARNING:tensorflow:From /usr/local/lib/python3.6/dist-packages/keras/backend/tensorflow_backend.py:1702: The name tf.log is deprecated. Please use tf.math.log instead.\n",
            "\n",
            "WARNING:tensorflow:From /usr/local/lib/python3.6/dist-packages/tensorflow_core/python/ops/math_grad.py:1375: where (from tensorflow.python.ops.array_ops) is deprecated and will be removed in a future version.\n",
            "Instructions for updating:\n",
            "Use tf.where in 2.0, which has the same broadcast rule as np.where\n",
            "WARNING:tensorflow:From /usr/local/lib/python3.6/dist-packages/keras/backend/tensorflow_backend.py:1033: The name tf.assign_add is deprecated. Please use tf.compat.v1.assign_add instead.\n",
            "\n",
            "WARNING:tensorflow:From /usr/local/lib/python3.6/dist-packages/keras/backend/tensorflow_backend.py:1020: The name tf.assign is deprecated. Please use tf.compat.v1.assign instead.\n",
            "\n",
            "WARNING:tensorflow:From /usr/local/lib/python3.6/dist-packages/keras/backend/tensorflow_backend.py:3005: The name tf.Session is deprecated. Please use tf.compat.v1.Session instead.\n",
            "\n",
            "Train on 10659833 samples, validate on 2010873 samples\n",
            "Epoch 1/50\n",
            "WARNING:tensorflow:From /usr/local/lib/python3.6/dist-packages/keras/backend/tensorflow_backend.py:190: The name tf.get_default_session is deprecated. Please use tf.compat.v1.get_default_session instead.\n",
            "\n",
            "WARNING:tensorflow:From /usr/local/lib/python3.6/dist-packages/keras/backend/tensorflow_backend.py:197: The name tf.ConfigProto is deprecated. Please use tf.compat.v1.ConfigProto instead.\n",
            "\n",
            "WARNING:tensorflow:From /usr/local/lib/python3.6/dist-packages/keras/backend/tensorflow_backend.py:207: The name tf.global_variables is deprecated. Please use tf.compat.v1.global_variables instead.\n",
            "\n",
            "WARNING:tensorflow:From /usr/local/lib/python3.6/dist-packages/keras/backend/tensorflow_backend.py:216: The name tf.is_variable_initialized is deprecated. Please use tf.compat.v1.is_variable_initialized instead.\n",
            "\n",
            "WARNING:tensorflow:From /usr/local/lib/python3.6/dist-packages/keras/backend/tensorflow_backend.py:223: The name tf.variables_initializer is deprecated. Please use tf.compat.v1.variables_initializer instead.\n",
            "\n",
            "10659833/10659833 [==============================] - 47s 4us/step - loss: 2.7546 - MAE_: 0.6821 - RMSLE: 1.0324 - VAL_: 0.4012 - mean_squared_error: 109850.6631 - val_loss: 2.3410 - val_MAE_: 0.5163 - val_RMSLE: 0.9058 - val_VAL_: 1.0713 - val_mean_squared_error: 124835.0603\n",
            "Epoch 2/50\n",
            "10659833/10659833 [==============================] - 40s 4us/step - loss: 1.5913 - MAE_: 0.4594 - RMSLE: 0.5590 - VAL_: 0.6117 - mean_squared_error: 84076.0740 - val_loss: 1.8678 - val_MAE_: 0.3446 - val_RMSLE: 0.7543 - val_VAL_: 0.8959 - val_mean_squared_error: 112861.4413\n",
            "Epoch 3/50\n",
            "10659833/10659833 [==============================] - 39s 4us/step - loss: 1.4269 - MAE_: 0.4033 - RMSLE: 0.5042 - VAL_: 0.6729 - mean_squared_error: 75374.0565 - val_loss: 1.8593 - val_MAE_: 0.3374 - val_RMSLE: 0.7531 - val_VAL_: 0.9630 - val_mean_squared_error: 106538.1568\n",
            "Epoch 4/50\n",
            "10659833/10659833 [==============================] - 39s 4us/step - loss: 1.3374 - MAE_: 0.3706 - RMSLE: 0.4754 - VAL_: 0.7081 - mean_squared_error: 70146.8556 - val_loss: 1.7965 - val_MAE_: 0.3163 - val_RMSLE: 0.7320 - val_VAL_: 0.9433 - val_mean_squared_error: 102156.4074\n",
            "Epoch 5/50\n",
            "10659833/10659833 [==============================] - 39s 4us/step - loss: 1.2780 - MAE_: 0.3482 - RMSLE: 0.4567 - VAL_: 0.7325 - mean_squared_error: 66347.0145 - val_loss: 1.7798 - val_MAE_: 0.3092 - val_RMSLE: 0.7270 - val_VAL_: 0.9802 - val_mean_squared_error: 98805.1434\n",
            "Epoch 6/50\n",
            "10659833/10659833 [==============================] - 39s 4us/step - loss: 1.2364 - MAE_: 0.3317 - RMSLE: 0.4440 - VAL_: 0.7503 - mean_squared_error: 63392.5572 - val_loss: 1.7446 - val_MAE_: 0.3003 - val_RMSLE: 0.7138 - val_VAL_: 0.9400 - val_mean_squared_error: 96118.9057\n",
            "Epoch 7/50\n",
            "10659833/10659833 [==============================] - 39s 4us/step - loss: 1.2018 - MAE_: 0.3192 - RMSLE: 0.4330 - VAL_: 0.7643 - mean_squared_error: 60977.8643 - val_loss: 1.7226 - val_MAE_: 0.2898 - val_RMSLE: 0.7081 - val_VAL_: 0.9534 - val_mean_squared_error: 93789.9643\n",
            "Epoch 8/50\n",
            "10659833/10659833 [==============================] - 39s 4us/step - loss: 1.1741 - MAE_: 0.3090 - RMSLE: 0.4243 - VAL_: 0.7758 - mean_squared_error: 58879.9842 - val_loss: 1.7284 - val_MAE_: 0.2912 - val_RMSLE: 0.7104 - val_VAL_: 0.9887 - val_mean_squared_error: 91742.7297\n",
            "Epoch 9/50\n",
            "10659833/10659833 [==============================] - 39s 4us/step - loss: 1.1490 - MAE_: 0.3001 - RMSLE: 0.4162 - VAL_: 0.7857 - mean_squared_error: 57006.5624 - val_loss: 1.7664 - val_MAE_: 0.3040 - val_RMSLE: 0.7229 - val_VAL_: 1.0318 - val_mean_squared_error: 89893.1065\n",
            "Epoch 10/50\n",
            "10659833/10659833 [==============================] - 40s 4us/step - loss: 1.1300 - MAE_: 0.2925 - RMSLE: 0.4105 - VAL_: 0.7944 - mean_squared_error: 55348.5336 - val_loss: 1.7212 - val_MAE_: 0.2895 - val_RMSLE: 0.7075 - val_VAL_: 1.0039 - val_mean_squared_error: 88317.7665\n",
            "Epoch 11/50\n",
            "10659833/10659833 [==============================] - 39s 4us/step - loss: 1.1114 - MAE_: 0.2855 - RMSLE: 0.4045 - VAL_: 0.8020 - mean_squared_error: 53854.6937 - val_loss: 1.7282 - val_MAE_: 0.2885 - val_RMSLE: 0.7114 - val_VAL_: 1.0194 - val_mean_squared_error: 86839.0284\n",
            "Epoch 12/50\n",
            "10659833/10659833 [==============================] - 39s 4us/step - loss: 1.0969 - MAE_: 0.2792 - RMSLE: 0.4004 - VAL_: 0.8090 - mean_squared_error: 52461.3335 - val_loss: 1.7076 - val_MAE_: 0.2850 - val_RMSLE: 0.7028 - val_VAL_: 0.9928 - val_mean_squared_error: 85360.3868\n",
            "Epoch 13/50\n",
            "10659833/10659833 [==============================] - 39s 4us/step - loss: 1.0850 - MAE_: 0.2738 - RMSLE: 0.3970 - VAL_: 0.8151 - mean_squared_error: 51236.2502 - val_loss: 1.6797 - val_MAE_: 0.2733 - val_RMSLE: 0.6946 - val_VAL_: 0.9506 - val_mean_squared_error: 84163.5268\n",
            "Epoch 14/50\n",
            "10659833/10659833 [==============================] - 39s 4us/step - loss: 1.0738 - MAE_: 0.2689 - RMSLE: 0.3938 - VAL_: 0.8204 - mean_squared_error: 50133.2652 - val_loss: 1.6746 - val_MAE_: 0.2723 - val_RMSLE: 0.6925 - val_VAL_: 0.9714 - val_mean_squared_error: 82987.5976\n",
            "Epoch 15/50\n",
            "10659833/10659833 [==============================] - 40s 4us/step - loss: 1.0641 - MAE_: 0.2645 - RMSLE: 0.3912 - VAL_: 0.8251 - mean_squared_error: 49116.3058 - val_loss: 1.6802 - val_MAE_: 0.2719 - val_RMSLE: 0.6955 - val_VAL_: 0.9522 - val_mean_squared_error: 81908.7123\n",
            "Epoch 16/50\n",
            "10659833/10659833 [==============================] - 40s 4us/step - loss: 1.0541 - MAE_: 0.2602 - RMSLE: 0.3883 - VAL_: 0.8296 - mean_squared_error: 48163.9035 - val_loss: 1.6937 - val_MAE_: 0.2759 - val_RMSLE: 0.7003 - val_VAL_: 1.0165 - val_mean_squared_error: 80978.6717\n",
            "Epoch 17/50\n",
            "10659833/10659833 [==============================] - 39s 4us/step - loss: 1.0459 - MAE_: 0.2563 - RMSLE: 0.3861 - VAL_: 0.8337 - mean_squared_error: 47271.8498 - val_loss: 1.6598 - val_MAE_: 0.2671 - val_RMSLE: 0.6877 - val_VAL_: 0.9678 - val_mean_squared_error: 79962.6032\n",
            "Epoch 18/50\n",
            "10659833/10659833 [==============================] - 41s 4us/step - loss: 1.0377 - MAE_: 0.2526 - RMSLE: 0.3839 - VAL_: 0.8375 - mean_squared_error: 46429.7454 - val_loss: 1.7118 - val_MAE_: 0.2820 - val_RMSLE: 0.7063 - val_VAL_: 1.0237 - val_mean_squared_error: 79061.4731\n",
            "Epoch 19/50\n",
            "10659833/10659833 [==============================] - 41s 4us/step - loss: 1.0300 - MAE_: 0.2491 - RMSLE: 0.3818 - VAL_: 0.8412 - mean_squared_error: 45632.8705 - val_loss: 1.7061 - val_MAE_: 0.2810 - val_RMSLE: 0.7040 - val_VAL_: 1.0194 - val_mean_squared_error: 78266.2220\n",
            "Epoch 20/50\n",
            "10659833/10659833 [==============================] - 40s 4us/step - loss: 1.0236 - MAE_: 0.2460 - RMSLE: 0.3802 - VAL_: 0.8447 - mean_squared_error: 44897.8278 - val_loss: 1.6740 - val_MAE_: 0.2707 - val_RMSLE: 0.6931 - val_VAL_: 0.9998 - val_mean_squared_error: 77519.0936\n",
            "Epoch 21/50\n",
            "10659833/10659833 [==============================] - 40s 4us/step - loss: 1.0173 - MAE_: 0.2430 - RMSLE: 0.3786 - VAL_: 0.8480 - mean_squared_error: 44201.0511 - val_loss: 1.6879 - val_MAE_: 0.2744 - val_RMSLE: 0.6981 - val_VAL_: 1.0260 - val_mean_squared_error: 76755.2106\n",
            "Epoch 22/50\n",
            "10659833/10659833 [==============================] - 40s 4us/step - loss: 1.0109 - MAE_: 0.2401 - RMSLE: 0.3768 - VAL_: 0.8512 - mean_squared_error: 43538.6764 - val_loss: 1.6420 - val_MAE_: 0.2613 - val_RMSLE: 0.6818 - val_VAL_: 0.9706 - val_mean_squared_error: 76057.3274\n",
            "Epoch 23/50\n",
            "10659833/10659833 [==============================] - 39s 4us/step - loss: 1.0058 - MAE_: 0.2375 - RMSLE: 0.3756 - VAL_: 0.8541 - mean_squared_error: 42906.5098 - val_loss: 1.6414 - val_MAE_: 0.2603 - val_RMSLE: 0.6820 - val_VAL_: 0.9917 - val_mean_squared_error: 75427.4003\n",
            "Epoch 24/50\n",
            "10659833/10659833 [==============================] - 39s 4us/step - loss: 1.0005 - MAE_: 0.2350 - RMSLE: 0.3742 - VAL_: 0.8569 - mean_squared_error: 42319.6281 - val_loss: 1.6493 - val_MAE_: 0.2619 - val_RMSLE: 0.6852 - val_VAL_: 0.9875 - val_mean_squared_error: 74791.3330\n",
            "Epoch 25/50\n",
            "10659833/10659833 [==============================] - 39s 4us/step - loss: 0.9951 - MAE_: 0.2326 - RMSLE: 0.3728 - VAL_: 0.8597 - mean_squared_error: 41755.7298 - val_loss: 1.6384 - val_MAE_: 0.2594 - val_RMSLE: 0.6810 - val_VAL_: 0.9637 - val_mean_squared_error: 74140.9839\n",
            "Epoch 26/50\n",
            "10659833/10659833 [==============================] - 40s 4us/step - loss: 0.9900 - MAE_: 0.2303 - RMSLE: 0.3714 - VAL_: 0.8622 - mean_squared_error: 41222.9073 - val_loss: 1.6436 - val_MAE_: 0.2604 - val_RMSLE: 0.6832 - val_VAL_: 0.9800 - val_mean_squared_error: 73625.8748\n",
            "Epoch 27/50\n",
            "10659833/10659833 [==============================] - 39s 4us/step - loss: 0.9858 - MAE_: 0.2282 - RMSLE: 0.3704 - VAL_: 0.8647 - mean_squared_error: 40708.9983 - val_loss: 1.6456 - val_MAE_: 0.2615 - val_RMSLE: 0.6836 - val_VAL_: 0.9866 - val_mean_squared_error: 73052.2923\n",
            "Epoch 28/50\n",
            "10659833/10659833 [==============================] - 39s 4us/step - loss: 0.9814 - MAE_: 0.2262 - RMSLE: 0.3692 - VAL_: 0.8669 - mean_squared_error: 40229.4344 - val_loss: 1.6583 - val_MAE_: 0.2656 - val_RMSLE: 0.6880 - val_VAL_: 0.9588 - val_mean_squared_error: 72436.0112\n",
            "Epoch 29/50\n",
            "10659833/10659833 [==============================] - 39s 4us/step - loss: 0.9775 - MAE_: 0.2244 - RMSLE: 0.3682 - VAL_: 0.8690 - mean_squared_error: 39771.8109 - val_loss: 1.6306 - val_MAE_: 0.2562 - val_RMSLE: 0.6789 - val_VAL_: 0.9875 - val_mean_squared_error: 71892.6886\n",
            "Epoch 30/50\n",
            "10659833/10659833 [==============================] - 40s 4us/step - loss: 0.9743 - MAE_: 0.2226 - RMSLE: 0.3675 - VAL_: 0.8710 - mean_squared_error: 39342.7552 - val_loss: 1.6444 - val_MAE_: 0.2594 - val_RMSLE: 0.6842 - val_VAL_: 1.0211 - val_mean_squared_error: 71576.7357\n",
            "Epoch 31/50\n",
            "10659833/10659833 [==============================] - 40s 4us/step - loss: 0.9707 - MAE_: 0.2211 - RMSLE: 0.3665 - VAL_: 0.8729 - mean_squared_error: 38935.6496 - val_loss: 1.6408 - val_MAE_: 0.2601 - val_RMSLE: 0.6821 - val_VAL_: 0.9919 - val_mean_squared_error: 70994.8301\n",
            "Epoch 32/50\n",
            "10659833/10659833 [==============================] - 40s 4us/step - loss: 0.9676 - MAE_: 0.2196 - RMSLE: 0.3658 - VAL_: 0.8746 - mean_squared_error: 38545.3125 - val_loss: 1.6470 - val_MAE_: 0.2602 - val_RMSLE: 0.6852 - val_VAL_: 1.0210 - val_mean_squared_error: 70689.4378\n",
            "Epoch 33/50\n",
            "10659833/10659833 [==============================] - 40s 4us/step - loss: 0.9643 - MAE_: 0.2181 - RMSLE: 0.3648 - VAL_: 0.8763 - mean_squared_error: 38170.7857 - val_loss: 1.6295 - val_MAE_: 0.2561 - val_RMSLE: 0.6785 - val_VAL_: 0.9684 - val_mean_squared_error: 70197.4524\n",
            "Epoch 34/50\n",
            "10659833/10659833 [==============================] - 40s 4us/step - loss: 0.9601 - MAE_: 0.2167 - RMSLE: 0.3635 - VAL_: 0.8780 - mean_squared_error: 37810.4198 - val_loss: 1.6379 - val_MAE_: 0.2564 - val_RMSLE: 0.6826 - val_VAL_: 1.0212 - val_mean_squared_error: 69906.5995\n",
            "Epoch 35/50\n",
            "10659833/10659833 [==============================] - 39s 4us/step - loss: 0.9574 - MAE_: 0.2154 - RMSLE: 0.3627 - VAL_: 0.8795 - mean_squared_error: 37466.1113 - val_loss: 1.6406 - val_MAE_: 0.2604 - val_RMSLE: 0.6818 - val_VAL_: 1.0032 - val_mean_squared_error: 69465.5664\n",
            "Epoch 36/50\n",
            "10659833/10659833 [==============================] - 39s 4us/step - loss: 0.9544 - MAE_: 0.2142 - RMSLE: 0.3619 - VAL_: 0.8809 - mean_squared_error: 37136.2515 - val_loss: 1.6372 - val_MAE_: 0.2550 - val_RMSLE: 0.6829 - val_VAL_: 0.9562 - val_mean_squared_error: 69167.8542\n",
            "Epoch 37/50\n",
            "10659833/10659833 [==============================] - 39s 4us/step - loss: 0.9518 - MAE_: 0.2130 - RMSLE: 0.3612 - VAL_: 0.8823 - mean_squared_error: 36819.8435 - val_loss: 1.6491 - val_MAE_: 0.2623 - val_RMSLE: 0.6851 - val_VAL_: 1.0129 - val_mean_squared_error: 68795.5140\n",
            "Epoch 38/50\n",
            "10659833/10659833 [==============================] - 39s 4us/step - loss: 0.9493 - MAE_: 0.2118 - RMSLE: 0.3604 - VAL_: 0.8836 - mean_squared_error: 36513.1822 - val_loss: 1.6715 - val_MAE_: 0.2679 - val_RMSLE: 0.6935 - val_VAL_: 1.0384 - val_mean_squared_error: 68406.8997\n",
            "\n",
            "Epoch 00038: ReduceLROnPlateau reducing learning rate to 0.0009000000078231095.\n",
            "Epoch 39/50\n",
            "10659833/10659833 [==============================] - 39s 4us/step - loss: 0.9354 - MAE_: 0.2098 - RMSLE: 0.3546 - VAL_: 0.8845 - mean_squared_error: 36277.9143 - val_loss: 1.6166 - val_MAE_: 0.2514 - val_RMSLE: 0.6744 - val_VAL_: 1.0013 - val_mean_squared_error: 68267.2801\n",
            "Epoch 40/50\n",
            "10659833/10659833 [==============================] - 39s 4us/step - loss: 0.9338 - MAE_: 0.2092 - RMSLE: 0.3541 - VAL_: 0.8850 - mean_squared_error: 36133.7756 - val_loss: 1.6223 - val_MAE_: 0.2532 - val_RMSLE: 0.6764 - val_VAL_: 1.0054 - val_mean_squared_error: 68089.4560\n",
            "Epoch 41/50\n",
            "10659833/10659833 [==============================] - 40s 4us/step - loss: 0.9323 - MAE_: 0.2086 - RMSLE: 0.3537 - VAL_: 0.8855 - mean_squared_error: 35987.3582 - val_loss: 1.6278 - val_MAE_: 0.2557 - val_RMSLE: 0.6779 - val_VAL_: 1.0112 - val_mean_squared_error: 67900.0441\n",
            "Epoch 42/50\n",
            "10659833/10659833 [==============================] - 39s 4us/step - loss: 0.9311 - MAE_: 0.2081 - RMSLE: 0.3534 - VAL_: 0.8861 - mean_squared_error: 35846.2780 - val_loss: 1.6119 - val_MAE_: 0.2496 - val_RMSLE: 0.6730 - val_VAL_: 0.9874 - val_mean_squared_error: 67757.1481\n",
            "Epoch 43/50\n",
            "10659833/10659833 [==============================] - 39s 4us/step - loss: 0.9298 - MAE_: 0.2075 - RMSLE: 0.3531 - VAL_: 0.8867 - mean_squared_error: 35711.3191 - val_loss: 1.6132 - val_MAE_: 0.2510 - val_RMSLE: 0.6730 - val_VAL_: 0.9921 - val_mean_squared_error: 67580.5566\n",
            "Epoch 44/50\n",
            "10659833/10659833 [==============================] - 39s 4us/step - loss: 0.9284 - MAE_: 0.2070 - RMSLE: 0.3527 - VAL_: 0.8873 - mean_squared_error: 35574.0755 - val_loss: 1.6157 - val_MAE_: 0.2515 - val_RMSLE: 0.6741 - val_VAL_: 0.9983 - val_mean_squared_error: 67393.7514\n",
            "Epoch 45/50\n",
            "10659833/10659833 [==============================] - 40s 4us/step - loss: 0.9273 - MAE_: 0.2065 - RMSLE: 0.3524 - VAL_: 0.8878 - mean_squared_error: 35438.9440 - val_loss: 1.6345 - val_MAE_: 0.2554 - val_RMSLE: 0.6815 - val_VAL_: 1.0294 - val_mean_squared_error: 67344.8264\n",
            "Epoch 46/50\n",
            "10659833/10659833 [==============================] - 40s 4us/step - loss: 0.9262 - MAE_: 0.2060 - RMSLE: 0.3521 - VAL_: 0.8883 - mean_squared_error: 35308.0147 - val_loss: 1.6158 - val_MAE_: 0.2515 - val_RMSLE: 0.6742 - val_VAL_: 0.9875 - val_mean_squared_error: 67155.4515\n",
            "Epoch 47/50\n",
            "10659833/10659833 [==============================] - 40s 4us/step - loss: 0.9251 - MAE_: 0.2055 - RMSLE: 0.3518 - VAL_: 0.8888 - mean_squared_error: 35179.6222 - val_loss: 1.6163 - val_MAE_: 0.2502 - val_RMSLE: 0.6751 - val_VAL_: 1.0038 - val_mean_squared_error: 67021.3807\n",
            "\n",
            "Epoch 00047: ReduceLROnPlateau reducing learning rate to 0.00026999999536201356.\n",
            "Epoch 48/50\n",
            "10659833/10659833 [==============================] - 40s 4us/step - loss: 0.9203 - MAE_: 0.2048 - RMSLE: 0.3498 - VAL_: 0.8893 - mean_squared_error: 35082.1825 - val_loss: 1.6116 - val_MAE_: 0.2493 - val_RMSLE: 0.6732 - val_VAL_: 0.9965 - val_mean_squared_error: 66956.9252\n",
            "Epoch 49/50\n",
            "10659833/10659833 [==============================] - 40s 4us/step - loss: 0.9197 - MAE_: 0.2046 - RMSLE: 0.3496 - VAL_: 0.8895 - mean_squared_error: 35025.2082 - val_loss: 1.6110 - val_MAE_: 0.2497 - val_RMSLE: 0.6727 - val_VAL_: 0.9899 - val_mean_squared_error: 66896.1039\n",
            "Epoch 50/50\n",
            "10659833/10659833 [==============================] - 39s 4us/step - loss: 0.9192 - MAE_: 0.2044 - RMSLE: 0.3495 - VAL_: 0.8897 - mean_squared_error: 34968.9992 - val_loss: 1.6159 - val_MAE_: 0.2501 - val_RMSLE: 0.6750 - val_VAL_: 1.0100 - val_mean_squared_error: 66851.3831\n"
          ],
          "name": "stdout"
        }
      ]
    },
    {
      "cell_type": "code",
      "metadata": {
        "id": "diaTWlaXC4_H",
        "colab_type": "code",
        "colab": {
          "base_uri": "https://localhost:8080/",
          "height": 231
        },
        "outputId": "3f5a3031-3f2f-4914-86a5-345bfab8aa98"
      },
      "source": [
        " #Продолжение расчёта:\n",
        " if 9==9:\n",
        "    nn_0.optimizer.lr = 0.007\n",
        "    nn_0.compile(optimizer = opt, loss = MAE_RMSLE, metrics=[ MAE_, RMSLE, VAL_, 'mse' ])\n",
        "    batch_size = 2048\n",
        "    epochs = 10\n",
        "    \n",
        "    earlyStopping = EarlyStopping(monitor='loss', patience=100, verbose=1, mode='min',restore_best_weights = True)\n",
        "    reduce_lr_loss = ReduceLROnPlateau(monitor='loss', factor=0.3, patience=5, verbose=1, min_delta=1e-3, mode='min')\n",
        "\n",
        "    val = df[(df['meter']==meter) & (df['day']%6==0)]\n",
        "    hist = nn_0.fit( df[(df['meter']==meter) & (df['IS_BAD_PRCNT']<0.45)][In_Columns], df[(df['meter']==meter) & (df['IS_BAD_PRCNT']<0.45)][Out_Columns], batch_size = batch_size, verbose = 1\n",
        "                    , epochs = epochs, shuffle = True, callbacks=[earlyStopping, reduce_lr_loss]\n",
        "                    , validation_data=(val[In_Columns], val[Out_Columns])\n",
        "                    ) "
      ],
      "execution_count": 1,
      "outputs": [
        {
          "output_type": "error",
          "ename": "NameError",
          "evalue": "ignored",
          "traceback": [
            "\u001b[0;31m---------------------------------------------------------------------------\u001b[0m",
            "\u001b[0;31mNameError\u001b[0m                                 Traceback (most recent call last)",
            "\u001b[0;32m<ipython-input-1-b2a7a1084f3d>\u001b[0m in \u001b[0;36m<module>\u001b[0;34m()\u001b[0m\n\u001b[1;32m      1\u001b[0m \u001b[0;32mif\u001b[0m \u001b[0;36m9\u001b[0m\u001b[0;34m==\u001b[0m\u001b[0;36m9\u001b[0m\u001b[0;34m:\u001b[0m\u001b[0;34m\u001b[0m\u001b[0;34m\u001b[0m\u001b[0m\n\u001b[0;32m----> 2\u001b[0;31m    \u001b[0mnn_0\u001b[0m\u001b[0;34m.\u001b[0m\u001b[0moptimizer\u001b[0m\u001b[0;34m.\u001b[0m\u001b[0mlr\u001b[0m \u001b[0;34m=\u001b[0m \u001b[0;36m0.007\u001b[0m\u001b[0;34m\u001b[0m\u001b[0;34m\u001b[0m\u001b[0m\n\u001b[0m\u001b[1;32m      3\u001b[0m    \u001b[0mnn_0\u001b[0m\u001b[0;34m.\u001b[0m\u001b[0mcompile\u001b[0m\u001b[0;34m(\u001b[0m\u001b[0moptimizer\u001b[0m \u001b[0;34m=\u001b[0m \u001b[0mopt\u001b[0m\u001b[0;34m,\u001b[0m \u001b[0mloss\u001b[0m \u001b[0;34m=\u001b[0m \u001b[0mMAE_RMSLE\u001b[0m\u001b[0;34m,\u001b[0m \u001b[0mmetrics\u001b[0m\u001b[0;34m=\u001b[0m\u001b[0;34m[\u001b[0m \u001b[0mMAE_\u001b[0m\u001b[0;34m,\u001b[0m \u001b[0mRMSLE\u001b[0m\u001b[0;34m,\u001b[0m \u001b[0mVAL_\u001b[0m\u001b[0;34m,\u001b[0m \u001b[0;34m'mse'\u001b[0m \u001b[0;34m]\u001b[0m\u001b[0;34m)\u001b[0m\u001b[0;34m\u001b[0m\u001b[0;34m\u001b[0m\u001b[0m\n\u001b[1;32m      4\u001b[0m    \u001b[0mbatch_size\u001b[0m \u001b[0;34m=\u001b[0m \u001b[0;36m2048\u001b[0m\u001b[0;34m\u001b[0m\u001b[0;34m\u001b[0m\u001b[0m\n\u001b[1;32m      5\u001b[0m    \u001b[0mepochs\u001b[0m \u001b[0;34m=\u001b[0m \u001b[0;36m10\u001b[0m\u001b[0;34m\u001b[0m\u001b[0;34m\u001b[0m\u001b[0m\n",
            "\u001b[0;31mNameError\u001b[0m: name 'nn_0' is not defined"
          ]
        }
      ]
    },
    {
      "cell_type": "code",
      "metadata": {
        "id": "mf8-ceMw8N1q",
        "colab_type": "code",
        "colab": {}
      },
      "source": [
        "if 1==1:\n",
        "  meter = 1\n",
        "  opt = Adam(lr = 0.003)\n",
        "\n",
        "  nn_1 = Sequential()\n",
        "  nn_1.add(Dense(60, input_shape = df[In_Columns].shape[1:], activation = 'tanh', kernel_regularizer=l1(reg), kernel_initializer = 'normal'))\n",
        "  nn_1.add(Dense(60, activation = 'tanh',  kernel_initializer = 'normal'))\n",
        "  nn_1.add(Dense(1, activation = 'relu', kernel_initializer = 'normal'))\n",
        "\n",
        "  nn_1.compile(optimizer = opt, loss = MAE_RMSLE, metrics=[ MAE_, RMSLE, VAL_, 'mse' ])\n",
        "  \n",
        "  val = df[(df['meter']==meter) & (df['day']%6==0)]\n",
        "  hist = nn_1.fit( df[(df['meter']==meter) & (df['IS_BAD_PRCNT']<0.45)][In_Columns], df[(df['meter']==meter) & (df['IS_BAD_PRCNT']<0.45)][Out_Columns], batch_size = batch_size, verbose = 1\n",
        "                  , epochs = epochs, shuffle = True, callbacks=[earlyStopping, reduce_lr_loss]\n",
        "                  , validation_data=(val[In_Columns], val[Out_Columns])\n",
        "                  ) "
      ],
      "execution_count": 0,
      "outputs": []
    },
    {
      "cell_type": "code",
      "metadata": {
        "id": "hHKu4TMG8ROI",
        "colab_type": "code",
        "colab": {}
      },
      "source": [
        "if 2==2:\n",
        "  meter = 2\n",
        "  opt = Adam(lr = 0.003)\n",
        "\n",
        "  nn_2 = Sequential()\n",
        "  nn_2.add(Dense(60, input_shape = df[In_Columns].shape[1:], activation = 'tanh', kernel_regularizer=l1(reg), kernel_initializer = 'normal'))\n",
        "  nn_2.add(Dense(60, activation = 'tanh',  kernel_initializer = 'normal'))\n",
        "  nn_2.add(Dense(1, activation = 'relu', kernel_initializer = 'normal'))\n",
        "\n",
        "  nn_2.compile(optimizer = opt, loss = MAE_RMSLE, metrics=[ MAE_, RMSLE, VAL_, 'mse' ])\n",
        "  \n",
        "  val = df[(df['meter']==meter) & (df['day']%6==0)]\n",
        "  hist = nn_2.fit( df[(df['meter']==meter) & (df['IS_BAD_PRCNT']<0.45)][In_Columns], df[(df['meter']==meter) & (df['IS_BAD_PRCNT']<0.45)][Out_Columns], batch_size = batch_size, verbose = 1\n",
        "                  , epochs = epochs, shuffle = True, callbacks=[earlyStopping, reduce_lr_loss]\n",
        "                  , validation_data=(val[In_Columns], val[Out_Columns])\n",
        "                  ) "
      ],
      "execution_count": 0,
      "outputs": []
    },
    {
      "cell_type": "code",
      "metadata": {
        "id": "cdad7yTx8Uri",
        "colab_type": "code",
        "colab": {}
      },
      "source": [
        "if 3==3:\n",
        "  meter = 3\n",
        "  opt = Adam(lr = 0.003)\n",
        "\n",
        "  nn_3 = Sequential()\n",
        "  nn_3.add(Dense(60, input_shape = df[In_Columns].shape[1:], activation = 'tanh', kernel_regularizer=l1(reg), kernel_initializer = 'normal'))\n",
        "  nn_3.add(Dense(60, activation = 'tanh',  kernel_initializer = 'normal'))\n",
        "  nn_3.add(Dense(1, activation = 'relu', kernel_initializer = 'normal'))\n",
        "\n",
        "  nn_3.compile(optimizer = opt, loss = MAE_RMSLE, metrics=[ MAE_, RMSLE, VAL_, 'mse' ])\n",
        "  \n",
        "  val = df[(df['meter']==meter) & (df['day']%6==0)]\n",
        "  hist = nn_3.fit( df[(df['meter']==meter) & (df['IS_BAD_PRCNT']<0.45)][In_Columns], df[(df['meter']==meter) & (df['IS_BAD_PRCNT']<0.45)][Out_Columns], batch_size = batch_size, verbose = 1\n",
        "                  , epochs = epochs, shuffle = True, callbacks=[earlyStopping, reduce_lr_loss]\n",
        "                  , validation_data=(val[In_Columns], val[Out_Columns])\n",
        "                  ) "
      ],
      "execution_count": 0,
      "outputs": []
    },
    {
      "cell_type": "code",
      "metadata": {
        "id": "vQgX_HyUykjk",
        "colab_type": "code",
        "colab": {}
      },
      "source": [
        "earlyStopping = EarlyStopping(monitor='val_loss', patience=10, verbose=1, mode='min')\n",
        "reduce_lr_loss = ReduceLROnPlateau(monitor='val_loss', factor=0.3, patience=5, verbose=1, min_delta=1e-3, mode='min')\n",
        "\n",
        "nn.optimizer.lr = nn.optimizer.lr / 2.00000000\n",
        "\n",
        "hist = nn.fit( df[df['meter']==0][In_Columns], df[df['meter']==0][Out_Columns], batch_size = batch_size, verbose = 1\n",
        "                 , epochs = epochs * 2, shuffle = True, callbacks=[earlyStopping, reduce_lr_loss], validation_data=(df[df['meter']==0][In_Columns], df[df['meter']==0][Out_Columns])) "
      ],
      "execution_count": 0,
      "outputs": []
    },
    {
      "cell_type": "code",
      "metadata": {
        "id": "PYotUoMZtBWi",
        "colab_type": "code",
        "colab": {}
      },
      "source": [
        "hist_1 = nn.fit( df[df['meter']==1][In_Columns], df[df['meter']==1][Out_Columns], batch_size = batch_size, verbose = 1\n",
        "                 , epochs = epochs, shuffle = True, callbacks=[earlyStopping, reduce_lr_loss]) #, validation_data=(X_val, y_val)\n"
      ],
      "execution_count": 0,
      "outputs": []
    },
    {
      "cell_type": "code",
      "metadata": {
        "id": "sXyyr7vVmK6R",
        "colab_type": "code",
        "outputId": "212fdb62-23ea-41e4-c69b-a234f0711d7a",
        "colab": {
          "base_uri": "https://localhost:8080/",
          "height": 374
        }
      },
      "source": [
        ""
      ],
      "execution_count": 0,
      "outputs": [
        {
          "output_type": "stream",
          "text": [
            "                   timestamp  meter_reading  is_equal_prev\n",
            "19280839 2016-05-20 01:00:00       0.000000              0\n",
            "19280872 2016-05-20 02:00:00       0.000000              1\n",
            "19280905 2016-05-20 03:00:00       0.000000              1\n",
            "19280938 2016-05-20 04:00:00       0.000000              1\n",
            "19280971 2016-05-20 05:00:00       0.000000              1\n",
            "19281004 2016-05-20 06:00:00       0.000000              1\n",
            "19281037 2016-05-20 07:00:00       0.000000              1\n",
            "19281070 2016-05-20 08:00:00       0.000000              1\n",
            "19281103 2016-05-20 09:00:00       0.000000              1\n",
            "19281136 2016-05-20 10:00:00       0.000000              1\n",
            "19281169 2016-05-20 11:00:00       0.000000              1\n",
            "19281202 2016-05-20 12:00:00       0.000000              1\n",
            "19281235 2016-05-20 13:00:00       0.000000              1\n",
            "19281268 2016-05-20 14:00:00       0.000000              1\n",
            "19281301 2016-05-20 15:00:00       0.000000              1\n",
            "19281334 2016-05-20 16:00:00       0.000000              1\n",
            "19281367 2016-05-20 17:00:00       0.000000              1\n",
            "19281400 2016-05-20 18:00:00       3.430630              0\n",
            "19281433 2016-05-20 19:00:00       3.519363              0\n",
            "19281466 2016-05-20 20:00:00       3.347758              0\n"
          ],
          "name": "stdout"
        }
      ]
    },
    {
      "cell_type": "code",
      "metadata": {
        "id": "8HcOED4IDv0k",
        "colab_type": "code",
        "outputId": "362610e4-d4a7-447c-e889-30130aa28958",
        "colab": {
          "base_uri": "https://localhost:8080/",
          "height": 530
        }
      },
      "source": [
        "show_plot(hist) "
      ],
      "execution_count": 0,
      "outputs": [
        {
          "output_type": "error",
          "ename": "KeyError",
          "evalue": "ignored",
          "traceback": [
            "\u001b[0;31m---------------------------------------------------------------------------\u001b[0m",
            "\u001b[0;31mKeyError\u001b[0m                                  Traceback (most recent call last)",
            "\u001b[0;32m<ipython-input-21-94b7d252ae1b>\u001b[0m in \u001b[0;36m<module>\u001b[0;34m()\u001b[0m\n\u001b[0;32m----> 1\u001b[0;31m \u001b[0mshow_plot\u001b[0m\u001b[0;34m(\u001b[0m\u001b[0mhist\u001b[0m\u001b[0;34m)\u001b[0m\u001b[0;34m\u001b[0m\u001b[0;34m\u001b[0m\u001b[0m\n\u001b[0m",
            "\u001b[0;32m<ipython-input-14-f4b5b58917ef>\u001b[0m in \u001b[0;36mshow_plot\u001b[0;34m(hist)\u001b[0m\n\u001b[1;32m      1\u001b[0m \u001b[0;32mdef\u001b[0m \u001b[0mshow_plot\u001b[0m\u001b[0;34m(\u001b[0m\u001b[0mhist\u001b[0m\u001b[0;34m)\u001b[0m\u001b[0;34m:\u001b[0m\u001b[0;34m\u001b[0m\u001b[0;34m\u001b[0m\u001b[0m\n\u001b[1;32m      2\u001b[0m     \u001b[0mplt\u001b[0m\u001b[0;34m.\u001b[0m\u001b[0mplot\u001b[0m\u001b[0;34m(\u001b[0m\u001b[0mhist\u001b[0m\u001b[0;34m.\u001b[0m\u001b[0mhistory\u001b[0m\u001b[0;34m[\u001b[0m\u001b[0;34m'loss'\u001b[0m\u001b[0;34m]\u001b[0m\u001b[0;34m)\u001b[0m\u001b[0;34m\u001b[0m\u001b[0;34m\u001b[0m\u001b[0m\n\u001b[0;32m----> 3\u001b[0;31m     \u001b[0mplt\u001b[0m\u001b[0;34m.\u001b[0m\u001b[0mplot\u001b[0m\u001b[0;34m(\u001b[0m\u001b[0mhist\u001b[0m\u001b[0;34m.\u001b[0m\u001b[0mhistory\u001b[0m\u001b[0;34m[\u001b[0m\u001b[0;34m'val_loss'\u001b[0m\u001b[0;34m]\u001b[0m\u001b[0;34m)\u001b[0m\u001b[0;34m\u001b[0m\u001b[0;34m\u001b[0m\u001b[0m\n\u001b[0m\u001b[1;32m      4\u001b[0m     \u001b[0mplt\u001b[0m\u001b[0;34m.\u001b[0m\u001b[0mtitle\u001b[0m\u001b[0;34m(\u001b[0m\u001b[0;34m'Model NN'\u001b[0m\u001b[0;34m)\u001b[0m\u001b[0;34m\u001b[0m\u001b[0;34m\u001b[0m\u001b[0m\n\u001b[1;32m      5\u001b[0m     \u001b[0mplt\u001b[0m\u001b[0;34m.\u001b[0m\u001b[0mxlabel\u001b[0m\u001b[0;34m(\u001b[0m\u001b[0;34m'Epoch'\u001b[0m\u001b[0;34m)\u001b[0m\u001b[0;34m\u001b[0m\u001b[0;34m\u001b[0m\u001b[0m\n",
            "\u001b[0;31mKeyError\u001b[0m: 'val_loss'"
          ]
        },
        {
          "output_type": "display_data",
          "data": {
            "image/png": "[encoded data removed]",
            "text/plain": [
              "<Figure size 432x288 with 1 Axes>"
            ]
          },
          "metadata": {
            "tags": []
          }
        }
      ]
    },
    {
      "cell_type": "code",
      "metadata": {
        "id": "3y8HyLW1fPvb",
        "colab_type": "code",
        "colab": {}
      },
      "source": [
        ""
      ],
      "execution_count": 0,
      "outputs": []
    },
    {
      "cell_type": "code",
      "metadata": {
        "id": "lvNOsZ_YDv9Y",
        "colab_type": "code",
        "colab": {}
      },
      "source": [
        "def save_model(model, dir = os.getcwd(), name = 'model'):\n",
        "  model_json = model.to_json()\n",
        "  with open(os.path.join(dir,name+'.json'), 'w') as json_file:\n",
        "      json_file.write(model_json)\n",
        "  model.save_weights(os.path.join(dir,name+'.h5'))\n",
        "  print(\"Saved model to disk.\")"
      ],
      "execution_count": 0,
      "outputs": []
    },
    {
      "cell_type": "code",
      "metadata": {
        "id": "denv9RqyDoeZ",
        "colab_type": "code",
        "outputId": "3ca3d1bd-388c-4112-df19-972cb29ebbf1",
        "colab": {
          "base_uri": "https://localhost:8080/",
          "height": 34
        }
      },
      "source": [
        "save_model(nn, DIR, 'model_nn')"
      ],
      "execution_count": 0,
      "outputs": [
        {
          "output_type": "stream",
          "text": [
            "Saved model to disk.\n"
          ],
          "name": "stdout"
        }
      ]
    },
    {
      "cell_type": "code",
      "metadata": {
        "id": "anqmOq7hmufi",
        "colab_type": "code",
        "colab": {}
      },
      "source": [
        ""
      ],
      "execution_count": 0,
      "outputs": []
    },
    {
      "cell_type": "code",
      "metadata": {
        "id": "YsYpyA4omuiY",
        "colab_type": "code",
        "colab": {}
      },
      "source": [
        "from keras.models import model_from_json\n",
        "\n",
        "def load_model(dir = os.getcwd(), name = 'model'):\n",
        "  json_file = open(os.path.join(dir,name+'.json'), 'r')\n",
        "  loaded_model_json = json_file.read()\n",
        "  json_file.close()\n",
        "  model = model_from_json(loaded_model_json)\n",
        "  model.load_weights(os.path.join(dir,name+'.h5'))\n",
        "  print(\"Loading is complete.\")\n",
        "  return model"
      ],
      "execution_count": 0,
      "outputs": []
    },
    {
      "cell_type": "code",
      "metadata": {
        "id": "fvoCZeopmulB",
        "colab_type": "code",
        "outputId": "595d1f31-57d2-49b2-c5f1-140058920979",
        "colab": {
          "base_uri": "https://localhost:8080/",
          "height": 340
        }
      },
      "source": [
        "nn = load_model(DIR, 'model_nn')\n",
        "opt = Adam(lr = 0.05)\n",
        "nn.compile(optimizer = opt, loss = mse)\n"
      ],
      "execution_count": 0,
      "outputs": [
        {
          "output_type": "stream",
          "text": [
            "WARNING:tensorflow:From /usr/local/lib/python3.6/dist-packages/keras/backend/tensorflow_backend.py:541: The name tf.placeholder is deprecated. Please use tf.compat.v1.placeholder instead.\n",
            "\n",
            "WARNING:tensorflow:From /usr/local/lib/python3.6/dist-packages/keras/backend/tensorflow_backend.py:4479: The name tf.truncated_normal is deprecated. Please use tf.random.truncated_normal instead.\n",
            "\n",
            "WARNING:tensorflow:From /usr/local/lib/python3.6/dist-packages/keras/backend/tensorflow_backend.py:190: The name tf.get_default_session is deprecated. Please use tf.compat.v1.get_default_session instead.\n",
            "\n",
            "WARNING:tensorflow:From /usr/local/lib/python3.6/dist-packages/keras/backend/tensorflow_backend.py:197: The name tf.ConfigProto is deprecated. Please use tf.compat.v1.ConfigProto instead.\n",
            "\n",
            "WARNING:tensorflow:From /usr/local/lib/python3.6/dist-packages/keras/backend/tensorflow_backend.py:203: The name tf.Session is deprecated. Please use tf.compat.v1.Session instead.\n",
            "\n",
            "WARNING:tensorflow:From /usr/local/lib/python3.6/dist-packages/keras/backend/tensorflow_backend.py:207: The name tf.global_variables is deprecated. Please use tf.compat.v1.global_variables instead.\n",
            "\n",
            "WARNING:tensorflow:From /usr/local/lib/python3.6/dist-packages/keras/backend/tensorflow_backend.py:216: The name tf.is_variable_initialized is deprecated. Please use tf.compat.v1.is_variable_initialized instead.\n",
            "\n",
            "WARNING:tensorflow:From /usr/local/lib/python3.6/dist-packages/keras/backend/tensorflow_backend.py:223: The name tf.variables_initializer is deprecated. Please use tf.compat.v1.variables_initializer instead.\n",
            "\n",
            "Loading is complete.\n",
            "WARNING:tensorflow:From /usr/local/lib/python3.6/dist-packages/keras/optimizers.py:793: The name tf.train.Optimizer is deprecated. Please use tf.compat.v1.train.Optimizer instead.\n",
            "\n"
          ],
          "name": "stdout"
        }
      ]
    },
    {
      "cell_type": "code",
      "metadata": {
        "id": "Lw8CXP-Wmuwt",
        "colab_type": "code",
        "colab": {}
      },
      "source": [
        ""
      ],
      "execution_count": 0,
      "outputs": []
    },
    {
      "cell_type": "code",
      "metadata": {
        "id": "_vze6V-2Dv3R",
        "colab_type": "code",
        "colab": {}
      },
      "source": [
        "from sklearn.utils import shuffle"
      ],
      "execution_count": 0,
      "outputs": []
    },
    {
      "cell_type": "code",
      "metadata": {
        "id": "OwGQ3nubDv6C",
        "colab_type": "code",
        "outputId": "e3ba4e99-86cb-4d65-f413-73bcac9b9274",
        "colab": {
          "base_uri": "https://localhost:8080/",
          "height": 799
        }
      },
      "source": [
        "k = nn.evaluate(X_val, y_val, batch_size = 800000, verbose = 0)\n",
        "print(k)\n",
        "for i in range(X_val.shape[1]):\n",
        "    X_val_2 = X_val.copy()\n",
        "    s = shuffle(X_val_2.iloc[:,i])\n",
        "    s.index = X_val_2.index\n",
        "    X_val_2.iloc[:, i] = s\n",
        "    print('{}: {:2.5}'.format(cols[i], nn.evaluate(X_val_2, y_val, batch_size = 800000, verbose = 0) - k))\n",
        "    X_val_2 = None"
      ],
      "execution_count": 0,
      "outputs": [
        {
          "output_type": "stream",
          "text": [
            "0.9596900019018605\n",
            "building_median: 5.819\n",
            "meter_0: 0.58292\n",
            "meter_1: 0.972\n",
            "meter_2: 0.74869\n",
            "meter_3: 0.37119\n",
            "site_id: 0.2405\n",
            "square_feet: 0.30628\n",
            "site_id_0: 1.0401\n",
            "site_id_1: 0.1221\n",
            "site_id_2: 0.30877\n",
            "site_id_3: 0.18319\n",
            "site_id_4: 0.062723\n",
            "site_id_5: 0.074246\n",
            "site_id_6: 0.1025\n",
            "site_id_7: 0.20131\n",
            "site_id_8: 0.043794\n",
            "site_id_9: 0.28214\n",
            "site_id_10: 0.057954\n",
            "site_id_11: 0.01723\n",
            "site_id_12: 0.013731\n",
            "site_id_13: 0.24857\n",
            "site_id_14: 0.30342\n",
            "site_id_15: 0.13226\n",
            "primary_use_Education: 0.3433\n",
            "primary_use_Entertainment/public assembly: 0.15548\n",
            "primary_use_Food sales and service: 0.014033\n",
            "primary_use_Healthcare: 0.061511\n",
            "primary_use_Lodging/residential: 0.15654\n",
            "primary_use_Manufacturing/industrial: 0.016794\n",
            "primary_use_Office: 0.25216\n",
            "primary_use_Other: 0.017878\n",
            "primary_use_Parking: 0.03211\n",
            "primary_use_Public services: 0.11415\n",
            "primary_use_Religious worship: 0.0012776\n",
            "primary_use_Retail: 0.0078331\n",
            "primary_use_Services: 0.018232\n",
            "primary_use_Technology/science: 0.0096781\n",
            "primary_use_Utility: 0.0033111\n",
            "primary_use_Warehouse/storage: 0.0073136\n",
            "hour_cos: 0.085005\n",
            "hour_sin: 0.05133\n",
            "weekday_cos: 0.010621\n",
            "weekday_sin: 0.028967\n",
            "week_cos: 1.0029\n",
            "week_sin: 0.85172\n"
          ],
          "name": "stdout"
        }
      ]
    },
    {
      "cell_type": "code",
      "metadata": {
        "id": "Q7cW0BjWDog5",
        "colab_type": "code",
        "outputId": "bfdc8c75-6bdc-4e6c-d38e-ae1ffb61e226",
        "colab": {
          "base_uri": "https://localhost:8080/",
          "height": 34
        }
      },
      "source": [
        "X_test.shape"
      ],
      "execution_count": 0,
      "outputs": [
        {
          "output_type": "execute_result",
          "data": {
            "text/plain": [
              "(41697600, 45)"
            ]
          },
          "metadata": {
            "tags": []
          },
          "execution_count": 30
        }
      ]
    },
    {
      "cell_type": "code",
      "metadata": {
        "id": "rglOCdGlDojs",
        "colab_type": "code",
        "colab": {}
      },
      "source": [
        "p = nn.predict(X_test, batch_size = 100000)"
      ],
      "execution_count": 0,
      "outputs": []
    },
    {
      "cell_type": "code",
      "metadata": {
        "id": "zHSFbHZiq7Of",
        "colab_type": "code",
        "colab": {}
      },
      "source": [
        ""
      ],
      "execution_count": 0,
      "outputs": []
    },
    {
      "cell_type": "code",
      "metadata": {
        "id": "6aJtmDR7rexQ",
        "colab_type": "code",
        "colab": {}
      },
      "source": [
        "df_sample_submission['meter_reading'] = np.exp(p)-1"
      ],
      "execution_count": 0,
      "outputs": []
    },
    {
      "cell_type": "code",
      "metadata": {
        "id": "TuyutB_Z1pu4",
        "colab_type": "code",
        "colab": {}
      },
      "source": [
        "df_sample_submission.to_csv(DIR+'out_file_int.csv', index = False)"
      ],
      "execution_count": 0,
      "outputs": []
    },
    {
      "cell_type": "code",
      "metadata": {
        "id": "YvKYkkIRre9C",
        "colab_type": "code",
        "outputId": "c1a857c8-b685-4878-b57f-54a123163c17",
        "colab": {
          "base_uri": "https://localhost:8080/",
          "height": 102
        }
      },
      "source": [
        "p[0:5]"
      ],
      "execution_count": 0,
      "outputs": [
        {
          "output_type": "execute_result",
          "data": {
            "text/plain": [
              "array([[5.240274 ],\n",
              "       [5.1473227],\n",
              "       [5.0696645],\n",
              "       [5.019961 ],\n",
              "       [5.010914 ]], dtype=float32)"
            ]
          },
          "metadata": {
            "tags": []
          },
          "execution_count": 33
        }
      ]
    },
    {
      "cell_type": "code",
      "metadata": {
        "id": "7gQzWTyi1Vjb",
        "colab_type": "code",
        "outputId": "4a1a4271-a100-49b4-8b17-4effad4507ba",
        "colab": {
          "base_uri": "https://localhost:8080/",
          "height": 204
        }
      },
      "source": [
        "df_sample_submission.head()"
      ],
      "execution_count": 0,
      "outputs": [
        {
          "output_type": "execute_result",
          "data": {
            "text/html": [
              "<div>\n",
              "<style scoped>\n",
              "    .dataframe tbody tr th:only-of-type {\n",
              "        vertical-align: middle;\n",
              "    }\n",
              "\n",
              "    .dataframe tbody tr th {\n",
              "        vertical-align: top;\n",
              "    }\n",
              "\n",
              "    .dataframe thead th {\n",
              "        text-align: right;\n",
              "    }\n",
              "</style>\n",
              "<table border=\"1\" class=\"dataframe\">\n",
              "  <thead>\n",
              "    <tr style=\"text-align: right;\">\n",
              "      <th></th>\n",
              "      <th>row_id</th>\n",
              "      <th>meter_reading</th>\n",
              "    </tr>\n",
              "  </thead>\n",
              "  <tbody>\n",
              "    <tr>\n",
              "      <th>8784</th>\n",
              "      <td>0</td>\n",
              "      <td>187.721802</td>\n",
              "    </tr>\n",
              "    <tr>\n",
              "      <th>8785</th>\n",
              "      <td>129</td>\n",
              "      <td>170.970444</td>\n",
              "    </tr>\n",
              "    <tr>\n",
              "      <th>8786</th>\n",
              "      <td>258</td>\n",
              "      <td>158.120926</td>\n",
              "    </tr>\n",
              "    <tr>\n",
              "      <th>8787</th>\n",
              "      <td>387</td>\n",
              "      <td>150.405380</td>\n",
              "    </tr>\n",
              "    <tr>\n",
              "      <th>8788</th>\n",
              "      <td>516</td>\n",
              "      <td>149.041794</td>\n",
              "    </tr>\n",
              "  </tbody>\n",
              "</table>\n",
              "</div>"
            ],
            "text/plain": [
              "      row_id  meter_reading\n",
              "8784       0     187.721802\n",
              "8785     129     170.970444\n",
              "8786     258     158.120926\n",
              "8787     387     150.405380\n",
              "8788     516     149.041794"
            ]
          },
          "metadata": {
            "tags": []
          },
          "execution_count": 41
        }
      ]
    },
    {
      "cell_type": "code",
      "metadata": {
        "id": "Ga1ZyBD6TXRe",
        "colab_type": "code",
        "outputId": "d1467582-6b0c-4ac8-8054-520ab759b743",
        "colab": {
          "base_uri": "https://localhost:8080/",
          "height": 258
        }
      },
      "source": [
        "X_test.head()"
      ],
      "execution_count": 0,
      "outputs": [
        {
          "output_type": "execute_result",
          "data": {
            "text/html": [
              "<div>\n",
              "<style scoped>\n",
              "    .dataframe tbody tr th:only-of-type {\n",
              "        vertical-align: middle;\n",
              "    }\n",
              "\n",
              "    .dataframe tbody tr th {\n",
              "        vertical-align: top;\n",
              "    }\n",
              "\n",
              "    .dataframe thead th {\n",
              "        text-align: right;\n",
              "    }\n",
              "</style>\n",
              "<table border=\"1\" class=\"dataframe\">\n",
              "  <thead>\n",
              "    <tr style=\"text-align: right;\">\n",
              "      <th></th>\n",
              "      <th>building_median</th>\n",
              "      <th>meter_0</th>\n",
              "      <th>meter_1</th>\n",
              "      <th>meter_2</th>\n",
              "      <th>meter_3</th>\n",
              "      <th>site_id</th>\n",
              "      <th>square_feet</th>\n",
              "      <th>site_id_0</th>\n",
              "      <th>site_id_1</th>\n",
              "      <th>site_id_2</th>\n",
              "      <th>site_id_3</th>\n",
              "      <th>site_id_4</th>\n",
              "      <th>site_id_5</th>\n",
              "      <th>site_id_6</th>\n",
              "      <th>site_id_7</th>\n",
              "      <th>site_id_8</th>\n",
              "      <th>site_id_9</th>\n",
              "      <th>site_id_10</th>\n",
              "      <th>site_id_11</th>\n",
              "      <th>site_id_12</th>\n",
              "      <th>site_id_13</th>\n",
              "      <th>site_id_14</th>\n",
              "      <th>site_id_15</th>\n",
              "      <th>primary_use_Education</th>\n",
              "      <th>primary_use_Entertainment/public assembly</th>\n",
              "      <th>primary_use_Food sales and service</th>\n",
              "      <th>primary_use_Healthcare</th>\n",
              "      <th>primary_use_Lodging/residential</th>\n",
              "      <th>primary_use_Manufacturing/industrial</th>\n",
              "      <th>primary_use_Office</th>\n",
              "      <th>primary_use_Other</th>\n",
              "      <th>primary_use_Parking</th>\n",
              "      <th>primary_use_Public services</th>\n",
              "      <th>primary_use_Religious worship</th>\n",
              "      <th>primary_use_Retail</th>\n",
              "      <th>primary_use_Services</th>\n",
              "      <th>primary_use_Technology/science</th>\n",
              "      <th>primary_use_Utility</th>\n",
              "      <th>primary_use_Warehouse/storage</th>\n",
              "      <th>hour_cos</th>\n",
              "      <th>hour_sin</th>\n",
              "      <th>weekday_cos</th>\n",
              "      <th>weekday_sin</th>\n",
              "      <th>week_cos</th>\n",
              "      <th>week_sin</th>\n",
              "    </tr>\n",
              "  </thead>\n",
              "  <tbody>\n",
              "    <tr>\n",
              "      <th>8784</th>\n",
              "      <td>0.495495</td>\n",
              "      <td>1</td>\n",
              "      <td>0</td>\n",
              "      <td>0</td>\n",
              "      <td>0</td>\n",
              "      <td>0.0</td>\n",
              "      <td>0.008173</td>\n",
              "      <td>1</td>\n",
              "      <td>0</td>\n",
              "      <td>0</td>\n",
              "      <td>0</td>\n",
              "      <td>0</td>\n",
              "      <td>0</td>\n",
              "      <td>0</td>\n",
              "      <td>0</td>\n",
              "      <td>0</td>\n",
              "      <td>0</td>\n",
              "      <td>0</td>\n",
              "      <td>0</td>\n",
              "      <td>0</td>\n",
              "      <td>0</td>\n",
              "      <td>0</td>\n",
              "      <td>0</td>\n",
              "      <td>1</td>\n",
              "      <td>0</td>\n",
              "      <td>0</td>\n",
              "      <td>0</td>\n",
              "      <td>0</td>\n",
              "      <td>0</td>\n",
              "      <td>0</td>\n",
              "      <td>0</td>\n",
              "      <td>0</td>\n",
              "      <td>0</td>\n",
              "      <td>0</td>\n",
              "      <td>0</td>\n",
              "      <td>0</td>\n",
              "      <td>0</td>\n",
              "      <td>0</td>\n",
              "      <td>0</td>\n",
              "      <td>1.000000</td>\n",
              "      <td>0.500000</td>\n",
              "      <td>0.801938</td>\n",
              "      <td>0.099031</td>\n",
              "      <td>0.996487</td>\n",
              "      <td>0.440837</td>\n",
              "    </tr>\n",
              "    <tr>\n",
              "      <th>8785</th>\n",
              "      <td>0.495495</td>\n",
              "      <td>1</td>\n",
              "      <td>0</td>\n",
              "      <td>0</td>\n",
              "      <td>0</td>\n",
              "      <td>0.0</td>\n",
              "      <td>0.008173</td>\n",
              "      <td>1</td>\n",
              "      <td>0</td>\n",
              "      <td>0</td>\n",
              "      <td>0</td>\n",
              "      <td>0</td>\n",
              "      <td>0</td>\n",
              "      <td>0</td>\n",
              "      <td>0</td>\n",
              "      <td>0</td>\n",
              "      <td>0</td>\n",
              "      <td>0</td>\n",
              "      <td>0</td>\n",
              "      <td>0</td>\n",
              "      <td>0</td>\n",
              "      <td>0</td>\n",
              "      <td>0</td>\n",
              "      <td>1</td>\n",
              "      <td>0</td>\n",
              "      <td>0</td>\n",
              "      <td>0</td>\n",
              "      <td>0</td>\n",
              "      <td>0</td>\n",
              "      <td>0</td>\n",
              "      <td>0</td>\n",
              "      <td>0</td>\n",
              "      <td>0</td>\n",
              "      <td>0</td>\n",
              "      <td>0</td>\n",
              "      <td>0</td>\n",
              "      <td>0</td>\n",
              "      <td>0</td>\n",
              "      <td>0</td>\n",
              "      <td>0.982963</td>\n",
              "      <td>0.629410</td>\n",
              "      <td>0.801938</td>\n",
              "      <td>0.099031</td>\n",
              "      <td>0.996487</td>\n",
              "      <td>0.440837</td>\n",
              "    </tr>\n",
              "    <tr>\n",
              "      <th>8786</th>\n",
              "      <td>0.495495</td>\n",
              "      <td>1</td>\n",
              "      <td>0</td>\n",
              "      <td>0</td>\n",
              "      <td>0</td>\n",
              "      <td>0.0</td>\n",
              "      <td>0.008173</td>\n",
              "      <td>1</td>\n",
              "      <td>0</td>\n",
              "      <td>0</td>\n",
              "      <td>0</td>\n",
              "      <td>0</td>\n",
              "      <td>0</td>\n",
              "      <td>0</td>\n",
              "      <td>0</td>\n",
              "      <td>0</td>\n",
              "      <td>0</td>\n",
              "      <td>0</td>\n",
              "      <td>0</td>\n",
              "      <td>0</td>\n",
              "      <td>0</td>\n",
              "      <td>0</td>\n",
              "      <td>0</td>\n",
              "      <td>1</td>\n",
              "      <td>0</td>\n",
              "      <td>0</td>\n",
              "      <td>0</td>\n",
              "      <td>0</td>\n",
              "      <td>0</td>\n",
              "      <td>0</td>\n",
              "      <td>0</td>\n",
              "      <td>0</td>\n",
              "      <td>0</td>\n",
              "      <td>0</td>\n",
              "      <td>0</td>\n",
              "      <td>0</td>\n",
              "      <td>0</td>\n",
              "      <td>0</td>\n",
              "      <td>0</td>\n",
              "      <td>0.933013</td>\n",
              "      <td>0.750000</td>\n",
              "      <td>0.801938</td>\n",
              "      <td>0.099031</td>\n",
              "      <td>0.996487</td>\n",
              "      <td>0.440837</td>\n",
              "    </tr>\n",
              "    <tr>\n",
              "      <th>8787</th>\n",
              "      <td>0.495495</td>\n",
              "      <td>1</td>\n",
              "      <td>0</td>\n",
              "      <td>0</td>\n",
              "      <td>0</td>\n",
              "      <td>0.0</td>\n",
              "      <td>0.008173</td>\n",
              "      <td>1</td>\n",
              "      <td>0</td>\n",
              "      <td>0</td>\n",
              "      <td>0</td>\n",
              "      <td>0</td>\n",
              "      <td>0</td>\n",
              "      <td>0</td>\n",
              "      <td>0</td>\n",
              "      <td>0</td>\n",
              "      <td>0</td>\n",
              "      <td>0</td>\n",
              "      <td>0</td>\n",
              "      <td>0</td>\n",
              "      <td>0</td>\n",
              "      <td>0</td>\n",
              "      <td>0</td>\n",
              "      <td>1</td>\n",
              "      <td>0</td>\n",
              "      <td>0</td>\n",
              "      <td>0</td>\n",
              "      <td>0</td>\n",
              "      <td>0</td>\n",
              "      <td>0</td>\n",
              "      <td>0</td>\n",
              "      <td>0</td>\n",
              "      <td>0</td>\n",
              "      <td>0</td>\n",
              "      <td>0</td>\n",
              "      <td>0</td>\n",
              "      <td>0</td>\n",
              "      <td>0</td>\n",
              "      <td>0</td>\n",
              "      <td>0.853553</td>\n",
              "      <td>0.853553</td>\n",
              "      <td>0.801938</td>\n",
              "      <td>0.099031</td>\n",
              "      <td>0.996487</td>\n",
              "      <td>0.440837</td>\n",
              "    </tr>\n",
              "    <tr>\n",
              "      <th>8788</th>\n",
              "      <td>0.495495</td>\n",
              "      <td>1</td>\n",
              "      <td>0</td>\n",
              "      <td>0</td>\n",
              "      <td>0</td>\n",
              "      <td>0.0</td>\n",
              "      <td>0.008173</td>\n",
              "      <td>1</td>\n",
              "      <td>0</td>\n",
              "      <td>0</td>\n",
              "      <td>0</td>\n",
              "      <td>0</td>\n",
              "      <td>0</td>\n",
              "      <td>0</td>\n",
              "      <td>0</td>\n",
              "      <td>0</td>\n",
              "      <td>0</td>\n",
              "      <td>0</td>\n",
              "      <td>0</td>\n",
              "      <td>0</td>\n",
              "      <td>0</td>\n",
              "      <td>0</td>\n",
              "      <td>0</td>\n",
              "      <td>1</td>\n",
              "      <td>0</td>\n",
              "      <td>0</td>\n",
              "      <td>0</td>\n",
              "      <td>0</td>\n",
              "      <td>0</td>\n",
              "      <td>0</td>\n",
              "      <td>0</td>\n",
              "      <td>0</td>\n",
              "      <td>0</td>\n",
              "      <td>0</td>\n",
              "      <td>0</td>\n",
              "      <td>0</td>\n",
              "      <td>0</td>\n",
              "      <td>0</td>\n",
              "      <td>0</td>\n",
              "      <td>0.750000</td>\n",
              "      <td>0.933013</td>\n",
              "      <td>0.801938</td>\n",
              "      <td>0.099031</td>\n",
              "      <td>0.996487</td>\n",
              "      <td>0.440837</td>\n",
              "    </tr>\n",
              "  </tbody>\n",
              "</table>\n",
              "</div>"
            ],
            "text/plain": [
              "      building_median  meter_0  meter_1  ...  weekday_sin  week_cos  week_sin\n",
              "8784         0.495495        1        0  ...     0.099031  0.996487  0.440837\n",
              "8785         0.495495        1        0  ...     0.099031  0.996487  0.440837\n",
              "8786         0.495495        1        0  ...     0.099031  0.996487  0.440837\n",
              "8787         0.495495        1        0  ...     0.099031  0.996487  0.440837\n",
              "8788         0.495495        1        0  ...     0.099031  0.996487  0.440837\n",
              "\n",
              "[5 rows x 45 columns]"
            ]
          },
          "metadata": {
            "tags": []
          },
          "execution_count": 37
        }
      ]
    },
    {
      "cell_type": "code",
      "metadata": {
        "id": "yaKZlONMsta8",
        "colab_type": "code",
        "colab": {}
      },
      "source": [
        "df_sample_submission['row_id'] = df_sample_submission['row_id'].astype('Int32')\n"
      ],
      "execution_count": 0,
      "outputs": []
    },
    {
      "cell_type": "code",
      "metadata": {
        "id": "kOIMC9y_steQ",
        "colab_type": "code",
        "colab": {}
      },
      "source": [
        "df_sample_submission['meter_reading'] = df_sample_submission['meter_reading'].astype('Int32')\n"
      ],
      "execution_count": 0,
      "outputs": []
    },
    {
      "cell_type": "code",
      "metadata": {
        "id": "m476u9_kZdn0",
        "colab_type": "code",
        "colab": {}
      },
      "source": [
        "# df_group = train_df.groupby('building_id')['meter_reading_log1p']\n",
        "# building_mean = df_group.mean().astype(np.float16)\n",
        "# building_median = df_group.median().astype(np.float16)\n",
        "# building_min = df_group.min().astype(np.float16)\n",
        "# building_max = df_group.max().astype(np.float16)\n",
        "# building_std = df_group.std().astype(np.float16)\n",
        "\n",
        "# train_df['building_mean'] = train_df['building_id'].map(building_mean)\n",
        "# train_df['building_median'] = train_df['building_id'].map(building_median)\n",
        "# train_df['building_min'] = train_df['building_id'].map(building_min)\n",
        "# train_df['building_max'] = train_df['building_id'].map(building_max)\n",
        "# train_df['building_std'] = train_df['building_id'].map(building_std)"
      ],
      "execution_count": 0,
      "outputs": []
    },
    {
      "cell_type": "code",
      "metadata": {
        "id": "PozIRQ1JwOx9",
        "colab_type": "code",
        "colab": {}
      },
      "source": [
        "from sklearn.preprocessing import StandardScaler, MinMaxScaler, RobustScaler, OneHotEncoder\n",
        "scaler =  MinMaxScaler () #quantile_range  = (15.0,85.0)) #Normalizer #(copy=True, feature_range=(-1, 1)) # MinMaxScaler(copy=True, feature_range=(-1, 1)) #StandardScaler() #MinMaxScaler(copy=True, feature_range=(-1, 1)) # RobustScaler()\n",
        "scaler.fit(df[In_Columns])\n",
        "df[In_Columns]     = pd.DataFrame(data = scaler_out.transform( df[In_Columns])    , columns = df[In_Columns].columns   , index=Train.index) #X_train.columns)\n"
      ],
      "execution_count": 0,
      "outputs": []
    }
  ]
}