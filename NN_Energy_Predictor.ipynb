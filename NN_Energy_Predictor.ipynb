{
  "nbformat": 4,
  "nbformat_minor": 0,
  "metadata": {
    "colab": {
      "name": "NN Energy Predictor.ipynb",
      "provenance": [],
      "collapsed_sections": [],
      "machine_shape": "hm",
      "include_colab_link": true
    },
    "kernelspec": {
      "name": "python3",
      "display_name": "Python 3"
    },
    "accelerator": "GPU"
  },
  "cells": [
    {
      "cell_type": "markdown",
      "metadata": {
        "id": "view-in-github",
        "colab_type": "text"
      },
      "source": [
        "<a href=\"https://colab.research.google.com/github/yovelop/NN/blob/master/NN_Energy_Predictor.ipynb\" target=\"_parent\"><img src=\"https://colab.research.google.com/assets/colab-badge.svg\" alt=\"Open In Colab\"/></a>"
      ]
    },
    {
      "cell_type": "code",
      "metadata": {
        "id": "zO1azhvf_t9_",
        "colab_type": "code",
        "colab": {}
      },
      "source": [
        "from google.colab import drive\n",
        "drive.mount('/content/drive')\n"
      ],
      "execution_count": 0,
      "outputs": []
    },
    {
      "cell_type": "markdown",
      "metadata": {
        "id": "-NSMGnmFbe-f",
        "colab_type": "text"
      },
      "source": [
        ""
      ]
    },
    {
      "cell_type": "code",
      "metadata": {
        "id": "ZQgo_OJG_Wxk",
        "colab_type": "code",
        "colab": {}
      },
      "source": [
        "DIR = '/content/drive/My Drive/Colab Notebooks/ENSaver/'"
      ],
      "execution_count": 0,
      "outputs": []
    },
    {
      "cell_type": "code",
      "metadata": {
        "id": "fRgT9oDx_vpi",
        "colab_type": "code",
        "outputId": "1c79fe9a-c9f3-4d63-9832-0d63c6a3f84e",
        "colab": {
          "base_uri": "https://localhost:8080/",
          "height": 193
        }
      },
      "source": [
        "import numpy as np # linear algebra\n",
        "import pandas as pd # data processing, CSV file I/O (e.g. pd.read_csv)\n",
        "\n",
        "import matplotlib.pyplot as plt\n",
        "import matplotlib.style\n",
        "matplotlib.style.use('ggplot')\n",
        "\n",
        "from sys import getsizeof\n",
        "\n",
        "import os\n",
        "for dirname, _, filenames in os.walk(DIR):\n",
        "    for filename in filenames:\n",
        "        print(os.path.join(dirname, filename))"
      ],
      "execution_count": 0,
      "outputs": [
        {
          "output_type": "stream",
          "text": [
            "/content/drive/My Drive/Colab Notebooks/ENSaver/building_metadata.csv\n",
            "/content/drive/My Drive/Colab Notebooks/ENSaver/model_nn.h5\n",
            "/content/drive/My Drive/Colab Notebooks/ENSaver/model_nn.json\n",
            "/content/drive/My Drive/Colab Notebooks/ENSaver/out_file_int.csv\n",
            "/content/drive/My Drive/Colab Notebooks/ENSaver/sample_submission (1).csv\n",
            "/content/drive/My Drive/Colab Notebooks/ENSaver/sample_submission.csv\n",
            "/content/drive/My Drive/Colab Notebooks/ENSaver/test.csv\n",
            "/content/drive/My Drive/Colab Notebooks/ENSaver/train.csv\n",
            "/content/drive/My Drive/Colab Notebooks/ENSaver/weather_test.csv\n",
            "/content/drive/My Drive/Colab Notebooks/ENSaver/weather_train.csv\n"
          ],
          "name": "stdout"
        }
      ]
    },
    {
      "cell_type": "code",
      "metadata": {
        "id": "-Fv4ErMY_vsQ",
        "colab_type": "code",
        "colab": {}
      },
      "source": [
        "#0: electricity, 1: chilledwater, 2: steam, 3: hotwater\n",
        "\n",
        "#  Подготовка данных\n",
        "\n",
        "df = pd.read_csv(DIR + \"train.csv\", engine = 'python')\n",
        "#df_test = pd.read_csv(DIR + \"test.csv\", engine = 'python')\n",
        "\n",
        "df['timestamp'] = pd.to_datetime(df['timestamp'])\n",
        "#df_test['timestamp'] = pd.to_datetime(df_test['timestamp'])\n",
        "\n",
        "#Очистка от корявых данных\n",
        "df = df.query('not (building_id <= 104 & meter == 0 & timestamp <= \"2016-05-20\")')\n",
        "\n",
        "#df_train['is_test'] = 0\n",
        "#df_test['is_test'] = 1\n",
        "\n",
        "df['meter_reading'] = np.log1p(df['meter_reading'])\n",
        "\n",
        "#df = pd.concat([df_train, df_test], sort=False)\n",
        "\n",
        "df['hour_cos'] = np.cos(df['timestamp'].dt.hour * 2 * np.pi / 24)\n",
        "df['hour_sin'] = np.sin(df['timestamp'].dt.hour * 2 * np.pi / 24)\n",
        "\n",
        "df['weekday_cos'] = np.cos(df['timestamp'].dt.weekday * 2 * np.pi / 7)\n",
        "df['weekday_sin'] = np.sin(df['timestamp'].dt.weekday * 2 * np.pi / 7)\n",
        "\n",
        "df['week_cos'] = np.cos(df['timestamp'].dt.week * 2 * np.pi / 53)\n",
        "df['week_sin'] = np.sin(df['timestamp'].dt.week * 2 * np.pi / 53)\n",
        "\n",
        "#df_train['weekends'] = (df_train['weekday'] >= 6) * 1"
      ],
      "execution_count": 0,
      "outputs": []
    },
    {
      "cell_type": "code",
      "metadata": {
        "id": "G8iighXzayGq",
        "colab_type": "code",
        "colab": {}
      },
      "source": [
        "building_df = pd.read_csv(DIR + \"building_metadata.csv\", engine = 'python')\n",
        "from sklearn.preprocessing import LabelEncoder\n",
        "le = LabelEncoder()\n",
        "building_df[\"primary_use_ID\"] = le.fit_transform(building_df[\"primary_use\"])\n",
        "\n",
        "building_df['primary_use'] = building_df['primary_use'].astype('category')\n",
        "building_df = pd.get_dummies(building_df)\n",
        "\n",
        "df = df.merge(building_df, left_on = \"building_id\", right_on = \"building_id\", how = \"left\")\n",
        "df.head(5)\n",
        "del building_df"
      ],
      "execution_count": 0,
      "outputs": []
    },
    {
      "cell_type": "code",
      "metadata": {
        "id": "MIDKj_YCb_bD",
        "colab_type": "code",
        "colab": {}
      },
      "source": [
        "#Восстановление пустых данных погоды через соседей по линейной инетрполяции\n",
        "df_weather = pd.read_csv(DIR + \"weather_train.csv\", engine = 'python')\n",
        "df_weather['timestamp'] = pd.to_datetime(df_weather['timestamp'])\n",
        "#weather_train.groupby('site_id').apply(lambda group: group.isna().sum())\n",
        "df_weather = df_weather.groupby('site_id').apply(lambda group: group.interpolate(limit_direction='both'))\n",
        "df = pd.merge(df, df_weather, how = 'left', on = ['site_id','timestamp'])\n",
        "del df_weather"
      ],
      "execution_count": 0,
      "outputs": []
    },
    {
      "cell_type": "code",
      "metadata": {
        "id": "wjb1p8-FlidP",
        "colab_type": "code",
        "colab": {}
      },
      "source": [
        "def reduce_mem_usage(df):\n",
        "    start_mem_usg = df.memory_usage().sum() / 1024**2 \n",
        "    print(\"Memory usage of properties dataframe is :\",start_mem_usg,\" MB\")\n",
        "    NAlist = [] # Keeps track of columns that have missing values filled in. \n",
        "    for col in df.columns:\n",
        "        if df[col].dtype != object:  # Exclude strings            \n",
        "            # Print current column type\n",
        "            print(\"******************************\")\n",
        "            print(\"Column: \",col)\n",
        "            print(\"dtype before: \",df[col].dtype)            \n",
        "            # make variables for Int, max and min\n",
        "            IsInt = False\n",
        "            mx = df[col].max()\n",
        "            mn = df[col].min()\n",
        "            print(\"min for this col: \",mn)\n",
        "            print(\"max for this col: \",mx)\n",
        "            # Integer does not support NA, therefore, NA needs to be filled\n",
        "            if not np.isfinite(df[col]).all(): \n",
        "                NAlist.append(col)\n",
        "                df[col].fillna(mn-1,inplace=True)  \n",
        "                   \n",
        "            # test if column can be converted to an integer\n",
        "            asint = df[col].fillna(0).astype(np.int64)\n",
        "            result = (df[col] - asint)\n",
        "            result = result.sum()\n",
        "            if result > -0.01 and result < 0.01:\n",
        "                IsInt = True            \n",
        "            # Make Integer/unsigned Integer datatypes\n",
        "            if IsInt:\n",
        "                if mn >= 0:\n",
        "                    if mx < 255:\n",
        "                        df[col] = df[col].astype(np.uint8)\n",
        "                    elif mx < 65535:\n",
        "                        df[col] = df[col].astype(np.uint16)\n",
        "                    elif mx < 4294967295:\n",
        "                        df[col] = df[col].astype(np.uint32)\n",
        "                    else:\n",
        "                        df[col] = df[col].astype(np.uint64)\n",
        "                else:\n",
        "                    if mn > np.iinfo(np.int8).min and mx < np.iinfo(np.int8).max:\n",
        "                        df[col] = df[col].astype(np.int8)\n",
        "                    elif mn > np.iinfo(np.int16).min and mx < np.iinfo(np.int16).max:\n",
        "                        df[col] = df[col].astype(np.int16)\n",
        "                    elif mn > np.iinfo(np.int32).min and mx < np.iinfo(np.int32).max:\n",
        "                        df[col] = df[col].astype(np.int32)\n",
        "                    elif mn > np.iinfo(np.int64).min and mx < np.iinfo(np.int64).max:\n",
        "                        df[col] = df[col].astype(np.int64)    \n",
        "            # Make float datatypes 32 bit\n",
        "            else:\n",
        "                df[col] = df[col].astype(np.float32)\n",
        "            \n",
        "            # Print new column type\n",
        "            print(\"dtype after: \",df[col].dtype)\n",
        "            print(\"******************************\")\n",
        "    # Print final result\n",
        "    print(\"___MEMORY USAGE AFTER COMPLETION:___\")\n",
        "    mem_usg = df.memory_usage().sum() / 1024**2 \n",
        "    print(\"Memory usage is: \",mem_usg,\" MB\")\n",
        "    print(\"This is \",100*mem_usg/start_mem_usg,\"% of the initial size\")\n",
        "    return df, NAlist"
      ],
      "execution_count": 0,
      "outputs": []
    },
    {
      "cell_type": "code",
      "metadata": {
        "id": "F1IiLFVzKqPW",
        "colab_type": "code",
        "colab": {}
      },
      "source": [
        "# Добавление медианы по метрике постройки\n",
        "\n",
        "df_median = df.groupby(by=['building_id','meter'])['meter_reading'].median()\n",
        "df_median.name = 'building_meter_median'\n",
        "\n",
        "df = pd.merge(df, df_median, how = 'inner', on = ['building_id','meter'])\n",
        "\n",
        "del df_median "
      ],
      "execution_count": 0,
      "outputs": []
    },
    {
      "cell_type": "code",
      "metadata": {
        "id": "TmQtkGKQCueL",
        "colab_type": "code",
        "outputId": "03356f48-b76b-4f3c-db60-4ac8bb79c638",
        "colab": {
          "base_uri": "https://localhost:8080/",
          "height": 334
        }
      },
      "source": [
        "#Вывести кол-во пустот по полям\n",
        "cols = list(df.columns[:3]) + list(df.columns[4:])\n",
        "\n",
        "for col in cols:\n",
        "  if np.sum(df[col].isnull()) > 0:\n",
        "    print(col)\n",
        "    print(np.sum(df[col].isnull()))\n",
        "    df[col].fillna( df[col].mean(), inplace = True)\n",
        "#df_train.isnull()\n",
        "#df_train.columns ==  df_test.columns[1:]\n"
      ],
      "execution_count": 0,
      "outputs": [
        {
          "output_type": "stream",
          "text": [
            "year_built\n",
            "12127645\n",
            "floor_count\n",
            "16362953\n",
            "air_temperature\n",
            "90495\n",
            "cloud_coverage\n",
            "567396\n",
            "dew_temperature\n",
            "90495\n",
            "precip_depth_1_hr\n",
            "1736593\n",
            "sea_level_pressure\n",
            "869690\n",
            "wind_direction\n",
            "90495\n",
            "wind_speed\n",
            "90495\n"
          ],
          "name": "stdout"
        }
      ]
    },
    {
      "cell_type": "code",
      "metadata": {
        "id": "wXMBgXiQui3a",
        "colab_type": "code",
        "colab": {}
      },
      "source": [
        "df['year_built'].fillna( df['year_built'].mean(), inplace = True)"
      ],
      "execution_count": 0,
      "outputs": []
    },
    {
      "cell_type": "code",
      "metadata": {
        "id": "BKxhRBFrG0RA",
        "colab_type": "code",
        "colab": {}
      },
      "source": [
        "# Нормализация\n",
        "\n",
        "# cols = df.columns[5:]\n",
        "\n",
        "# for col in cols:\n",
        "#   x_min = df[col].min()\n",
        "#   x_max = df[col].max()\n",
        "#   if ((x_min != 0) | (x_max != 1)):\n",
        "#     df[col] = (df[col] - x_min) / (x_max-x_min)"
      ],
      "execution_count": 0,
      "outputs": []
    },
    {
      "cell_type": "code",
      "metadata": {
        "id": "vRnpeXMU_vu5",
        "colab_type": "code",
        "outputId": "f1b76a38-1772-423b-c6fe-cec2aa263f4c",
        "colab": {
          "base_uri": "https://localhost:8080/",
          "height": 98
        }
      },
      "source": [
        "from keras.models import Sequential\n",
        "\n",
        "from keras.layers import Dense\n",
        "from keras.initializers import TruncatedNormal, Constant\n",
        "from keras.regularizers import l1\n",
        "from keras.optimizers import Adam\n",
        "import keras.backend as K\n",
        "\n",
        "from keras. callbacks import EarlyStopping, ReduceLROnPlateau\n",
        "#from keras.utils import plot_model\n",
        "from keras.losses import mean_squared_error as mse #, mean_absolute_percentage_error as mape"
      ],
      "execution_count": 0,
      "outputs": [
        {
          "output_type": "stream",
          "text": [
            "Using TensorFlow backend.\n"
          ],
          "name": "stderr"
        },
        {
          "output_type": "display_data",
          "data": {
            "text/html": [
              "<p style=\"color: red;\">\n",
              "The default version of TensorFlow in Colab will soon switch to TensorFlow 2.x.<br>\n",
              "We recommend you <a href=\"https://www.tensorflow.org/guide/migrate\" target=\"_blank\">upgrade</a> now \n",
              "or ensure your notebook will continue to use TensorFlow 1.x via the <code>%tensorflow_version 1.x</code> magic:\n",
              "<a href=\"https://colab.research.google.com/notebooks/tensorflow_version.ipynb\" target=\"_blank\">more info</a>.</p>\n"
            ],
            "text/plain": [
              "<IPython.core.display.HTML object>"
            ]
          },
          "metadata": {
            "tags": []
          }
        }
      ]
    },
    {
      "cell_type": "code",
      "metadata": {
        "id": "9LC_ZSHs_v3E",
        "colab_type": "code",
        "colab": {}
      },
      "source": [
        "def show_plot(hist):\n",
        "    plt.plot(hist.history['loss'])\n",
        "    plt.plot(hist.history['val_loss'])\n",
        "    plt.title('Model NN')\n",
        "    plt.xlabel('Epoch')\n",
        "    plt.ylabel('Loss')\n",
        "    plt.legend(['Train','Val'])\n",
        "    plt.show()\n",
        "    \n",
        "    plt.plot(hist.history['loss'])\n",
        "    plt.plot(hist.history['val_loss'])\n",
        "    plt.title('Model NN')\n",
        "    plt.xlabel('Epoch')\n",
        "    plt.ylabel('Loss')\n",
        "    plt.ylim([1,2])\n",
        "    plt.legend(['Train','Val'])\n",
        "    plt.show()\n",
        "\n",
        "    plt.plot(hist.history['loss'])\n",
        "    plt.plot(hist.history['val_loss'])\n",
        "    plt.title('Model NN')\n",
        "    plt.xlabel('Epoch')\n",
        "    plt.ylabel('Loss')\n",
        "    plt.ylim([0,1])\n",
        "    plt.legend(['Train','Val'])\n",
        "    plt.show()\n",
        "\n",
        "    "
      ],
      "execution_count": 0,
      "outputs": []
    },
    {
      "cell_type": "code",
      "metadata": {
        "id": "hfToQh4ArZ3R",
        "colab_type": "code",
        "outputId": "60b836de-4f95-433e-a4bb-ec6710df2459",
        "colab": {
          "base_uri": "https://localhost:8080/",
          "height": 281
        }
      },
      "source": [
        "df.columns"
      ],
      "execution_count": 0,
      "outputs": [
        {
          "output_type": "execute_result",
          "data": {
            "text/plain": [
              "Index(['building_id', 'meter', 'timestamp', 'meter_reading', 'hour_cos',\n",
              "       'hour_sin', 'weekday_cos', 'weekday_sin', 'week_cos', 'week_sin',\n",
              "       'site_id', 'square_feet', 'year_built', 'floor_count', 'primary_use_ID',\n",
              "       'primary_use_Education', 'primary_use_Entertainment/public assembly',\n",
              "       'primary_use_Food sales and service', 'primary_use_Healthcare',\n",
              "       'primary_use_Lodging/residential',\n",
              "       'primary_use_Manufacturing/industrial', 'primary_use_Office',\n",
              "       'primary_use_Other', 'primary_use_Parking',\n",
              "       'primary_use_Public services', 'primary_use_Religious worship',\n",
              "       'primary_use_Retail', 'primary_use_Services',\n",
              "       'primary_use_Technology/science', 'primary_use_Utility',\n",
              "       'primary_use_Warehouse/storage', 'air_temperature', 'cloud_coverage',\n",
              "       'dew_temperature', 'precip_depth_1_hr', 'sea_level_pressure',\n",
              "       'wind_direction', 'wind_speed', 'building_meter_median'],\n",
              "      dtype='object')"
            ]
          },
          "metadata": {
            "tags": []
          },
          "execution_count": 14
        }
      ]
    },
    {
      "cell_type": "code",
      "metadata": {
        "id": "N_Em3Xm6rdeV",
        "colab_type": "code",
        "colab": {}
      },
      "source": [
        "Out_Columns = 'meter_reading'\n",
        "In_Columns = [ 'hour_cos','hour_sin', 'weekday_cos', 'weekday_sin', 'week_cos', 'week_sin',\n",
        "       'site_id', 'square_feet', 'year_built', 'floor_count', #'primary_use_ID',\n",
        "       'primary_use_Education', 'primary_use_Entertainment/public assembly',\n",
        "       'primary_use_Food sales and service', 'primary_use_Healthcare',\n",
        "       'primary_use_Lodging/residential',\n",
        "       'primary_use_Manufacturing/industrial', 'primary_use_Office',\n",
        "       'primary_use_Other', 'primary_use_Parking',\n",
        "       'primary_use_Public services', 'primary_use_Religious worship',\n",
        "       'primary_use_Retail', 'primary_use_Services',\n",
        "       'primary_use_Technology/science', 'primary_use_Utility',\n",
        "       'primary_use_Warehouse/storage', 'air_temperature', 'cloud_coverage',\n",
        "       'dew_temperature', 'precip_depth_1_hr', 'sea_level_pressure',\n",
        "       'wind_direction', 'wind_speed', 'building_meter_median']"
      ],
      "execution_count": 0,
      "outputs": []
    },
    {
      "cell_type": "code",
      "metadata": {
        "id": "aup6pDdkDoZZ",
        "colab_type": "code",
        "outputId": "d314e9a7-a838-4e9d-ee03-2b48802cdb31",
        "colab": {
          "base_uri": "https://localhost:8080/",
          "height": 178
        }
      },
      "source": [
        "reg = 0.00001\n",
        "batch_size = 1024\n",
        "epochs = 70\n",
        "\n",
        "earlyStopping = EarlyStopping(monitor='val_loss', patience=100, verbose=0, mode='min')\n",
        "reduce_lr_loss = ReduceLROnPlateau(monitor='val_loss', factor=0.3, patience=5, verbose=1, min_delta=1e-3, mode='min')\n",
        "\n",
        "init = TruncatedNormal(mean=0.0, stddev=0.05, seed=159)\n",
        "bias = Constant(value = 1e-3)\n",
        "\n",
        "opt = Adam(lr = 0.0003)\n",
        "\n",
        "nn = Sequential()\n",
        "nn.add(Dense(100, input_shape = df[In_Columns].shape[1:], activation = 'tanh', kernel_regularizer=l1(reg), kernel_initializer = init, bias_initializer = bias))\n",
        "nn.add(Dense(100, activation = 'tanh', kernel_regularizer=l1(reg), kernel_initializer = init, bias_initializer = bias))\n",
        "nn.add(Dense(1, activation = 'relu', kernel_regularizer=l1(reg), kernel_initializer = init, bias_initializer = bias))\n",
        "\n",
        "nn.compile(optimizer = opt, loss = 'mse')\n",
        "\n",
        "hist = nn.fit( df[In_Columns], df[Out_Columns], batch_size = batch_size, verbose = 1\n",
        "                 , epochs = epochs, shuffle = True, callbacks=[earlyStopping, reduce_lr_loss]) #, validation_data=(X_val, y_val)\n"
      ],
      "execution_count": 0,
      "outputs": [
        {
          "output_type": "stream",
          "text": [
            "Epoch 1/70\n",
            "19869886/19869886 [==============================] - 87s 4us/step - loss: 3.9242\n",
            "Epoch 2/70"
          ],
          "name": "stdout"
        },
        {
          "output_type": "stream",
          "text": [
            "/usr/local/lib/python3.6/dist-packages/keras/callbacks.py:842: RuntimeWarning: Early stopping conditioned on metric `val_loss` which is not available. Available metrics are: loss\n",
            "  (self.monitor, ','.join(list(logs.keys()))), RuntimeWarning\n",
            "/usr/local/lib/python3.6/dist-packages/keras/callbacks.py:1379: RuntimeWarning: Reduce LR on plateau conditioned on metric `val_loss` which is not available. Available metrics are: loss,lr\n",
            "  (self.monitor, ','.join(list(logs.keys()))), RuntimeWarning\n"
          ],
          "name": "stderr"
        },
        {
          "output_type": "stream",
          "text": [
            "\n",
            "  668672/19869886 [>.............................] - ETA: 2:00 - loss: 3.8251"
          ],
          "name": "stdout"
        }
      ]
    },
    {
      "cell_type": "code",
      "metadata": {
        "id": "sXyyr7vVmK6R",
        "colab_type": "code",
        "outputId": "c3c20493-8fb3-4565-adf3-f150b5feedea",
        "colab": {
          "base_uri": "https://localhost:8080/",
          "height": 1000
        }
      },
      "source": [
        "hist = nn.fit( X_train, y_train, batch_size = 200000, verbose = 1\n",
        "                 , epochs = 70, shuffle = True, validation_data=(X_val, y_val), callbacks=[earlyStopping, reduce_lr_loss])\n"
      ],
      "execution_count": 0,
      "outputs": [
        {
          "output_type": "stream",
          "text": [
            "Train on 13544787 samples, validate on 6671313 samples\n",
            "Epoch 1/70\n",
            "13544787/13544787 [==============================] - 33s 2us/step - loss: 0.9631 - val_loss: 0.9545\n",
            "Epoch 2/70\n",
            "13544787/13544787 [==============================] - 33s 2us/step - loss: 0.9552 - val_loss: 0.9593\n",
            "Epoch 3/70\n",
            "13544787/13544787 [==============================] - 33s 2us/step - loss: 0.9596 - val_loss: 0.9531\n",
            "Epoch 4/70\n",
            "13544787/13544787 [==============================] - 33s 2us/step - loss: 0.9585 - val_loss: 0.9600\n",
            "Epoch 5/70\n",
            "13544787/13544787 [==============================] - 33s 2us/step - loss: 0.9508 - val_loss: 0.9560\n",
            "Epoch 6/70\n",
            "13544787/13544787 [==============================] - 33s 2us/step - loss: 0.9525 - val_loss: 0.9524\n",
            "Epoch 7/70\n",
            "13544787/13544787 [==============================] - 33s 2us/step - loss: 0.9525 - val_loss: 0.9522\n",
            "Epoch 8/70\n",
            "13544787/13544787 [==============================] - 33s 2us/step - loss: 0.9474 - val_loss: 0.9483\n",
            "Epoch 9/70\n",
            "13544787/13544787 [==============================] - 33s 2us/step - loss: 0.9512 - val_loss: 0.9484\n",
            "Epoch 10/70\n",
            "13544787/13544787 [==============================] - 33s 2us/step - loss: 0.9468 - val_loss: 0.9652\n",
            "Epoch 11/70\n",
            "13544787/13544787 [==============================] - 33s 2us/step - loss: 0.9451 - val_loss: 0.9448\n",
            "Epoch 12/70\n",
            "13544787/13544787 [==============================] - 33s 2us/step - loss: 0.9459 - val_loss: 0.9409\n",
            "Epoch 13/70\n",
            "13544787/13544787 [==============================] - 33s 2us/step - loss: 0.9428 - val_loss: 0.9465\n",
            "Epoch 14/70\n",
            "13544787/13544787 [==============================] - 33s 2us/step - loss: 0.9437 - val_loss: 0.9364\n",
            "Epoch 15/70\n",
            "13544787/13544787 [==============================] - 33s 2us/step - loss: 0.9408 - val_loss: 0.9449\n",
            "Epoch 16/70\n",
            "13544787/13544787 [==============================] - 33s 2us/step - loss: 0.9376 - val_loss: 0.9381\n",
            "Epoch 17/70\n",
            "13544787/13544787 [==============================] - 33s 2us/step - loss: 0.9373 - val_loss: 0.9357\n",
            "Epoch 18/70\n",
            "13544787/13544787 [==============================] - 33s 2us/step - loss: 0.9372 - val_loss: 0.9314\n",
            "Epoch 19/70\n",
            "13544787/13544787 [==============================] - 33s 2us/step - loss: 0.9358 - val_loss: 0.9316\n",
            "Epoch 20/70\n",
            "13544787/13544787 [==============================] - 33s 2us/step - loss: 0.9322 - val_loss: 0.9343\n",
            "Epoch 21/70\n",
            "13544787/13544787 [==============================] - 33s 2us/step - loss: 0.9358 - val_loss: 0.9277\n",
            "Epoch 22/70\n",
            "13544787/13544787 [==============================] - 33s 2us/step - loss: 0.9309 - val_loss: 0.9258\n",
            "Epoch 23/70\n",
            "13544787/13544787 [==============================] - 33s 2us/step - loss: 0.9278 - val_loss: 0.9313\n",
            "Epoch 24/70\n",
            "13544787/13544787 [==============================] - 33s 2us/step - loss: 0.9312 - val_loss: 0.9249\n",
            "Epoch 25/70\n",
            "13544787/13544787 [==============================] - 33s 2us/step - loss: 0.9278 - val_loss: 0.9461\n",
            "Epoch 26/70\n",
            "13544787/13544787 [==============================] - 33s 2us/step - loss: 0.9276 - val_loss: 0.9212\n",
            "Epoch 27/70\n",
            "13544787/13544787 [==============================] - 33s 2us/step - loss: 0.9240 - val_loss: 0.9210\n",
            "Epoch 28/70\n",
            "13544787/13544787 [==============================] - 33s 2us/step - loss: 0.9273 - val_loss: 0.9369\n",
            "Epoch 29/70\n",
            "13544787/13544787 [==============================] - 33s 2us/step - loss: 0.9228 - val_loss: 0.9374\n",
            "Epoch 30/70\n",
            "13544787/13544787 [==============================] - 33s 2us/step - loss: 0.9236 - val_loss: 0.9168\n",
            "Epoch 31/70\n",
            "13544787/13544787 [==============================] - 33s 2us/step - loss: 0.9228 - val_loss: 0.9267\n",
            "Epoch 32/70\n",
            "13544787/13544787 [==============================] - 33s 2us/step - loss: 0.9170 - val_loss: 0.9162\n",
            "Epoch 33/70\n",
            "13544787/13544787 [==============================] - 34s 2us/step - loss: 0.9179 - val_loss: 0.9165\n",
            "Epoch 34/70\n",
            "13544787/13544787 [==============================] - 33s 2us/step - loss: 0.9172 - val_loss: 0.9119\n",
            "Epoch 35/70\n",
            "13544787/13544787 [==============================] - 33s 2us/step - loss: 0.9155 - val_loss: 0.9426\n",
            "Epoch 36/70\n",
            "13544787/13544787 [==============================] - 33s 2us/step - loss: 0.9144 - val_loss: 0.9100\n",
            "Epoch 37/70\n",
            "13544787/13544787 [==============================] - 33s 2us/step - loss: 0.9219 - val_loss: 0.9213\n",
            "Epoch 38/70\n",
            "13544787/13544787 [==============================] - 33s 2us/step - loss: 0.9089 - val_loss: 0.9101\n",
            "Epoch 39/70\n",
            "13544787/13544787 [==============================] - 33s 2us/step - loss: 0.9154 - val_loss: 0.9065\n",
            "Epoch 40/70\n",
            "13544787/13544787 [==============================] - 34s 2us/step - loss: 0.9090 - val_loss: 0.9111\n",
            "Epoch 41/70\n",
            "13544787/13544787 [==============================] - 33s 2us/step - loss: 0.9054 - val_loss: 0.9025\n",
            "Epoch 42/70\n",
            "13544787/13544787 [==============================] - 33s 2us/step - loss: 0.9097 - val_loss: 0.9079\n",
            "Epoch 43/70\n",
            "13544787/13544787 [==============================] - 33s 2us/step - loss: 0.9050 - val_loss: 0.9058\n",
            "Epoch 44/70\n",
            "13544787/13544787 [==============================] - 33s 2us/step - loss: 0.9059 - val_loss: 0.9089\n",
            "Epoch 45/70\n",
            "13544787/13544787 [==============================] - 33s 2us/step - loss: 0.9004 - val_loss: 0.9529\n",
            "Epoch 46/70\n",
            "13544787/13544787 [==============================] - 33s 2us/step - loss: 0.9041 - val_loss: 0.8980\n",
            "Epoch 47/70\n",
            "13544787/13544787 [==============================] - 33s 2us/step - loss: 0.9008 - val_loss: 0.8950\n",
            "Epoch 48/70\n",
            "13544787/13544787 [==============================] - 33s 2us/step - loss: 0.8978 - val_loss: 0.8940\n",
            "Epoch 49/70\n",
            "13544787/13544787 [==============================] - 33s 2us/step - loss: 0.9039 - val_loss: 0.8938\n",
            "Epoch 50/70\n",
            "13544787/13544787 [==============================] - 33s 2us/step - loss: 0.8934 - val_loss: 0.9008\n",
            "Epoch 51/70\n",
            "13544787/13544787 [==============================] - 33s 2us/step - loss: 0.8976 - val_loss: 0.8983\n",
            "Epoch 52/70\n",
            "13544787/13544787 [==============================] - 33s 2us/step - loss: 0.8946 - val_loss: 0.8958\n",
            "Epoch 53/70\n",
            "13544787/13544787 [==============================] - 33s 2us/step - loss: 0.8921 - val_loss: 0.8902\n",
            "Epoch 54/70\n",
            "13544787/13544787 [==============================] - 33s 2us/step - loss: 0.8934 - val_loss: 0.8870\n",
            "Epoch 55/70\n",
            "13544787/13544787 [==============================] - 33s 2us/step - loss: 0.8921 - val_loss: 0.8889\n",
            "Epoch 56/70\n",
            "13544787/13544787 [==============================] - 33s 2us/step - loss: 0.8905 - val_loss: 0.8886\n",
            "Epoch 57/70\n",
            "13544787/13544787 [==============================] - 33s 2us/step - loss: 0.8891 - val_loss: 0.8858\n",
            "Epoch 58/70\n",
            "13544787/13544787 [==============================] - 33s 2us/step - loss: 0.8869 - val_loss: 0.8836\n",
            "Epoch 59/70\n",
            "13544787/13544787 [==============================] - 34s 2us/step - loss: 0.8896 - val_loss: 0.8914\n",
            "Epoch 60/70\n",
            "13544787/13544787 [==============================] - 33s 2us/step - loss: 0.8834 - val_loss: 0.8799\n",
            "Epoch 61/70\n",
            "13544787/13544787 [==============================] - 33s 2us/step - loss: 0.8844 - val_loss: 0.8806\n",
            "Epoch 62/70\n",
            "13544787/13544787 [==============================] - 33s 2us/step - loss: 0.8831 - val_loss: 0.8936\n",
            "Epoch 63/70\n",
            "13544787/13544787 [==============================] - 33s 2us/step - loss: 0.8826 - val_loss: 0.8795\n",
            "Epoch 64/70\n",
            "13544787/13544787 [==============================] - 33s 2us/step - loss: 0.8859 - val_loss: 0.8799\n",
            "Epoch 65/70\n",
            "13544787/13544787 [==============================] - 33s 2us/step - loss: 0.8801 - val_loss: 0.8822\n",
            "\n",
            "Epoch 00065: ReduceLROnPlateau reducing learning rate to 0.004500000178813934.\n",
            "Epoch 66/70\n",
            "13544787/13544787 [==============================] - 33s 2us/step - loss: 0.8720 - val_loss: 0.8722\n",
            "Epoch 67/70\n",
            "13544787/13544787 [==============================] - 33s 2us/step - loss: 0.8707 - val_loss: 0.8716\n",
            "Epoch 68/70\n",
            "13544787/13544787 [==============================] - 33s 2us/step - loss: 0.8702 - val_loss: 0.8716\n",
            "Epoch 69/70\n",
            "13544787/13544787 [==============================] - 33s 2us/step - loss: 0.8698 - val_loss: 0.8706\n",
            "Epoch 70/70\n",
            "13544787/13544787 [==============================] - 33s 2us/step - loss: 0.8694 - val_loss: 0.8705\n"
          ],
          "name": "stdout"
        }
      ]
    },
    {
      "cell_type": "code",
      "metadata": {
        "id": "8HcOED4IDv0k",
        "colab_type": "code",
        "outputId": "f40f4af8-040a-4e58-ac1c-3d6efecc5846",
        "colab": {
          "base_uri": "https://localhost:8080/",
          "height": 863
        }
      },
      "source": [
        "show_plot(hist) "
      ],
      "execution_count": 0,
      "outputs": [
        {
          "output_type": "display_data",
          "data": {
            "image/png": "[encoded data removed]",
            "text/plain": [
              "<Figure size 432x288 with 1 Axes>"
            ]
          },
          "metadata": {
            "tags": []
          }
        },
        {
          "output_type": "display_data",
          "data": {
            "image/png": "[encoded data removed]",
            "text/plain": [
              "<Figure size 432x288 with 1 Axes>"
            ]
          },
          "metadata": {
            "tags": []
          }
        },
        {
          "output_type": "display_data",
          "data": {
            "image/png": "[encoded data removed]",
            "text/plain": [
              "<Figure size 432x288 with 1 Axes>"
            ]
          },
          "metadata": {
            "tags": []
          }
        }
      ]
    },
    {
      "cell_type": "code",
      "metadata": {
        "id": "3y8HyLW1fPvb",
        "colab_type": "code",
        "colab": {}
      },
      "source": [
        ""
      ],
      "execution_count": 0,
      "outputs": []
    },
    {
      "cell_type": "code",
      "metadata": {
        "id": "lvNOsZ_YDv9Y",
        "colab_type": "code",
        "colab": {}
      },
      "source": [
        "def save_model(model, dir = os.getcwd(), name = 'model'):\n",
        "  model_json = model.to_json()\n",
        "  with open(os.path.join(dir,name+'.json'), 'w') as json_file:\n",
        "      json_file.write(model_json)\n",
        "  model.save_weights(os.path.join(dir,name+'.h5'))\n",
        "  print(\"Saved model to disk.\")"
      ],
      "execution_count": 0,
      "outputs": []
    },
    {
      "cell_type": "code",
      "metadata": {
        "id": "denv9RqyDoeZ",
        "colab_type": "code",
        "outputId": "3ca3d1bd-388c-4112-df19-972cb29ebbf1",
        "colab": {
          "base_uri": "https://localhost:8080/",
          "height": 34
        }
      },
      "source": [
        "save_model(nn, DIR, 'model_nn')"
      ],
      "execution_count": 0,
      "outputs": [
        {
          "output_type": "stream",
          "text": [
            "Saved model to disk.\n"
          ],
          "name": "stdout"
        }
      ]
    },
    {
      "cell_type": "code",
      "metadata": {
        "id": "anqmOq7hmufi",
        "colab_type": "code",
        "colab": {}
      },
      "source": [
        ""
      ],
      "execution_count": 0,
      "outputs": []
    },
    {
      "cell_type": "code",
      "metadata": {
        "id": "YsYpyA4omuiY",
        "colab_type": "code",
        "colab": {}
      },
      "source": [
        "from keras.models import model_from_json\n",
        "\n",
        "def load_model(dir = os.getcwd(), name = 'model'):\n",
        "  json_file = open(os.path.join(dir,name+'.json'), 'r')\n",
        "  loaded_model_json = json_file.read()\n",
        "  json_file.close()\n",
        "  model = model_from_json(loaded_model_json)\n",
        "  model.load_weights(os.path.join(dir,name+'.h5'))\n",
        "  print(\"Loading is complete.\")\n",
        "  return model"
      ],
      "execution_count": 0,
      "outputs": []
    },
    {
      "cell_type": "code",
      "metadata": {
        "id": "fvoCZeopmulB",
        "colab_type": "code",
        "outputId": "595d1f31-57d2-49b2-c5f1-140058920979",
        "colab": {
          "base_uri": "https://localhost:8080/",
          "height": 340
        }
      },
      "source": [
        "nn = load_model(DIR, 'model_nn')\n",
        "opt = Adam(lr = 0.05)\n",
        "nn.compile(optimizer = opt, loss = mse)\n"
      ],
      "execution_count": 0,
      "outputs": [
        {
          "output_type": "stream",
          "text": [
            "WARNING:tensorflow:From /usr/local/lib/python3.6/dist-packages/keras/backend/tensorflow_backend.py:541: The name tf.placeholder is deprecated. Please use tf.compat.v1.placeholder instead.\n",
            "\n",
            "WARNING:tensorflow:From /usr/local/lib/python3.6/dist-packages/keras/backend/tensorflow_backend.py:4479: The name tf.truncated_normal is deprecated. Please use tf.random.truncated_normal instead.\n",
            "\n",
            "WARNING:tensorflow:From /usr/local/lib/python3.6/dist-packages/keras/backend/tensorflow_backend.py:190: The name tf.get_default_session is deprecated. Please use tf.compat.v1.get_default_session instead.\n",
            "\n",
            "WARNING:tensorflow:From /usr/local/lib/python3.6/dist-packages/keras/backend/tensorflow_backend.py:197: The name tf.ConfigProto is deprecated. Please use tf.compat.v1.ConfigProto instead.\n",
            "\n",
            "WARNING:tensorflow:From /usr/local/lib/python3.6/dist-packages/keras/backend/tensorflow_backend.py:203: The name tf.Session is deprecated. Please use tf.compat.v1.Session instead.\n",
            "\n",
            "WARNING:tensorflow:From /usr/local/lib/python3.6/dist-packages/keras/backend/tensorflow_backend.py:207: The name tf.global_variables is deprecated. Please use tf.compat.v1.global_variables instead.\n",
            "\n",
            "WARNING:tensorflow:From /usr/local/lib/python3.6/dist-packages/keras/backend/tensorflow_backend.py:216: The name tf.is_variable_initialized is deprecated. Please use tf.compat.v1.is_variable_initialized instead.\n",
            "\n",
            "WARNING:tensorflow:From /usr/local/lib/python3.6/dist-packages/keras/backend/tensorflow_backend.py:223: The name tf.variables_initializer is deprecated. Please use tf.compat.v1.variables_initializer instead.\n",
            "\n",
            "Loading is complete.\n",
            "WARNING:tensorflow:From /usr/local/lib/python3.6/dist-packages/keras/optimizers.py:793: The name tf.train.Optimizer is deprecated. Please use tf.compat.v1.train.Optimizer instead.\n",
            "\n"
          ],
          "name": "stdout"
        }
      ]
    },
    {
      "cell_type": "code",
      "metadata": {
        "id": "Lw8CXP-Wmuwt",
        "colab_type": "code",
        "colab": {}
      },
      "source": [
        ""
      ],
      "execution_count": 0,
      "outputs": []
    },
    {
      "cell_type": "code",
      "metadata": {
        "id": "_vze6V-2Dv3R",
        "colab_type": "code",
        "colab": {}
      },
      "source": [
        "from sklearn.utils import shuffle"
      ],
      "execution_count": 0,
      "outputs": []
    },
    {
      "cell_type": "code",
      "metadata": {
        "id": "OwGQ3nubDv6C",
        "colab_type": "code",
        "outputId": "e3ba4e99-86cb-4d65-f413-73bcac9b9274",
        "colab": {
          "base_uri": "https://localhost:8080/",
          "height": 799
        }
      },
      "source": [
        "k = nn.evaluate(X_val, y_val, batch_size = 800000, verbose = 0)\n",
        "print(k)\n",
        "for i in range(X_val.shape[1]):\n",
        "    X_val_2 = X_val.copy()\n",
        "    s = shuffle(X_val_2.iloc[:,i])\n",
        "    s.index = X_val_2.index\n",
        "    X_val_2.iloc[:, i] = s\n",
        "    print('{}: {:2.5}'.format(cols[i], nn.evaluate(X_val_2, y_val, batch_size = 800000, verbose = 0) - k))\n",
        "    X_val_2 = None"
      ],
      "execution_count": 0,
      "outputs": [
        {
          "output_type": "stream",
          "text": [
            "0.9596900019018605\n",
            "building_median: 5.819\n",
            "meter_0: 0.58292\n",
            "meter_1: 0.972\n",
            "meter_2: 0.74869\n",
            "meter_3: 0.37119\n",
            "site_id: 0.2405\n",
            "square_feet: 0.30628\n",
            "site_id_0: 1.0401\n",
            "site_id_1: 0.1221\n",
            "site_id_2: 0.30877\n",
            "site_id_3: 0.18319\n",
            "site_id_4: 0.062723\n",
            "site_id_5: 0.074246\n",
            "site_id_6: 0.1025\n",
            "site_id_7: 0.20131\n",
            "site_id_8: 0.043794\n",
            "site_id_9: 0.28214\n",
            "site_id_10: 0.057954\n",
            "site_id_11: 0.01723\n",
            "site_id_12: 0.013731\n",
            "site_id_13: 0.24857\n",
            "site_id_14: 0.30342\n",
            "site_id_15: 0.13226\n",
            "primary_use_Education: 0.3433\n",
            "primary_use_Entertainment/public assembly: 0.15548\n",
            "primary_use_Food sales and service: 0.014033\n",
            "primary_use_Healthcare: 0.061511\n",
            "primary_use_Lodging/residential: 0.15654\n",
            "primary_use_Manufacturing/industrial: 0.016794\n",
            "primary_use_Office: 0.25216\n",
            "primary_use_Other: 0.017878\n",
            "primary_use_Parking: 0.03211\n",
            "primary_use_Public services: 0.11415\n",
            "primary_use_Religious worship: 0.0012776\n",
            "primary_use_Retail: 0.0078331\n",
            "primary_use_Services: 0.018232\n",
            "primary_use_Technology/science: 0.0096781\n",
            "primary_use_Utility: 0.0033111\n",
            "primary_use_Warehouse/storage: 0.0073136\n",
            "hour_cos: 0.085005\n",
            "hour_sin: 0.05133\n",
            "weekday_cos: 0.010621\n",
            "weekday_sin: 0.028967\n",
            "week_cos: 1.0029\n",
            "week_sin: 0.85172\n"
          ],
          "name": "stdout"
        }
      ]
    },
    {
      "cell_type": "code",
      "metadata": {
        "id": "Q7cW0BjWDog5",
        "colab_type": "code",
        "outputId": "bfdc8c75-6bdc-4e6c-d38e-ae1ffb61e226",
        "colab": {
          "base_uri": "https://localhost:8080/",
          "height": 34
        }
      },
      "source": [
        "X_test.shape"
      ],
      "execution_count": 0,
      "outputs": [
        {
          "output_type": "execute_result",
          "data": {
            "text/plain": [
              "(41697600, 45)"
            ]
          },
          "metadata": {
            "tags": []
          },
          "execution_count": 30
        }
      ]
    },
    {
      "cell_type": "code",
      "metadata": {
        "id": "rglOCdGlDojs",
        "colab_type": "code",
        "colab": {}
      },
      "source": [
        "p = nn.predict(X_test, batch_size = 100000)"
      ],
      "execution_count": 0,
      "outputs": []
    },
    {
      "cell_type": "code",
      "metadata": {
        "id": "zHSFbHZiq7Of",
        "colab_type": "code",
        "colab": {}
      },
      "source": [
        ""
      ],
      "execution_count": 0,
      "outputs": []
    },
    {
      "cell_type": "code",
      "metadata": {
        "id": "6aJtmDR7rexQ",
        "colab_type": "code",
        "colab": {}
      },
      "source": [
        "df_sample_submission['meter_reading'] = np.exp(p)-1"
      ],
      "execution_count": 0,
      "outputs": []
    },
    {
      "cell_type": "code",
      "metadata": {
        "id": "TuyutB_Z1pu4",
        "colab_type": "code",
        "colab": {}
      },
      "source": [
        "df_sample_submission.to_csv(DIR+'out_file_int.csv', index = False)"
      ],
      "execution_count": 0,
      "outputs": []
    },
    {
      "cell_type": "code",
      "metadata": {
        "id": "YvKYkkIRre9C",
        "colab_type": "code",
        "outputId": "c1a857c8-b685-4878-b57f-54a123163c17",
        "colab": {
          "base_uri": "https://localhost:8080/",
          "height": 102
        }
      },
      "source": [
        "p[0:5]"
      ],
      "execution_count": 0,
      "outputs": [
        {
          "output_type": "execute_result",
          "data": {
            "text/plain": [
              "array([[5.240274 ],\n",
              "       [5.1473227],\n",
              "       [5.0696645],\n",
              "       [5.019961 ],\n",
              "       [5.010914 ]], dtype=float32)"
            ]
          },
          "metadata": {
            "tags": []
          },
          "execution_count": 33
        }
      ]
    },
    {
      "cell_type": "code",
      "metadata": {
        "id": "7gQzWTyi1Vjb",
        "colab_type": "code",
        "outputId": "4a1a4271-a100-49b4-8b17-4effad4507ba",
        "colab": {
          "base_uri": "https://localhost:8080/",
          "height": 204
        }
      },
      "source": [
        "df_sample_submission.head()"
      ],
      "execution_count": 0,
      "outputs": [
        {
          "output_type": "execute_result",
          "data": {
            "text/html": [
              "<div>\n",
              "<style scoped>\n",
              "    .dataframe tbody tr th:only-of-type {\n",
              "        vertical-align: middle;\n",
              "    }\n",
              "\n",
              "    .dataframe tbody tr th {\n",
              "        vertical-align: top;\n",
              "    }\n",
              "\n",
              "    .dataframe thead th {\n",
              "        text-align: right;\n",
              "    }\n",
              "</style>\n",
              "<table border=\"1\" class=\"dataframe\">\n",
              "  <thead>\n",
              "    <tr style=\"text-align: right;\">\n",
              "      <th></th>\n",
              "      <th>row_id</th>\n",
              "      <th>meter_reading</th>\n",
              "    </tr>\n",
              "  </thead>\n",
              "  <tbody>\n",
              "    <tr>\n",
              "      <th>8784</th>\n",
              "      <td>0</td>\n",
              "      <td>187.721802</td>\n",
              "    </tr>\n",
              "    <tr>\n",
              "      <th>8785</th>\n",
              "      <td>129</td>\n",
              "      <td>170.970444</td>\n",
              "    </tr>\n",
              "    <tr>\n",
              "      <th>8786</th>\n",
              "      <td>258</td>\n",
              "      <td>158.120926</td>\n",
              "    </tr>\n",
              "    <tr>\n",
              "      <th>8787</th>\n",
              "      <td>387</td>\n",
              "      <td>150.405380</td>\n",
              "    </tr>\n",
              "    <tr>\n",
              "      <th>8788</th>\n",
              "      <td>516</td>\n",
              "      <td>149.041794</td>\n",
              "    </tr>\n",
              "  </tbody>\n",
              "</table>\n",
              "</div>"
            ],
            "text/plain": [
              "      row_id  meter_reading\n",
              "8784       0     187.721802\n",
              "8785     129     170.970444\n",
              "8786     258     158.120926\n",
              "8787     387     150.405380\n",
              "8788     516     149.041794"
            ]
          },
          "metadata": {
            "tags": []
          },
          "execution_count": 41
        }
      ]
    },
    {
      "cell_type": "code",
      "metadata": {
        "id": "Ga1ZyBD6TXRe",
        "colab_type": "code",
        "outputId": "d1467582-6b0c-4ac8-8054-520ab759b743",
        "colab": {
          "base_uri": "https://localhost:8080/",
          "height": 258
        }
      },
      "source": [
        "X_test.head()"
      ],
      "execution_count": 0,
      "outputs": [
        {
          "output_type": "execute_result",
          "data": {
            "text/html": [
              "<div>\n",
              "<style scoped>\n",
              "    .dataframe tbody tr th:only-of-type {\n",
              "        vertical-align: middle;\n",
              "    }\n",
              "\n",
              "    .dataframe tbody tr th {\n",
              "        vertical-align: top;\n",
              "    }\n",
              "\n",
              "    .dataframe thead th {\n",
              "        text-align: right;\n",
              "    }\n",
              "</style>\n",
              "<table border=\"1\" class=\"dataframe\">\n",
              "  <thead>\n",
              "    <tr style=\"text-align: right;\">\n",
              "      <th></th>\n",
              "      <th>building_median</th>\n",
              "      <th>meter_0</th>\n",
              "      <th>meter_1</th>\n",
              "      <th>meter_2</th>\n",
              "      <th>meter_3</th>\n",
              "      <th>site_id</th>\n",
              "      <th>square_feet</th>\n",
              "      <th>site_id_0</th>\n",
              "      <th>site_id_1</th>\n",
              "      <th>site_id_2</th>\n",
              "      <th>site_id_3</th>\n",
              "      <th>site_id_4</th>\n",
              "      <th>site_id_5</th>\n",
              "      <th>site_id_6</th>\n",
              "      <th>site_id_7</th>\n",
              "      <th>site_id_8</th>\n",
              "      <th>site_id_9</th>\n",
              "      <th>site_id_10</th>\n",
              "      <th>site_id_11</th>\n",
              "      <th>site_id_12</th>\n",
              "      <th>site_id_13</th>\n",
              "      <th>site_id_14</th>\n",
              "      <th>site_id_15</th>\n",
              "      <th>primary_use_Education</th>\n",
              "      <th>primary_use_Entertainment/public assembly</th>\n",
              "      <th>primary_use_Food sales and service</th>\n",
              "      <th>primary_use_Healthcare</th>\n",
              "      <th>primary_use_Lodging/residential</th>\n",
              "      <th>primary_use_Manufacturing/industrial</th>\n",
              "      <th>primary_use_Office</th>\n",
              "      <th>primary_use_Other</th>\n",
              "      <th>primary_use_Parking</th>\n",
              "      <th>primary_use_Public services</th>\n",
              "      <th>primary_use_Religious worship</th>\n",
              "      <th>primary_use_Retail</th>\n",
              "      <th>primary_use_Services</th>\n",
              "      <th>primary_use_Technology/science</th>\n",
              "      <th>primary_use_Utility</th>\n",
              "      <th>primary_use_Warehouse/storage</th>\n",
              "      <th>hour_cos</th>\n",
              "      <th>hour_sin</th>\n",
              "      <th>weekday_cos</th>\n",
              "      <th>weekday_sin</th>\n",
              "      <th>week_cos</th>\n",
              "      <th>week_sin</th>\n",
              "    </tr>\n",
              "  </thead>\n",
              "  <tbody>\n",
              "    <tr>\n",
              "      <th>8784</th>\n",
              "      <td>0.495495</td>\n",
              "      <td>1</td>\n",
              "      <td>0</td>\n",
              "      <td>0</td>\n",
              "      <td>0</td>\n",
              "      <td>0.0</td>\n",
              "      <td>0.008173</td>\n",
              "      <td>1</td>\n",
              "      <td>0</td>\n",
              "      <td>0</td>\n",
              "      <td>0</td>\n",
              "      <td>0</td>\n",
              "      <td>0</td>\n",
              "      <td>0</td>\n",
              "      <td>0</td>\n",
              "      <td>0</td>\n",
              "      <td>0</td>\n",
              "      <td>0</td>\n",
              "      <td>0</td>\n",
              "      <td>0</td>\n",
              "      <td>0</td>\n",
              "      <td>0</td>\n",
              "      <td>0</td>\n",
              "      <td>1</td>\n",
              "      <td>0</td>\n",
              "      <td>0</td>\n",
              "      <td>0</td>\n",
              "      <td>0</td>\n",
              "      <td>0</td>\n",
              "      <td>0</td>\n",
              "      <td>0</td>\n",
              "      <td>0</td>\n",
              "      <td>0</td>\n",
              "      <td>0</td>\n",
              "      <td>0</td>\n",
              "      <td>0</td>\n",
              "      <td>0</td>\n",
              "      <td>0</td>\n",
              "      <td>0</td>\n",
              "      <td>1.000000</td>\n",
              "      <td>0.500000</td>\n",
              "      <td>0.801938</td>\n",
              "      <td>0.099031</td>\n",
              "      <td>0.996487</td>\n",
              "      <td>0.440837</td>\n",
              "    </tr>\n",
              "    <tr>\n",
              "      <th>8785</th>\n",
              "      <td>0.495495</td>\n",
              "      <td>1</td>\n",
              "      <td>0</td>\n",
              "      <td>0</td>\n",
              "      <td>0</td>\n",
              "      <td>0.0</td>\n",
              "      <td>0.008173</td>\n",
              "      <td>1</td>\n",
              "      <td>0</td>\n",
              "      <td>0</td>\n",
              "      <td>0</td>\n",
              "      <td>0</td>\n",
              "      <td>0</td>\n",
              "      <td>0</td>\n",
              "      <td>0</td>\n",
              "      <td>0</td>\n",
              "      <td>0</td>\n",
              "      <td>0</td>\n",
              "      <td>0</td>\n",
              "      <td>0</td>\n",
              "      <td>0</td>\n",
              "      <td>0</td>\n",
              "      <td>0</td>\n",
              "      <td>1</td>\n",
              "      <td>0</td>\n",
              "      <td>0</td>\n",
              "      <td>0</td>\n",
              "      <td>0</td>\n",
              "      <td>0</td>\n",
              "      <td>0</td>\n",
              "      <td>0</td>\n",
              "      <td>0</td>\n",
              "      <td>0</td>\n",
              "      <td>0</td>\n",
              "      <td>0</td>\n",
              "      <td>0</td>\n",
              "      <td>0</td>\n",
              "      <td>0</td>\n",
              "      <td>0</td>\n",
              "      <td>0.982963</td>\n",
              "      <td>0.629410</td>\n",
              "      <td>0.801938</td>\n",
              "      <td>0.099031</td>\n",
              "      <td>0.996487</td>\n",
              "      <td>0.440837</td>\n",
              "    </tr>\n",
              "    <tr>\n",
              "      <th>8786</th>\n",
              "      <td>0.495495</td>\n",
              "      <td>1</td>\n",
              "      <td>0</td>\n",
              "      <td>0</td>\n",
              "      <td>0</td>\n",
              "      <td>0.0</td>\n",
              "      <td>0.008173</td>\n",
              "      <td>1</td>\n",
              "      <td>0</td>\n",
              "      <td>0</td>\n",
              "      <td>0</td>\n",
              "      <td>0</td>\n",
              "      <td>0</td>\n",
              "      <td>0</td>\n",
              "      <td>0</td>\n",
              "      <td>0</td>\n",
              "      <td>0</td>\n",
              "      <td>0</td>\n",
              "      <td>0</td>\n",
              "      <td>0</td>\n",
              "      <td>0</td>\n",
              "      <td>0</td>\n",
              "      <td>0</td>\n",
              "      <td>1</td>\n",
              "      <td>0</td>\n",
              "      <td>0</td>\n",
              "      <td>0</td>\n",
              "      <td>0</td>\n",
              "      <td>0</td>\n",
              "      <td>0</td>\n",
              "      <td>0</td>\n",
              "      <td>0</td>\n",
              "      <td>0</td>\n",
              "      <td>0</td>\n",
              "      <td>0</td>\n",
              "      <td>0</td>\n",
              "      <td>0</td>\n",
              "      <td>0</td>\n",
              "      <td>0</td>\n",
              "      <td>0.933013</td>\n",
              "      <td>0.750000</td>\n",
              "      <td>0.801938</td>\n",
              "      <td>0.099031</td>\n",
              "      <td>0.996487</td>\n",
              "      <td>0.440837</td>\n",
              "    </tr>\n",
              "    <tr>\n",
              "      <th>8787</th>\n",
              "      <td>0.495495</td>\n",
              "      <td>1</td>\n",
              "      <td>0</td>\n",
              "      <td>0</td>\n",
              "      <td>0</td>\n",
              "      <td>0.0</td>\n",
              "      <td>0.008173</td>\n",
              "      <td>1</td>\n",
              "      <td>0</td>\n",
              "      <td>0</td>\n",
              "      <td>0</td>\n",
              "      <td>0</td>\n",
              "      <td>0</td>\n",
              "      <td>0</td>\n",
              "      <td>0</td>\n",
              "      <td>0</td>\n",
              "      <td>0</td>\n",
              "      <td>0</td>\n",
              "      <td>0</td>\n",
              "      <td>0</td>\n",
              "      <td>0</td>\n",
              "      <td>0</td>\n",
              "      <td>0</td>\n",
              "      <td>1</td>\n",
              "      <td>0</td>\n",
              "      <td>0</td>\n",
              "      <td>0</td>\n",
              "      <td>0</td>\n",
              "      <td>0</td>\n",
              "      <td>0</td>\n",
              "      <td>0</td>\n",
              "      <td>0</td>\n",
              "      <td>0</td>\n",
              "      <td>0</td>\n",
              "      <td>0</td>\n",
              "      <td>0</td>\n",
              "      <td>0</td>\n",
              "      <td>0</td>\n",
              "      <td>0</td>\n",
              "      <td>0.853553</td>\n",
              "      <td>0.853553</td>\n",
              "      <td>0.801938</td>\n",
              "      <td>0.099031</td>\n",
              "      <td>0.996487</td>\n",
              "      <td>0.440837</td>\n",
              "    </tr>\n",
              "    <tr>\n",
              "      <th>8788</th>\n",
              "      <td>0.495495</td>\n",
              "      <td>1</td>\n",
              "      <td>0</td>\n",
              "      <td>0</td>\n",
              "      <td>0</td>\n",
              "      <td>0.0</td>\n",
              "      <td>0.008173</td>\n",
              "      <td>1</td>\n",
              "      <td>0</td>\n",
              "      <td>0</td>\n",
              "      <td>0</td>\n",
              "      <td>0</td>\n",
              "      <td>0</td>\n",
              "      <td>0</td>\n",
              "      <td>0</td>\n",
              "      <td>0</td>\n",
              "      <td>0</td>\n",
              "      <td>0</td>\n",
              "      <td>0</td>\n",
              "      <td>0</td>\n",
              "      <td>0</td>\n",
              "      <td>0</td>\n",
              "      <td>0</td>\n",
              "      <td>1</td>\n",
              "      <td>0</td>\n",
              "      <td>0</td>\n",
              "      <td>0</td>\n",
              "      <td>0</td>\n",
              "      <td>0</td>\n",
              "      <td>0</td>\n",
              "      <td>0</td>\n",
              "      <td>0</td>\n",
              "      <td>0</td>\n",
              "      <td>0</td>\n",
              "      <td>0</td>\n",
              "      <td>0</td>\n",
              "      <td>0</td>\n",
              "      <td>0</td>\n",
              "      <td>0</td>\n",
              "      <td>0.750000</td>\n",
              "      <td>0.933013</td>\n",
              "      <td>0.801938</td>\n",
              "      <td>0.099031</td>\n",
              "      <td>0.996487</td>\n",
              "      <td>0.440837</td>\n",
              "    </tr>\n",
              "  </tbody>\n",
              "</table>\n",
              "</div>"
            ],
            "text/plain": [
              "      building_median  meter_0  meter_1  ...  weekday_sin  week_cos  week_sin\n",
              "8784         0.495495        1        0  ...     0.099031  0.996487  0.440837\n",
              "8785         0.495495        1        0  ...     0.099031  0.996487  0.440837\n",
              "8786         0.495495        1        0  ...     0.099031  0.996487  0.440837\n",
              "8787         0.495495        1        0  ...     0.099031  0.996487  0.440837\n",
              "8788         0.495495        1        0  ...     0.099031  0.996487  0.440837\n",
              "\n",
              "[5 rows x 45 columns]"
            ]
          },
          "metadata": {
            "tags": []
          },
          "execution_count": 37
        }
      ]
    },
    {
      "cell_type": "code",
      "metadata": {
        "id": "yaKZlONMsta8",
        "colab_type": "code",
        "colab": {}
      },
      "source": [
        "df_sample_submission['row_id'] = df_sample_submission['row_id'].astype('Int32')\n"
      ],
      "execution_count": 0,
      "outputs": []
    },
    {
      "cell_type": "code",
      "metadata": {
        "id": "kOIMC9y_steQ",
        "colab_type": "code",
        "colab": {}
      },
      "source": [
        "df_sample_submission['meter_reading'] = df_sample_submission['meter_reading'].astype('Int32')\n"
      ],
      "execution_count": 0,
      "outputs": []
    },
    {
      "cell_type": "code",
      "metadata": {
        "id": "m476u9_kZdn0",
        "colab_type": "code",
        "colab": {}
      },
      "source": [
        "# df_group = train_df.groupby('building_id')['meter_reading_log1p']\n",
        "# building_mean = df_group.mean().astype(np.float16)\n",
        "# building_median = df_group.median().astype(np.float16)\n",
        "# building_min = df_group.min().astype(np.float16)\n",
        "# building_max = df_group.max().astype(np.float16)\n",
        "# building_std = df_group.std().astype(np.float16)\n",
        "\n",
        "# train_df['building_mean'] = train_df['building_id'].map(building_mean)\n",
        "# train_df['building_median'] = train_df['building_id'].map(building_median)\n",
        "# train_df['building_min'] = train_df['building_id'].map(building_min)\n",
        "# train_df['building_max'] = train_df['building_id'].map(building_max)\n",
        "# train_df['building_std'] = train_df['building_id'].map(building_std)"
      ],
      "execution_count": 0,
      "outputs": []
    }
  ]
}