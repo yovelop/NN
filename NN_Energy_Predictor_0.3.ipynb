{
  "nbformat": 4,
  "nbformat_minor": 0,
  "metadata": {
    "colab": {
      "name": "Copy of NN Energy Predictor.ipynb",
      "provenance": [],
      "collapsed_sections": [],
      "machine_shape": "hm",
      "include_colab_link": true
    },
    "kernelspec": {
      "name": "python3",
      "display_name": "Python 3"
    },
    "accelerator": "GPU"
  },
  "cells": [
    {
      "cell_type": "markdown",
      "metadata": {
        "id": "view-in-github",
        "colab_type": "text"
      },
      "source": [
        "<a href=\"https://colab.research.google.com/github/yovelop/NN/blob/master/NN_Energy_Predictor_0.3.ipynb\" target=\"_parent\"><img src=\"https://colab.research.google.com/assets/colab-badge.svg\" alt=\"Open In Colab\"/></a>"
      ]
    },
    {
      "cell_type": "code",
      "metadata": {
        "id": "zO1azhvf_t9_",
        "colab_type": "code",
        "outputId": "8c3b4389-daa4-42c4-95af-15888b131c3b",
        "colab": {
          "base_uri": "https://localhost:8080/",
          "height": 34
        }
      },
      "source": [
        "from google.colab import drive\n",
        "drive.mount('/content/drive', force_remount=True)\n",
        "DIR = '/content/drive/My Drive/Colab Notebooks/ENSaver/'\n",
        "#drive.flush_and_unmount()"
      ],
      "execution_count": 2,
      "outputs": [
        {
          "output_type": "stream",
          "text": [
            "Mounted at /content/drive\n"
          ],
          "name": "stdout"
        }
      ]
    },
    {
      "cell_type": "code",
      "metadata": {
        "id": "fRgT9oDx_vpi",
        "colab_type": "code",
        "colab": {}
      },
      "source": [
        "#Импорты\n",
        "  import numpy as np # linear algebra\n",
        "  import pandas as pd # data processing, CSV file I/O (e.g. pd.read_csv)\n",
        "  import gc\n",
        "\n",
        "  import matplotlib.pyplot as plt\n",
        "  import matplotlib.style\n",
        "  matplotlib.style.use('ggplot')\n",
        "\n",
        "  from sys import getsizeof\n",
        "\n",
        "  import os\n",
        "  for dirname, _, filenames in os.walk(DIR):\n",
        "      for filename in filenames:\n",
        "          print(os.path.join(dirname, filename))\n",
        "\n",
        "  pd.options.mode.chained_assignment = None  # default='warn'\n",
        "  import warnings\n",
        "  pd.set_option('display.max_rows', 500)\n",
        "  pd.set_option('display.max_columns', 500)\n",
        "  pd.set_option('display.width', 100)\n",
        "  warnings.filterwarnings('ignore')\n",
        "  np.set_printoptions (precision = 4, suppress  = True)\n",
        "\n",
        "  def reduce_mem_usage(df):\n",
        "      start_mem_usg = df.memory_usage().sum() / 1024**2 \n",
        "      print(\"Memory usage of properties dataframe is :\",start_mem_usg,\" MB\")\n",
        "      NAlist = [] # Keeps track of columns that have missing values filled in. \n",
        "      for col in df.columns:\n",
        "          if (df[col].dtype != object) &  (df[col].dtype != 'datetime64[ns]'):  # Exclude strings            \n",
        "              # Print current column type\n",
        "              print(\"******************************\")\n",
        "              print(\"Column: \",col)\n",
        "              print(\"dtype before: \",df[col].dtype)            \n",
        "              # make variables for Int, max and min\n",
        "              IsInt = False\n",
        "              mx = df[col].max()\n",
        "              mn = df[col].min()\n",
        "              print(\"min for this col: \",mn)\n",
        "              print(\"max for this col: \",mx)\n",
        "              # Integer does not support NA, therefore, NA needs to be filled\n",
        "              if not np.isfinite(df[col]).all(): \n",
        "                  NAlist.append(col)\n",
        "                  df[col].fillna(mn-1,inplace=True)  \n",
        "                    \n",
        "              # test if column can be converted to an integer\n",
        "              asint = df[col].fillna(0).astype(np.int64)\n",
        "              result = abs(df[col] - asint)\n",
        "              result = result.sum()\n",
        "              if result > -0.01 and result < 0.01:\n",
        "                  IsInt = True            \n",
        "              # Make Integer/unsigned Integer datatypes\n",
        "              if IsInt:\n",
        "                  if mn >= 0:\n",
        "                      if mx < 255:\n",
        "                          df[col] = df[col].astype(np.uint8)\n",
        "                      elif mx < 65535:\n",
        "                          df[col] = df[col].astype(np.uint16)\n",
        "                      elif mx < 4294967295:\n",
        "                          df[col] = df[col].astype(np.uint32)\n",
        "                      else:\n",
        "                          df[col] = df[col].astype(np.uint64)\n",
        "                  else:\n",
        "                      if mn > np.iinfo(np.int8).min and mx < np.iinfo(np.int8).max:\n",
        "                          df[col] = df[col].astype(np.int8)\n",
        "                      elif mn > np.iinfo(np.int16).min and mx < np.iinfo(np.int16).max:\n",
        "                          df[col] = df[col].astype(np.int16)\n",
        "                      elif mn > np.iinfo(np.int32).min and mx < np.iinfo(np.int32).max:\n",
        "                          df[col] = df[col].astype(np.int32)\n",
        "                      elif mn > np.iinfo(np.int64).min and mx < np.iinfo(np.int64).max:\n",
        "                          df[col] = df[col].astype(np.int64)    \n",
        "              # Make float datatypes 32 bit\n",
        "              else:\n",
        "                  df[col] = df[col].astype(np.float32)\n",
        "              \n",
        "              # Print new column type\n",
        "              print(\"dtype after: \",df[col].dtype)\n",
        "              print(\"******************************\")\n",
        "      # Print final result\n",
        "      print(\"___MEMORY USAGE AFTER COMPLETION:___\")\n",
        "      mem_usg = df.memory_usage().sum() / 1024**2 \n",
        "      print(\"Memory usage is: \",mem_usg,\" MB\")\n",
        "      print(\"This is \",100*mem_usg/start_mem_usg,\"% of the initial size\")\n",
        "      return df, NAlist\n",
        "\n",
        "  def show_plot(hist):\n",
        "    plt.plot(hist.history['loss'])\n",
        "    plt.plot(hist.history['val_loss'])\n",
        "    plt.title('Model NN')\n",
        "    plt.xlabel('Epoch')\n",
        "    plt.ylabel('Loss')\n",
        "    plt.legend(['Train','Val'])\n",
        "    plt.show()\n",
        "    \n",
        "    plt.plot(hist.history['loss'])\n",
        "    plt.plot(hist.history['val_loss'])\n",
        "    plt.title('Model NN')\n",
        "    plt.xlabel('Epoch')\n",
        "    plt.ylabel('Loss')\n",
        "    plt.ylim([1,2])\n",
        "    plt.legend(['Train','Val'])\n",
        "    plt.show()\n",
        "\n",
        "    plt.plot(hist.history['loss'])\n",
        "    plt.plot(hist.history['val_loss'])\n",
        "    plt.title('Model NN')\n",
        "    plt.xlabel('Epoch')\n",
        "    plt.ylabel('Loss')\n",
        "    plt.ylim([0,1])\n",
        "    plt.legend(['Train','Val'])\n",
        "    plt.show()\n",
        "\n",
        "  #Импорты Керас:\n",
        "  from keras.models import Sequential, load_model\n",
        "\n",
        "  from keras.layers import Dense\n",
        "  from keras.initializers import TruncatedNormal, Constant\n",
        "  from keras.regularizers import l1,l2,l1_l2\n",
        "  from keras.optimizers import Adam\n",
        "  import keras.backend as K\n",
        "\n",
        "  from keras. callbacks import EarlyStopping, ReduceLROnPlateau, ModelCheckpoint\n",
        "  #from keras.utils import plot_model\n",
        "  from keras.losses import mean_squared_error as mse #, mean_absolute_percentage_error as mape\n",
        "\n",
        "  def RMSLE(y_true, y_pred):\n",
        "    return K.pow( K.mean( K.pow(K.log(y_true+1) - K.log(y_pred+1),2.00000)),0.5000)\n",
        "\n",
        "  def tweedieloss(y_true, y_pred):\n",
        "      return K.mean(  K.pow(    K.pow(backend.maximum(0.000,K.maximum(0.013000,y_true)),0.5)  -   K.pow(K.maximum(0.013000,y_pred),0.5)   , 2 ) / K.pow(K.maximum(0.013000,y_pred),0.5)\n",
        "                  )\n",
        "\n",
        "  def tweedieloss_bkp(y_true, y_pred):\n",
        "      p=1.5\n",
        "      dev = 2 * (K.pow(K.maximum(0.000,y_true), 2-p)/((1-p) * (2-p)) -\n",
        "                    y_true * K.pow(y_pred, 1-p)/(1-p) +\n",
        "                    K.pow(y_pred, 2-p)/(2-p))\n",
        "      return K.mean(dev)\n",
        "\n",
        "  def VAL_ (y_true, y_pred):\n",
        "      return  K.maximum(0.0330000, K.sum(y_pred))/ K.maximum(0.033000, K.sum(y_true)) \n",
        "      \n",
        "  def VAL_2 (y_true, y_pred):\n",
        "      return  K.minimum( 5.000000, K.exp ( K.abs( K.log( VAL_ (y_true, y_pred))))-1)\n",
        "  \n",
        "  def VAL_3 (y_true, y_pred):\n",
        "      return  K.exp ( K.abs( K.log( VAL_ (y_true, y_pred))))-1\n",
        "\n",
        "  def MAPE_ (y_true, y_pred):\n",
        "      return K.mean( K.minimum( 5.000000,  K.abs(y_true - y_pred)/ K.maximum(0.033000, y_true)) )\n",
        "      \n",
        "  def MAE_(y_true, y_pred):\n",
        "      return K.sum( K.abs(y_true - y_pred))/ K.maximum(0.033000, K.sum(y_true))\n",
        "\n",
        "  def MSE_(y_true, y_pred):\n",
        "      return K.sum( K.pow(y_true - y_pred,2.00000))/ K.maximum(0.033000,  K.sum(K.pow(y_true,2.00000)))\n",
        "\n",
        "  def MAE_MAPE(y_true, y_pred):\n",
        "      return (\n",
        "                        MAE_(y_true, y_pred)\n",
        "          +  0.250000 * MAPE_ (y_true, y_pred)\n",
        "      )\n",
        "              \n",
        "  def MAE_VAL_MAPE(y_true, y_pred):\n",
        "      return (\n",
        "                        MAE_(y_true, y_pred)\n",
        "          + 1.800000 *   VAL_2 (y_true, y_pred)          \n",
        "          + 0.950000 *   MAPE_ (y_true, y_pred)\n",
        "          )\n",
        "\n",
        "  def MAE_VAL(y_true, y_pred):\n",
        "      return (\n",
        "                        MAE_(y_true, y_pred)\n",
        "          + 0.800000 *   VAL_2 (y_true, y_pred)                     \n",
        "              )\n",
        "\n",
        "  def MAPE_VAL(y_true, y_pred):\n",
        "      return (\n",
        "                      MAPE_ (y_true, y_pred)\n",
        "          + 0.4000 *  VAL_2 (y_true, y_pred)             \n",
        "              )\n",
        "\n",
        "  def MSE_VAL_MAPE(y_true, y_pred):\n",
        "      return (\n",
        "            5.000000 *   MSE_(y_true, y_pred)\n",
        "          + 2.200000 *   VAL_2 (y_true, y_pred)          \n",
        "          + 0.750000 *   MAPE_ (y_true, y_pred)\n",
        "          )\n",
        "\n",
        "  def MASPE_VAL(y_true, y_pred):\n",
        "      return (\n",
        "                        MAE_(y_true, y_pred)               \n",
        "          + 0.500000 *   MSE_(y_true, y_pred)\n",
        "          + 1.200000 *   VAL_2 (y_true, y_pred)          \n",
        "          + 0.250000 *   MAPE_ (y_true, y_pred)\n",
        "          )\n",
        "  \n",
        "  def MAE_RMSLE(y_true, y_pred):\n",
        "      return (\n",
        "            1.000000 *   MAE_   (y_true, y_pred)\n",
        "          + 2.000000 *   RMSLE  (y_true, y_pred)          \n",
        "          )  \n",
        "\n",
        "  def MAPE_RMSLE(y_true, y_pred):\n",
        "      return (\n",
        "            1.000000 *   MAPE_   (y_true, y_pred)\n",
        "          + 0.100000 *   RMSLE  (y_true, y_pred)          \n",
        "          )  \n",
        "  \n",
        "  def MAPE_VAL_RMSLE(y_true, y_pred):\n",
        "      return (\n",
        "            1.000000 *   MAPE_   (y_true, y_pred)\n",
        "          + 1.000000 *   RMSLE   (y_true, y_pred)    \n",
        "          + 1.000000 *   VAL_2   (y_true, y_pred)      \n",
        "          )  \n",
        " \n",
        "  import keras.metrics\n",
        "  keras.metrics.MAE_ = MAE_\n",
        "  keras.metrics.VAL_ = VAL_\n",
        "  keras.metrics.VAL_2 = VAL_2\n",
        "  keras.metrics.MAPE_ = MAPE_\n",
        "  keras.metrics.MSE_ = MSE_\n",
        "  keras.metrics.tweedieloss = tweedieloss\n",
        "  keras.metrics.MAE_RMSLE = MAE_RMSLE\n",
        "  keras.metrics.MAPE_RMSLE = MAPE_RMSLE\n",
        "  keras.metrics.MAPE_VAL_RMSLE = MAPE_VAL_RMSLE\n",
        "  keras.metrics.RMSLE = RMSLE\n",
        "\n",
        "  import keras.losses\n",
        "  keras.losses.MAE_VAL_MAPE = MAE_VAL_MAPE\n",
        "  keras.losses.MSE_VAL_MAPE = MSE_VAL_MAPE\n",
        "  keras.losses.MAE_ = MAE_\n",
        "  keras.losses.MASPE_VAL = MASPE_VAL\n",
        "  keras.losses.tweedieloss = tweedieloss\n",
        "  keras.losses.MAE_RMSLE = MAE_RMSLE\n",
        "  keras.losses.MAPE_RMSLE = MAPE_RMSLE\n",
        "  keras.losses.MAPE_VAL_RMSLE = MAPE_VAL_RMSLE\n",
        "  keras.losses.RMSLE = RMSLE\n",
        "\n",
        "  class MyCustomCallback(keras.callbacks.Callback):\n",
        "    \n",
        "    def __init__(self, epochs, stats_print_step): \n",
        "        \n",
        "        self.__epochs = epochs\n",
        "        self.__stats_print_step = stats_print_step\n",
        "    \n",
        "    def on_train_begin(self, logs={}):\n",
        "        pass\n",
        "        #print('on_train_begin', logs)\n",
        " \n",
        "    def on_train_end(self, logs={}):\n",
        "        pass\n",
        "        #print('on_train_end', logs)\n",
        " \n",
        "    def on_epoch_begin(self, epoch, logs={}):\n",
        "        pass\n",
        " \n",
        "    def on_epoch_end(self, epoch, logs={}):\n",
        "        if ((epoch < 5) or (epoch % self.__stats_print_step == 0)) :\n",
        "            print('# ' + str('{:04d}'.format(epoch + 1)) + ' | ' + self.get_stats_by_epoch(logs))\n",
        "        if epoch == 2:\n",
        "            print('.......')\n",
        "        if epoch == self.__epochs - 1:\n",
        "            print('# ' + str('{:04d}'.format(epoch + 1)) + ' | ' + self.get_stats_by_epoch(logs))\n",
        "        else:\n",
        "            print('# ' + str('{:04d}'.format(epoch + 1)) + ' | ' + self.get_stats_by_epoch(logs), end=\"\\r\")\n",
        " \n",
        "    def on_batch_begin(self, batch, logs={}):\n",
        "        pass\n",
        "        #print('on_batch_begin', batch, logs)\n",
        " \n",
        "    def on_batch_end(self, batch, logs={}):\n",
        "        pass\n",
        "        #print('on_batch_end', batch, logs)\n",
        "\n",
        "    def get_stats_by_epoch(self, logs):\n",
        "        \n",
        "        is_test = True\n",
        "        s = ''\n",
        "        \n",
        "        for key, value in logs.items(): \n",
        "            if is_test:\n",
        "                if 'val_' not in str(key):\n",
        "                    s += ' /// '\n",
        "                    is_test = False\n",
        "            if is_test:\n",
        "                s += ' ' + str(key).replace('val_', 'TST_') + ': ' + \"{0:.4f}\".format(value)\n",
        "            else:\n",
        "                s += ' ' + 'TRN_' + str(key) + ': ' + \"{0:.4f}\".format(value)\n",
        "\n",
        "        return s #'val_loss: ' + \"{0:.4f}\".format(logs['val_loss']) + ' | loss: ' + \"{0:.4f}\".format(logs['loss'])"
      ],
      "execution_count": 0,
      "outputs": []
    },
    {
      "cell_type": "markdown",
      "metadata": {
        "id": "RQppkzTWUjLm",
        "colab_type": "text"
      },
      "source": [
        ""
      ]
    },
    {
      "cell_type": "code",
      "metadata": {
        "id": "-Fv4ErMY_vsQ",
        "colab_type": "code",
        "colab": {}
      },
      "source": [
        "#0: electricity, 1: chilledwater, 2: steam, 3: hotwater\n",
        "#  Подготовка данных\n",
        "  df = pd.read_csv(DIR + \"train.csv\", engine = 'python')\n",
        "  #df_test = pd.read_csv(DIR + \"test.csv\", engine = 'python')\n",
        "\n",
        "  df['timestamp'] = pd.to_datetime(df['timestamp'])\n",
        "  #df_test['timestamp'] = pd.to_datetime(df_test['timestamp'])\n",
        "\n",
        "  #Очистка от корявых данных\n",
        "  #df = df.query('not (building_id <= 104 & meter == 0 & timestamp <= \"2016-05-20\")')\n",
        "\n",
        "  #df['meter_reading'] = np.log1p(df['meter_reading'])\n",
        "\n",
        "  #df = pd.concat([df_train, df_test], sort=False)\n",
        "\n",
        "  df['hour_cos'] = np.cos(df['timestamp'].dt.hour * 2 * np.pi / 24)\n",
        "  df['hour_sin'] = np.sin(df['timestamp'].dt.hour * 2 * np.pi / 24)\n",
        "\n",
        "  df['weekday_cos'] = np.cos(df['timestamp'].dt.weekday * 2 * np.pi / 7)\n",
        "  df['weekday_sin'] = np.sin(df['timestamp'].dt.weekday * 2 * np.pi / 7)\n",
        "\n",
        "  df['week_cos'] = np.cos(df['timestamp'].dt.week * 2 * np.pi / 53)\n",
        "  df['week_sin'] = np.sin(df['timestamp'].dt.week * 2 * np.pi / 53)\n",
        "\n",
        "  #df_train['weekends'] = (df_train['weekday'] >= 6) * 1"
      ],
      "execution_count": 0,
      "outputs": []
    },
    {
      "cell_type": "code",
      "metadata": {
        "id": "W3xRu7Y_2MP5",
        "colab_type": "code",
        "colab": {}
      },
      "source": [
        "#Очистка от подозрительных нулей\n",
        "  #print(df[df['building_id']==2][['timestamp','meter_reading','meter','ds_zero','de_zero','is_bad_zero']].head(20))\n",
        "  df = df.sort_values(by = ['meter','building_id','timestamp'])\n",
        "  df['meter_reading_prev'] = 0\n",
        "\n",
        "  #for bid in df['building_id'].unique():\n",
        "  #  for met in df['meter'].unique():\n",
        "  df['meter_reading_prev'] = df['meter_reading'].shift()\n",
        "  df['is_equal_prev']= (df['meter_reading_prev'] == df['meter_reading'] )*1\n",
        "\n",
        "  df['day'] = df['timestamp'].dt.dayofyear\n",
        "  df_bad_rows = df.groupby(by=['building_id','day','meter'], as_index = False)['is_equal_prev'].mean()\n",
        "  df_bad_rows.rename({\"is_equal_prev\": \"IS_BAD_PRCNT\"}, axis='columns', inplace=True)\n",
        "\n",
        "  df = pd.merge(df, df_bad_rows, how = 'inner', on = ['building_id','day','meter'])\n",
        "  #print(df_bad_rows[df_bad_rows['building_id']==109].head(365))\n",
        "  del df_bad_rows \n",
        "\n",
        "  #print(df[df['building_id']==2][['timestamp','meter_reading','is_equal_prev','IS_BAD_PRCNT','day']].head(30))"
      ],
      "execution_count": 0,
      "outputs": []
    },
    {
      "cell_type": "code",
      "metadata": {
        "id": "g52hlFMS2cpu",
        "colab_type": "code",
        "colab": {
          "base_uri": "https://localhost:8080/",
          "height": 34
        },
        "outputId": "37c30847-6b24-414b-d92c-ac25923da94b"
      },
      "source": [
        "# Добавление медианы по метрике постройки\n",
        "  df_median = df.groupby(by=['building_id','meter'])['meter_reading'].median()\n",
        "  df_median.name = 'building_meter_median'\n",
        "  df = pd.merge(df, df_median, how = 'inner', on = ['building_id','meter'])\n",
        "  del df_median \n",
        "# Добавление медианы по часу, по неделе, метрике постройки\n",
        "  df['hour'] = df['timestamp'].dt.hour\n",
        "  df_median = df.groupby(by=['building_id','hour','meter'])['meter_reading'].median()\n",
        "  df_median.name = 'building_meter_hour_median'\n",
        "  df = pd.merge(df, df_median, how = 'inner', on = ['building_id','hour','meter'])\n",
        "  del df_median \n",
        "\n",
        "  df['weekday'] = df['timestamp'].dt.weekday\n",
        "  df_median = df.groupby(by=['building_id','weekday','meter'])['meter_reading'].median()\n",
        "  df_median.name = 'building_meter_weekday_median'\n",
        "  df = pd.merge(df, df_median, how = 'inner', on = ['building_id','weekday','meter'])\n",
        "  del df_median \n",
        "\n",
        "  holidays = [\"2016-01-01\", \"2016-01-18\", \"2016-02-15\", \"2016-05-30\", \"2016-07-04\",\n",
        "                    \"2016-09-05\", \"2016-10-10\", \"2016-11-11\", \"2016-11-24\", \"2016-12-26\",\n",
        "                    \"2017-01-02\", \"2017-01-16\", \"2017-02-20\", \"2017-05-29\", \"2017-07-04\",\n",
        "                    \"2017-09-04\", \"2017-10-09\", \"2017-11-10\", \"2017-11-23\", \"2017-12-25\",\n",
        "                    \"2018-01-01\", \"2018-01-15\", \"2018-02-19\", \"2018-05-28\", \"2018-07-04\",\n",
        "                    \"2018-09-03\", \"2018-10-08\", \"2018-11-12\", \"2018-11-22\", \"2018-12-25\",\n",
        "                    \"2019-01-01\"]\n",
        "  df[\"is_holiday\"] = (df.timestamp.isin(holidays)).astype(int)\n",
        "  del holidays\n",
        "#Подстановка параметров сооружения\n",
        "  building_df = pd.read_csv(DIR + \"building_metadata.csv\", engine = 'python')\n",
        "  from sklearn.preprocessing import LabelEncoder\n",
        "  le = LabelEncoder()\n",
        "  building_df[\"primary_use_ID\"] = le.fit_transform(building_df[\"primary_use\"])\n",
        "\n",
        "  #building_df['primary_use'] = building_df['primary_use'].astype('category')\n",
        "  #building_df = pd.get_dummies(building_df)\n",
        "\n",
        "  df = df.merge(building_df, left_on = \"building_id\", right_on = \"building_id\", how = \"left\")\n",
        "  df.head(5)\n",
        "  del building_df\n",
        "  gc.collect()"
      ],
      "execution_count": 40,
      "outputs": [
        {
          "output_type": "execute_result",
          "data": {
            "text/plain": [
              "48"
            ]
          },
          "metadata": {
            "tags": []
          },
          "execution_count": 40
        }
      ]
    },
    {
      "cell_type": "code",
      "metadata": {
        "id": "MIDKj_YCb_bD",
        "colab_type": "code",
        "colab": {}
      },
      "source": [
        "#Вставка данных погоды\n",
        "#Восстановление пустых данных погоды через соседей по линейной инетрполяции\n",
        "  df_weather = pd.read_csv(DIR + \"weather_train.csv\", engine = 'python')\n",
        "  df_weather['timestamp'] = pd.to_datetime(df_weather['timestamp'])\n",
        "\n",
        "  #weather_train.groupby('site_id').apply(lambda group: group.isna().sum())\n",
        "  df_times = df.drop_duplicates(['site_id','timestamp'])[['site_id','timestamp']]\n",
        "  df_times = pd.merge(df_times, df_weather, how = 'left', on = ['site_id','timestamp'])\n",
        "  df_times = df_times.sort_values(by = ['site_id','timestamp'])\n",
        "  \n",
        "  df_times = df_times.groupby('site_id').apply(lambda group: group.interpolate(limit_direction='both'))\n",
        "  df = pd.merge(df, df_times, how = 'left', on = ['site_id','timestamp'])\n",
        "  #del df_weather"
      ],
      "execution_count": 0,
      "outputs": []
    },
    {
      "cell_type": "code",
      "metadata": {
        "id": "8vojXrtAOc0t",
        "colab_type": "code",
        "colab": {}
      },
      "source": [
        "#Инфо о корявости данных:\n",
        "  print('0 Всего:',df[df['meter']==0].shape, 'Откинуть:', df[(df['meter']==0) & (df['IS_BAD_PRCNT']>0.45)].shape)\n",
        "  print('1 Всего:',df[df['meter']==1].shape, 'Откинуть:', df[(df['meter']==1) & (df['IS_BAD_PRCNT']>0.75)].shape)\n",
        "  print('2 Всего:',df[df['meter']==2].shape, 'Откинуть:', df[(df['meter']==2) & (df['IS_BAD_PRCNT']>0.75)].shape)\n",
        "  print('3 Всего:',df[df['meter']==3].shape, 'Откинуть:', df[(df['meter']==3) & (df['IS_BAD_PRCNT']>0.75)].shape)"
      ],
      "execution_count": 0,
      "outputs": []
    },
    {
      "cell_type": "code",
      "metadata": {
        "id": "TmQtkGKQCueL",
        "colab_type": "code",
        "colab": {}
      },
      "source": [
        "#Вывести кол-во пустот по полям. Затем заполнить из средним значением по полю\n",
        "  for col in df.columns:\n",
        "    print(col)\n",
        "    for met in df['meter'].unique():\n",
        "      if np.sum(df[col].isnull()) > 0:\n",
        "        print(met)\n",
        "        print(np.sum(df[col].isnull()))\n",
        "\n",
        "        df_col = df.groupby(by=['building_id','meter'], as_index = False)[col].mean()\n",
        "        df_col.rename({col: \"tmp\"}, axis='columns', inplace=True)\n",
        "        df = df.merge(df_col, left_on = ['building_id','meter'], right_on = ['building_id','meter'], how = \"left\")\n",
        "        df[col].fillna( df_col['tmp'], inplace = True)\n",
        "        df.drop(columns = ['tmp'],inplace = True)\n",
        "        del df_col\n",
        "\n",
        "        df_col = df.groupby(by=['meter'], as_index = False)[col].mean()\n",
        "        df_col.rename({col: \"tmp\"}, axis='columns', inplace=True)\n",
        "        df = df.merge(df_col, left_on = ['meter'], right_on = ['meter'], how = \"left\")\n",
        "        df[col].fillna( df_col['tmp'], inplace = True)\n",
        "        df.drop(columns = ['tmp'],inplace = True)\n",
        "        del df_col\n",
        "\n",
        "        df[col].fillna( df[col].mean(), inplace = True)"
      ],
      "execution_count": 0,
      "outputs": []
    },
    {
      "cell_type": "code",
      "metadata": {
        "id": "DxPaU99v4PI-",
        "colab_type": "code",
        "colab": {}
      },
      "source": [
        "#df.to_feather(DIR + 'DF_TRAIN_EXTENDED2.FTHR')\n",
        "#df = pd.read_feather(DIR + 'DF_TRAIN_EXTENDED2.FTHR')\n",
        "reduce_mem_usage(df)\n",
        "df.to_feather(DIR + 'DF_TRAIN_REDUCED3.FTHR')\n",
        "gc.collect()"
      ],
      "execution_count": 0,
      "outputs": []
    },
    {
      "cell_type": "markdown",
      "metadata": {
        "id": "h6XbWpxAUnQb",
        "colab_type": "text"
      },
      "source": [
        "  Скорость"
      ]
    },
    {
      "cell_type": "code",
      "metadata": {
        "id": "asr3-4DHF_sx",
        "colab_type": "code",
        "colab": {}
      },
      "source": [
        "df = pd.read_feather(DIR + 'DF_TRAIN_REDUCED3.FTHR')\n",
        "gc.collect()"
      ],
      "execution_count": 0,
      "outputs": []
    },
    {
      "cell_type": "code",
      "metadata": {
        "id": "lXdw-5dNTYz8",
        "colab_type": "code",
        "colab": {}
      },
      "source": [
        "df.describe()"
      ],
      "execution_count": 0,
      "outputs": []
    },
    {
      "cell_type": "code",
      "metadata": {
        "id": "vRnpeXMU_vu5",
        "colab_type": "code",
        "colab": {}
      },
      "source": [
        "df.head(5)"
      ],
      "execution_count": 0,
      "outputs": []
    },
    {
      "cell_type": "code",
      "metadata": {
        "id": "CIoHbZVfU2d1",
        "colab_type": "code",
        "colab": {}
      },
      "source": [
        ""
      ],
      "execution_count": 0,
      "outputs": []
    },
    {
      "cell_type": "code",
      "metadata": {
        "id": "hfToQh4ArZ3R",
        "colab_type": "code",
        "colab": {
          "base_uri": "https://localhost:8080/",
          "height": 263
        },
        "outputId": "de24b96f-5945-4b86-f6e3-e17f698b30fa"
      },
      "source": [
        "df.columns"
      ],
      "execution_count": 46,
      "outputs": [
        {
          "output_type": "execute_result",
          "data": {
            "text/plain": [
              "Index(['building_id', 'meter', 'timestamp', 'meter_reading', 'hour_cos', 'hour_sin', 'weekday_cos',\n",
              "       'weekday_sin', 'week_cos', 'week_sin', 'meter_reading_prev', 'is_equal_prev', 'day',\n",
              "       'IS_BAD_PRCNT', 'building_meter_median', 'hour', 'building_meter_hour_median', 'weekday',\n",
              "       'building_meter_weekday_median', 'is_holiday', 'site_id', 'square_feet', 'year_built',\n",
              "       'floor_count', 'primary_use_ID', 'primary_use_Education',\n",
              "       'primary_use_Entertainment/public assembly', 'primary_use_Food sales and service',\n",
              "       'primary_use_Healthcare', 'primary_use_Lodging/residential',\n",
              "       'primary_use_Manufacturing/industrial', 'primary_use_Office', 'primary_use_Other',\n",
              "       'primary_use_Parking', 'primary_use_Public services', 'primary_use_Religious worship',\n",
              "       'primary_use_Retail', 'primary_use_Services', 'primary_use_Technology/science',\n",
              "       'primary_use_Utility', 'primary_use_Warehouse/storage', 'air_temperature', 'cloud_coverage',\n",
              "       'dew_temperature', 'precip_depth_1_hr', 'sea_level_pressure', 'wind_direction',\n",
              "       'wind_speed'],\n",
              "      dtype='object')"
            ]
          },
          "metadata": {
            "tags": []
          },
          "execution_count": 46
        }
      ]
    },
    {
      "cell_type": "code",
      "metadata": {
        "id": "N_Em3Xm6rdeV",
        "colab_type": "code",
        "colab": {}
      },
      "source": [
        "Out_Columns = 'meter_reading'\n",
        "In_Columns = [ 'hour_cos','hour_sin', 'weekday_cos', 'weekday_sin', 'week_cos', 'week_sin',\n",
        "       'site_id', 'square_feet',\n",
        "       'primary_use_ID', 'is_holiday',\n",
        "       'air_temperature', 'cloud_coverage',\n",
        "       'dew_temperature', 'sea_level_pressure',\n",
        "       'wind_direction', 'wind_speed',\n",
        "       'building_meter_median','building_meter_hour_median','building_meter_weekday_median',\n",
        "       #КАНДИДАТЫ нА ИСКЛЮЧЕНИЕ:\n",
        "          'year_built', 'floor_count', 'precip_depth_1_hr',\n",
        "          #  'primary_use_Education', 'primary_use_Entertainment/public assembly', 'primary_use_Food sales and service', 'primary_use_Healthcare',\n",
        "          #  'primary_use_Lodging/residential','primary_use_Manufacturing/industrial', 'primary_use_Office',\n",
        "          #  'primary_use_Other', 'primary_use_Parking', 'primary_use_Public services', 'primary_use_Religious worship',\n",
        "          #  'primary_use_Retail', 'primary_use_Services', 'primary_use_Technology/science', 'primary_use_Utility','primary_use_Warehouse/storage',\n",
        "       ]\n",
        "# Нормализация\n",
        "if 1==1:\n",
        "  from sklearn.preprocessing import StandardScaler, MinMaxScaler, RobustScaler, OneHotEncoder\n",
        "  scaler =  MinMaxScaler (copy=True, feature_range=(0, 1))                                  #quantile_range  = (15.0,85.0)) #Normalizer #(copy=True, feature_range=(-1, 1)) # MinMaxScaler(copy=True, feature_range=(-1, 1)) #StandardScaler() #MinMaxScaler(copy=True, feature_range=(-1, 1)) # RobustScaler()\n",
        "  scaler.fit( df[In_Columns] )\n",
        "  df[In_Columns]     = pd.DataFrame(data = scaler.transform( df[In_Columns])    , columns = df[In_Columns].columns   , index=df.index) \n",
        "\n",
        "  df.fillna(0.33)\n",
        "  gc.collect()\n",
        "\n",
        "  import pickle\n",
        "  with open(DIR+'scaler3.pickle', 'wb') as handle:\n",
        "    pickle.dump(scaler, handle, protocol=pickle.HIGHEST_PROTOCOL)\n",
        "    pickle.dump(In_Columns, handle, protocol=pickle.HIGHEST_PROTOCOL)\n",
        "    pickle.dump(Out_Columns, handle, protocol=pickle.HIGHEST_PROTOCOL)\n",
        "  \n",
        "  #with open('filename.pickle', 'rb') as handle:\n",
        "  #  b = pickle.load(handle)\n"
      ],
      "execution_count": 0,
      "outputs": []
    },
    {
      "cell_type": "code",
      "metadata": {
        "id": "aup6pDdkDoZZ",
        "colab_type": "code",
        "colab": {
          "base_uri": "https://localhost:8080/",
          "height": 952
        },
        "outputId": "16fbd854-bc4d-4e57-e945-11d55f4f6126"
      },
      "source": [
        "#0: electricity, 1: chilledwater, 2: steam, 3: hotwater\n",
        "# РАСЧЁТ НЕЙРОНОК:\n",
        "  reg = 0.00001\n",
        "  batch_size = 2048\n",
        "  epochs = 50\n",
        "  meter = 0\n",
        "\n",
        "  earlyStopping = EarlyStopping(monitor='loss', patience=100, verbose=1, mode='min')\n",
        "  reduce_lr_loss = ReduceLROnPlateau(monitor='loss', factor=0.3, patience=5, verbose=1, min_delta=1e-3, mode='min')\n",
        "  model_checkpoint = ModelCheckpoint(monitor='loss', save_best_only=True, filepath = DIR + 'best_nn_' + str(meter) + '.model', save_weights_only = False, verbose=0, mode='min')\n",
        "\n",
        "  init = TruncatedNormal(mean=0.0, stddev=0.05, seed=159)\n",
        "  bias = Constant(value = 1e-3)\n",
        "  \n",
        "  if 0==0:\n",
        "    meter = 0\n",
        "    opt = Adam(lr = 0.009)\n",
        "\n",
        "    nn_0 = Sequential()\n",
        "    nn_0.add(Dense(60, input_shape = df[In_Columns].shape[1:], activation = 'tanh', kernel_regularizer=l1(reg), kernel_initializer = 'normal'))\n",
        "    nn_0.add(Dense(60, activation = 'tanh',  kernel_initializer = 'normal'))\n",
        "    nn_0.add(Dense(1, activation = 'relu', kernel_initializer = 'normal'))\n",
        "\n",
        "    nn_0.compile(optimizer = opt, loss = MAE_RMSLE, metrics=[ MAE_, RMSLE, VAL_, 'mse', MAPE_ ])\n",
        "    \n",
        "    val = df[(df['meter']==meter) & (df['day']%6==0)]\n",
        "    hist = nn_0.fit( df[(df['meter']==meter) & (df['IS_BAD_PRCNT']<0.45)][In_Columns], df[(df['meter']==meter) & (df['IS_BAD_PRCNT']<0.45)][Out_Columns], batch_size = batch_size, verbose = 0\n",
        "                    , epochs = epochs, shuffle = True, callbacks=[MyCustomCallback(epochs, 1), earlyStopping, reduce_lr_loss,model_checkpoint]\n",
        "                    , validation_data=(val[In_Columns], val[Out_Columns])\n",
        "                    ) \n",
        "    nn_0.save(DIR + str(meter) + 'HANDLY_SAVED3.MODEL')\n",
        "    gc.collect()"
      ],
      "execution_count": 51,
      "outputs": [
        {
          "output_type": "stream",
          "text": [
            "# 0001 |  TST_loss: 1.9179 TST_MAE_: 0.3655 TST_RMSLE: 0.7714 TST_VAL_: 0.8928 TST_mean_squared_error: 118147.6954 TST_MAPE_: 0.5969 ///  TRN_loss: 2.5868 TRN_MAE_: 0.6458 TRN_RMSLE: 0.9677 TRN_VAL_: 0.4630 TRN_mean_squared_error: 104814.6475 TRN_MAPE_: 0.7846\n",
            "# 0002 |  TST_loss: 1.8066 TST_MAE_: 0.3194 TST_RMSLE: 0.7380 TST_VAL_: 0.8900 TST_mean_squared_error: 106140.9546 TST_MAPE_: 0.5182 ///  TRN_loss: 1.4607 TRN_MAE_: 0.4157 TRN_RMSLE: 0.5172 TRN_VAL_: 0.6606 TRN_mean_squared_error: 77390.1262 TRN_MAPE_: 0.3503\n",
            "# 0003 |  TST_loss: 1.7443 TST_MAE_: 0.2990 TST_RMSLE: 0.7167 TST_VAL_: 0.9131 TST_mean_squared_error: 99431.6100 TST_MAPE_: 0.5066 ///  TRN_loss: 1.3095 TRN_MAE_: 0.3610 TRN_RMSLE: 0.4684 TRN_VAL_: 0.7220 TRN_mean_squared_error: 68322.2261 TRN_MAPE_: 0.3219\n",
            ".......\n",
            "# 0004 |  TST_loss: 1.7377 TST_MAE_: 0.2929 TST_RMSLE: 0.7161 TST_VAL_: 0.9589 TST_mean_squared_error: 95229.6999 TST_MAPE_: 0.5263 ///  TRN_loss: 1.2338 TRN_MAE_: 0.3323 TRN_RMSLE: 0.4447 TRN_VAL_: 0.7537 TRN_mean_squared_error: 63153.9867 TRN_MAPE_: 0.3063\n",
            "# 0005 |  TST_loss: 1.8281 TST_MAE_: 0.3201 TST_RMSLE: 0.7474 TST_VAL_: 1.0669 TST_mean_squared_error: 92306.0923 TST_MAPE_: 0.6045 ///  TRN_loss: 1.1912 TRN_MAE_: 0.3145 TRN_RMSLE: 0.4319 TRN_VAL_: 0.7733 TRN_mean_squared_error: 59615.0330 TRN_MAPE_: 0.2980\n",
            "# 0006 |  TST_loss: 1.7108 TST_MAE_: 0.2834 TST_RMSLE: 0.7068 TST_VAL_: 0.9237 TST_mean_squared_error: 89398.8027 TST_MAPE_: 0.4895 ///  TRN_loss: 1.1604 TRN_MAE_: 0.3011 TRN_RMSLE: 0.4229 TRN_VAL_: 0.7880 TRN_mean_squared_error: 56794.6474 TRN_MAPE_: 0.2925\n",
            "# 0007 |  TST_loss: 1.6979 TST_MAE_: 0.2783 TST_RMSLE: 0.7026 TST_VAL_: 0.9364 TST_mean_squared_error: 86769.9509 TST_MAPE_: 0.4866 ///  TRN_loss: 1.1317 TRN_MAE_: 0.2896 TRN_RMSLE: 0.4141 TRN_VAL_: 0.8005 TRN_mean_squared_error: 54329.9350 TRN_MAPE_: 0.2851\n",
            "# 0008 |  TST_loss: 1.6993 TST_MAE_: 0.2790 TST_RMSLE: 0.7027 TST_VAL_: 0.9939 TST_mean_squared_error: 84410.5113 TST_MAPE_: 0.5227 ///  TRN_loss: 1.1065 TRN_MAE_: 0.2792 TRN_RMSLE: 0.4063 TRN_VAL_: 0.8115 TRN_mean_squared_error: 52021.1548 TRN_MAPE_: 0.2784\n",
            "# 0009 |  TST_loss: 1.7008 TST_MAE_: 0.2790 TST_RMSLE: 0.7033 TST_VAL_: 1.0044 TST_mean_squared_error: 82492.7418 TST_MAPE_: 0.5261 ///  TRN_loss: 1.0868 TRN_MAE_: 0.2704 TRN_RMSLE: 0.4007 TRN_VAL_: 0.8207 TRN_mean_squared_error: 50000.0236 TRN_MAPE_: 0.2739\n",
            "# 0010 |  TST_loss: 1.6907 TST_MAE_: 0.2747 TST_RMSLE: 0.7002 TST_VAL_: 1.0197 TST_mean_squared_error: 80802.0666 TST_MAPE_: 0.5092 ///  TRN_loss: 1.0723 TRN_MAE_: 0.2632 TRN_RMSLE: 0.3969 TRN_VAL_: 0.8287 TRN_mean_squared_error: 48261.0647 TRN_MAPE_: 0.2717\n",
            "# 0011 |  TST_loss: 1.6930 TST_MAE_: 0.2780 TST_RMSLE: 0.6996 TST_VAL_: 0.9651 TST_mean_squared_error: 78861.9629 TST_MAPE_: 0.5194 ///  TRN_loss: 1.0605 TRN_MAE_: 0.2571 TRN_RMSLE: 0.3939 TRN_VAL_: 0.8355 TRN_mean_squared_error: 46732.2802 TRN_MAPE_: 0.2702\n",
            "# 0012 |  TST_loss: 1.6779 TST_MAE_: 0.2702 TST_RMSLE: 0.6960 TST_VAL_: 0.9449 TST_mean_squared_error: 77548.3156 TST_MAPE_: 0.4825 ///  TRN_loss: 1.0477 TRN_MAE_: 0.2513 TRN_RMSLE: 0.3904 TRN_VAL_: 0.8417 TRN_mean_squared_error: 45353.7482 TRN_MAPE_: 0.2680\n",
            "# 0013 |  TST_loss: 1.6798 TST_MAE_: 0.2705 TST_RMSLE: 0.6967 TST_VAL_: 0.9546 TST_mean_squared_error: 76529.3331 TST_MAPE_: 0.4793 ///  TRN_loss: 1.0387 TRN_MAE_: 0.2462 TRN_RMSLE: 0.3883 TRN_VAL_: 0.8477 TRN_mean_squared_error: 44154.4123 TRN_MAPE_: 0.2667\n",
            "# 0014 |  TST_loss: 1.6632 TST_MAE_: 0.2693 TST_RMSLE: 0.6890 TST_VAL_: 0.9184 TST_mean_squared_error: 75250.8028 TST_MAPE_: 0.4731 ///  TRN_loss: 1.0291 TRN_MAE_: 0.2415 TRN_RMSLE: 0.3858 TRN_VAL_: 0.8529 TRN_mean_squared_error: 43083.4932 TRN_MAPE_: 0.2651\n",
            "# 0015 |  TST_loss: 1.6476 TST_MAE_: 0.2612 TST_RMSLE: 0.6852 TST_VAL_: 0.9676 TST_mean_squared_error: 74268.7703 TST_MAPE_: 0.4796 ///  TRN_loss: 1.0214 TRN_MAE_: 0.2375 TRN_RMSLE: 0.3839 TRN_VAL_: 0.8575 TRN_mean_squared_error: 42122.9527 TRN_MAPE_: 0.2637\n",
            "# 0016 |  TST_loss: 1.6499 TST_MAE_: 0.2599 TST_RMSLE: 0.6870 TST_VAL_: 0.9677 TST_mean_squared_error: 73389.0318 TST_MAPE_: 0.4672 ///  TRN_loss: 1.0148 TRN_MAE_: 0.2339 TRN_RMSLE: 0.3824 TRN_VAL_: 0.8615 TRN_mean_squared_error: 41254.0682 TRN_MAPE_: 0.2626\n",
            "# 0017 |  TST_loss: 1.6629 TST_MAE_: 0.2638 TST_RMSLE: 0.6916 TST_VAL_: 1.0039 TST_mean_squared_error: 72744.2106 TST_MAPE_: 0.4983 ///  TRN_loss: 1.0074 TRN_MAE_: 0.2306 TRN_RMSLE: 0.3803 TRN_VAL_: 0.8652 TRN_mean_squared_error: 40456.2552 TRN_MAPE_: 0.2610\n",
            "# 0018 |  TST_loss: 1.6541 TST_MAE_: 0.2603 TST_RMSLE: 0.6888 TST_VAL_: 0.9747 TST_mean_squared_error: 71906.0301 TST_MAPE_: 0.4793 ///  TRN_loss: 1.0025 TRN_MAE_: 0.2276 TRN_RMSLE: 0.3794 TRN_VAL_: 0.8688 TRN_mean_squared_error: 39721.9341 TRN_MAPE_: 0.2604\n",
            "# 0019 |  TST_loss: 1.6545 TST_MAE_: 0.2616 TST_RMSLE: 0.6883 TST_VAL_: 0.9855 TST_mean_squared_error: 71169.4106 TST_MAPE_: 0.4904 ///  TRN_loss: 0.9966 TRN_MAE_: 0.2249 TRN_RMSLE: 0.3777 TRN_VAL_: 0.8718 TRN_mean_squared_error: 39054.1689 TRN_MAPE_: 0.2589\n",
            "# 0020 |  TST_loss: 1.6590 TST_MAE_: 0.2593 TST_RMSLE: 0.6917 TST_VAL_: 1.0193 TST_mean_squared_error: 70716.0868 TST_MAPE_: 0.4928 ///  TRN_loss: 0.9924 TRN_MAE_: 0.2226 TRN_RMSLE: 0.3768 TRN_VAL_: 0.8747 TRN_mean_squared_error: 38448.9308 TRN_MAPE_: 0.2585\n",
            "# 0021 |  TST_loss: 1.6500 TST_MAE_: 0.2581 TST_RMSLE: 0.6877 TST_VAL_: 0.9935 TST_mean_squared_error: 70172.5580 TST_MAPE_: 0.4784 ///  TRN_loss: 0.9867 TRN_MAE_: 0.2203 TRN_RMSLE: 0.3750 TRN_VAL_: 0.8773 TRN_mean_squared_error: 37884.1630 TRN_MAPE_: 0.2567\n",
            "# 0022 |  TST_loss: 1.6497 TST_MAE_: 0.2585 TST_RMSLE: 0.6873 TST_VAL_: 0.9891 TST_mean_squared_error: 69621.3627 TST_MAPE_: 0.4843 ///  TRN_loss: 0.9861 TRN_MAE_: 0.2187 TRN_RMSLE: 0.3754 TRN_VAL_: 0.8796 TRN_mean_squared_error: 37365.6387 TRN_MAPE_: 0.2572\n",
            "# 0023 |  TST_loss: 1.6468 TST_MAE_: 0.2579 TST_RMSLE: 0.6861 TST_VAL_: 0.9743 TST_mean_squared_error: 69026.2794 TST_MAPE_: 0.4766 ///  TRN_loss: 0.9788 TRN_MAE_: 0.2164 TRN_RMSLE: 0.3729 TRN_VAL_: 0.8817 TRN_mean_squared_error: 36864.6413 TRN_MAPE_: 0.2549\n",
            "# 0024 |  TST_loss: 1.6632 TST_MAE_: 0.2618 TST_RMSLE: 0.6923 TST_VAL_: 1.0217 TST_mean_squared_error: 68360.7138 TST_MAPE_: 0.5040 ///  TRN_loss: 0.9763 TRN_MAE_: 0.2148 TRN_RMSLE: 0.3723 TRN_VAL_: 0.8836 TRN_mean_squared_error: 36391.1752 TRN_MAPE_: 0.2545\n",
            "# 0025 |  TST_loss: 1.6676 TST_MAE_: 0.2610 TST_RMSLE: 0.6948 TST_VAL_: 1.0180 TST_mean_squared_error: 68172.1292 TST_MAPE_: 0.4999 ///  TRN_loss: 0.9744 TRN_MAE_: 0.2134 TRN_RMSLE: 0.3721 TRN_VAL_: 0.8853 TRN_mean_squared_error: 35949.5677 TRN_MAPE_: 0.2548\n",
            "# 0026 |  TST_loss: 1.6536 TST_MAE_: 0.2582 TST_RMSLE: 0.6892 TST_VAL_: 1.0011 TST_mean_squared_error: 67796.2580 TST_MAPE_: 0.4846 ///  TRN_loss: 0.9704 TRN_MAE_: 0.2116 TRN_RMSLE: 0.3710 TRN_VAL_: 0.8871 TRN_mean_squared_error: 35521.1297 TRN_MAPE_: 0.2537\n",
            "# 0027 |  TST_loss: 1.6592 TST_MAE_: 0.2596 TST_RMSLE: 0.6914 TST_VAL_: 0.9694 TST_mean_squared_error: 67142.8050 TST_MAPE_: 0.4756 ///  TRN_loss: 0.9687 TRN_MAE_: 0.2103 TRN_RMSLE: 0.3708 TRN_VAL_: 0.8886 TRN_mean_squared_error: 35118.5195 TRN_MAPE_: 0.2535\n",
            "# 0028 |  TST_loss: 1.6477 TST_MAE_: 0.2560 TST_RMSLE: 0.6874 TST_VAL_: 1.0062 TST_mean_squared_error: 66874.0377 TST_MAPE_: 0.4722 ///  TRN_loss: 0.9666 TRN_MAE_: 0.2091 TRN_RMSLE: 0.3703 TRN_VAL_: 0.8901 TRN_mean_squared_error: 34737.9340 TRN_MAPE_: 0.2533\n",
            "# 0029 |  TST_loss: 1.6716 TST_MAE_: 0.2634 TST_RMSLE: 0.6957 TST_VAL_: 1.0336 TST_mean_squared_error: 66519.2826 TST_MAPE_: 0.5108 ///  TRN_loss: 0.9638 TRN_MAE_: 0.2077 TRN_RMSLE: 0.3696 TRN_VAL_: 0.8917 TRN_mean_squared_error: 34375.2599 TRN_MAPE_: 0.2527\n",
            "# 0030 |  TST_loss: 1.6446 TST_MAE_: 0.2547 TST_RMSLE: 0.6865 TST_VAL_: 1.0041 TST_mean_squared_error: 66198.2474 TST_MAPE_: 0.4644 ///  TRN_loss: 0.9620 TRN_MAE_: 0.2066 TRN_RMSLE: 0.3693 TRN_VAL_: 0.8931 TRN_mean_squared_error: 34022.9300 TRN_MAPE_: 0.2527\n",
            "# 0031 |  TST_loss: 1.6468 TST_MAE_: 0.2553 TST_RMSLE: 0.6874 TST_VAL_: 1.0024 TST_mean_squared_error: 65525.5020 TST_MAPE_: 0.4804 ///  TRN_loss: 0.9588 TRN_MAE_: 0.2055 TRN_RMSLE: 0.3682 TRN_VAL_: 0.8944 TRN_mean_squared_error: 33690.4498 TRN_MAPE_: 0.2516\n",
            "# 0032 |  TST_loss: 1.6371 TST_MAE_: 0.2535 TST_RMSLE: 0.6835 TST_VAL_: 0.9985 TST_mean_squared_error: 65349.8645 TST_MAPE_: 0.4753 ///  TRN_loss: 0.9560 TRN_MAE_: 0.2043 TRN_RMSLE: 0.3675 TRN_VAL_: 0.8957 TRN_mean_squared_error: 33356.6640 TRN_MAPE_: 0.2512\n",
            "# 0033 |  TST_loss: 1.6751 TST_MAE_: 0.2640 TST_RMSLE: 0.6973 TST_VAL_: 1.0363 TST_mean_squared_error: 65119.0824 TST_MAPE_: 0.5167 ///  TRN_loss: 0.9555 TRN_MAE_: 0.2034 TRN_RMSLE: 0.3678 TRN_VAL_: 0.8970 TRN_mean_squared_error: 33045.8201 TRN_MAPE_: 0.2517\n",
            "# 0034 |  TST_loss: 1.6709 TST_MAE_: 0.2609 TST_RMSLE: 0.6966 TST_VAL_: 1.0413 TST_mean_squared_error: 64760.5913 TST_MAPE_: 0.5051 ///  TRN_loss: 0.9531 TRN_MAE_: 0.2024 TRN_RMSLE: 0.3671 TRN_VAL_: 0.8982 TRN_mean_squared_error: 32749.6895 TRN_MAPE_: 0.2512\n",
            "# 0035 |  TST_loss: 1.6423 TST_MAE_: 0.2537 TST_RMSLE: 0.6860 TST_VAL_: 0.9850 TST_mean_squared_error: 64325.5498 TST_MAPE_: 0.4703 ///  TRN_loss: 0.9519 TRN_MAE_: 0.2015 TRN_RMSLE: 0.3669 TRN_VAL_: 0.8994 TRN_mean_squared_error: 32470.0182 TRN_MAPE_: 0.2509\n",
            "# 0036 |  TST_loss: 1.6659 TST_MAE_: 0.2619 TST_RMSLE: 0.6936 TST_VAL_: 1.0212 TST_mean_squared_error: 64139.8163 TST_MAPE_: 0.5029 ///  TRN_loss: 0.9544 TRN_MAE_: 0.2011 TRN_RMSLE: 0.3683 TRN_VAL_: 0.9006 TRN_mean_squared_error: 32214.4963 TRN_MAPE_: 0.2523\n",
            "# 0037 |  TST_loss: 1.6527 TST_MAE_: 0.2611 TST_RMSLE: 0.6875 TST_VAL_: 0.9439 TST_mean_squared_error: 63838.3921 TST_MAPE_: 0.4716 ///  TRN_loss: 0.9515 TRN_MAE_: 0.2002 TRN_RMSLE: 0.3674 TRN_VAL_: 0.9014 TRN_mean_squared_error: 31959.8447 TRN_MAPE_: 0.2515\n",
            "# 0038 |  TST_loss: 1.6461 TST_MAE_: 0.2538 TST_RMSLE: 0.6878 TST_VAL_: 1.0120 TST_mean_squared_error: 63907.3935 TST_MAPE_: 0.4739 ///  TRN_loss: 0.9501 TRN_MAE_: 0.1992 TRN_RMSLE: 0.3671 TRN_VAL_: 0.9025 TRN_mean_squared_error: 31695.6543 TRN_MAPE_: 0.2513\n",
            "# 0039 |  TST_loss: 1.6391 TST_MAE_: 0.2554 TST_RMSLE: 0.6836 TST_VAL_: 0.9558 TST_mean_squared_error: 63286.0568 TST_MAPE_: 0.4631 ///  TRN_loss: 0.9460 TRN_MAE_: 0.1980 TRN_RMSLE: 0.3657 TRN_VAL_: 0.9034 TRN_mean_squared_error: 31437.0239 TRN_MAPE_: 0.2502\n",
            "# 0040 |  TST_loss: 1.6433 TST_MAE_: 0.2535 TST_RMSLE: 0.6866 TST_VAL_: 0.9769 TST_mean_squared_error: 63057.5491 TST_MAPE_: 0.4584 ///  TRN_loss: 0.9446 TRN_MAE_: 0.1973 TRN_RMSLE: 0.3653 TRN_VAL_: 0.9042 TRN_mean_squared_error: 31200.6445 TRN_MAPE_: 0.2496\n",
            "# 0041 |  TST_loss: 1.6398 TST_MAE_: 0.2521 TST_RMSLE: 0.6855 TST_VAL_: 1.0010 TST_mean_squared_error: 62758.3213 TST_MAPE_: 0.4645 ///  TRN_loss: 0.9469 TRN_MAE_: 0.1970 TRN_RMSLE: 0.3666 TRN_VAL_: 0.9048 TRN_mean_squared_error: 30978.6897 TRN_MAPE_: 0.2507\n",
            "# 0042 |  TST_loss: 1.6451 TST_MAE_: 0.2536 TST_RMSLE: 0.6873 TST_VAL_: 1.0063 TST_mean_squared_error: 62554.4718 TST_MAPE_: 0.4782 ///  TRN_loss: 0.9448 TRN_MAE_: 0.1960 TRN_RMSLE: 0.3660 TRN_VAL_: 0.9056 TRN_mean_squared_error: 30736.9758 TRN_MAPE_: 0.2502\n",
            "# 0043 |  TST_loss: 1.7726 TST_MAE_: 0.2988 TST_RMSLE: 0.7284 TST_VAL_: 1.0997 TST_mean_squared_error: 62328.6055 TST_MAPE_: 0.5795 ///  TRN_loss: 0.9435 TRN_MAE_: 0.1954 TRN_RMSLE: 0.3656 TRN_VAL_: 0.9064 TRN_mean_squared_error: 30518.9882 TRN_MAPE_: 0.2498\n",
            "# 0044 |  TST_loss: 1.6456 TST_MAE_: 0.2544 TST_RMSLE: 0.6871 TST_VAL_: 0.9955 TST_mean_squared_error: 61933.8954 TST_MAPE_: 0.4826 ///  TRN_loss: 0.9413 TRN_MAE_: 0.1945 TRN_RMSLE: 0.3649 TRN_VAL_: 0.9071 TRN_mean_squared_error: 30291.2176 TRN_MAPE_: 0.2496\n",
            "# 0045 |  TST_loss: 1.6627 TST_MAE_: 0.2593 TST_RMSLE: 0.6931 TST_VAL_: 1.0382 TST_mean_squared_error: 61804.5078 TST_MAPE_: 0.5055 ///  TRN_loss: 0.9458 TRN_MAE_: 0.1946 TRN_RMSLE: 0.3670 TRN_VAL_: 0.9080 TRN_mean_squared_error: 30112.4558 TRN_MAPE_: 0.2514\n",
            "# 0046 |  TST_loss: 1.6582 TST_MAE_: 0.2584 TST_RMSLE: 0.6914 TST_VAL_: 1.0268 TST_mean_squared_error: 61626.3730 TST_MAPE_: 0.4977 ///  TRN_loss: 0.9400 TRN_MAE_: 0.1932 TRN_RMSLE: 0.3649 TRN_VAL_: 0.9085 TRN_mean_squared_error: 29897.7771 TRN_MAPE_: 0.2491\n",
            "# 0047 |  TST_loss: 1.6354 TST_MAE_: 0.2509 TST_RMSLE: 0.6837 TST_VAL_: 1.0092 TST_mean_squared_error: 61269.9305 TST_MAPE_: 0.4725 ///  TRN_loss: 0.9406 TRN_MAE_: 0.1931 TRN_RMSLE: 0.3651 TRN_VAL_: 0.9093 TRN_mean_squared_error: 29726.0319 TRN_MAPE_: 0.2493\n",
            "# 0048 |  TST_loss: 1.6294 TST_MAE_: 0.2500 TST_RMSLE: 0.6811 TST_VAL_: 0.9943 TST_mean_squared_error: 61089.6285 TST_MAPE_: 0.4635 ///  TRN_loss: 0.9371 TRN_MAE_: 0.1919 TRN_RMSLE: 0.3640 TRN_VAL_: 0.9100 TRN_mean_squared_error: 29502.0497 TRN_MAPE_: 0.2483\n",
            "# 0049 |  TST_loss: 1.6523 TST_MAE_: 0.2573 TST_RMSLE: 0.6888 TST_VAL_: 1.0022 TST_mean_squared_error: 61332.9190 TST_MAPE_: 0.4907 ///  TRN_loss: 0.9414 TRN_MAE_: 0.1923 TRN_RMSLE: 0.3659 TRN_VAL_: 0.9107 TRN_mean_squared_error: 29355.2313 TRN_MAPE_: 0.2497\n",
            "# 0050 |  TST_loss: 1.6400 TST_MAE_: 0.2527 TST_RMSLE: 0.6852 TST_VAL_: 0.9794 TST_mean_squared_error: 60582.2473 TST_MAPE_: 0.4564 ///  TRN_loss: 0.9426 TRN_MAE_: 0.1918 TRN_RMSLE: 0.3668 TRN_VAL_: 0.9107 TRN_mean_squared_error: 29199.5677 TRN_MAPE_: 0.2495\n",
            "# 0050 |  TST_loss: 1.6400 TST_MAE_: 0.2527 TST_RMSLE: 0.6852 TST_VAL_: 0.9794 TST_mean_squared_error: 60582.2473 TST_MAPE_: 0.4564 ///  TRN_loss: 0.9426 TRN_MAE_: 0.1918 TRN_RMSLE: 0.3668 TRN_VAL_: 0.9107 TRN_mean_squared_error: 29199.5677 TRN_MAPE_: 0.2495\n"
          ],
          "name": "stdout"
        }
      ]
    },
    {
      "cell_type": "code",
      "metadata": {
        "id": "mf8-ceMw8N1q",
        "colab_type": "code",
        "colab": {
          "base_uri": "https://localhost:8080/",
          "height": 987
        },
        "outputId": "b496e40e-749b-46df-8625-da5fe02735ab"
      },
      "source": [
        "if 1==1:\n",
        "  reg = 0.00001\n",
        "  meter = 1\n",
        "  epochs = 100\n",
        "  batch_size = 512\n",
        "  opt = Adam(lr = 0.007)\n",
        "\n",
        "  earlyStopping = EarlyStopping(monitor='loss', patience=100, verbose=1, mode='min')\n",
        "  reduce_lr_loss = ReduceLROnPlateau(monitor='loss', factor=0.3, patience=5, verbose=1, min_delta=1e-3, mode='min')\n",
        "  model_checkpoint = ModelCheckpoint(monitor='loss', save_best_only=True, filepath = DIR + 'best_nn_' + str(meter) + '.model', save_weights_only = False, verbose=0, mode='min')\n",
        "\n",
        "  nn_1 = Sequential()\n",
        "  nn_1.add(Dense(90, input_shape = df[In_Columns].shape[1:], activation = 'tanh', kernel_regularizer=l1(reg), kernel_initializer = 'normal'))\n",
        "  nn_1.add(Dense(90, activation = 'tanh',  kernel_initializer = 'normal'))\n",
        "  nn_1.add(Dense(90, activation = 'relu',  kernel_initializer = 'normal'))\n",
        "  nn_1.add(Dense(90, activation = 'relu',  kernel_initializer = 'normal'))\n",
        "  nn_1.add(Dense(1, activation = 'relu', kernel_initializer = 'normal'))\n",
        "\n",
        "  nn_1.compile(optimizer = opt, loss = MAE_RMSLE, metrics=[ MAE_, RMSLE, VAL_, 'mse', MAPE_ ])\n",
        "  \n",
        "  val = df[(df['meter']==meter) & (df['day']%6==0)]\n",
        "  hist = nn_1.fit( df[(df['meter']==meter) & (df['IS_BAD_PRCNT']<0.45)][In_Columns], df[(df['meter']==meter) & (df['IS_BAD_PRCNT']<0.45)][Out_Columns], batch_size = batch_size, verbose = 0\n",
        "                  , epochs = epochs, shuffle = True, callbacks=[MyCustomCallback(epochs, 1), earlyStopping, reduce_lr_loss,model_checkpoint]\n",
        "                  , validation_data=(val[In_Columns], val[Out_Columns])\n",
        "                  ) \n",
        "  nn_1.save(DIR + str(meter) + 'HANDLY_SAVED3.MODEL')\n",
        "  gc.collect()"
      ],
      "execution_count": 0,
      "outputs": [
        {
          "output_type": "stream",
          "text": [
            "# 0001 |  TST_loss: 1585.3292 TST_MAE_: 1582.5192 TST_RMSLE: 1.3998 TST_VAL_: 1583.0170 TST_mean_squared_error: 63311811.7943 TST_MAPE_: 1.4696 ///  TRN_loss: 4.3730 TRN_MAE_: 0.7927 TRN_RMSLE: 1.7885 TRN_VAL_: 0.3588 TRN_mean_squared_error: 75230601.3727 TRN_MAPE_: 1.4660\n",
            "# 0002 |  TST_loss: 2722.9790 TST_MAE_: 2720.2127 TST_RMSLE: 1.3766 TST_VAL_: 2720.7051 TST_mean_squared_error: 63171248.7590 TST_MAPE_: 1.3923 ///  TRN_loss: 2.4501 TRN_MAE_: 0.3864 TRN_RMSLE: 1.0259 TRN_VAL_: 0.8081 TRN_mean_squared_error: 73958302.4229 TRN_MAPE_: 0.7965\n",
            "# 0003 |  TST_loss: 1416.6274 TST_MAE_: 1414.0013 TST_RMSLE: 1.3055 TST_VAL_: 1414.4545 TST_mean_squared_error: 63148597.0093 TST_MAPE_: 1.3277 ///  TRN_loss: 2.3007 TRN_MAE_: 0.3582 TRN_RMSLE: 0.9641 TRN_VAL_: 0.8303 TRN_mean_squared_error: 73834741.9094 TRN_MAPE_: 0.7440\n",
            ".......\n",
            "# 0004 |  TST_loss: 1927.5805 TST_MAE_: 1925.0122 TST_RMSLE: 1.2756 TST_VAL_: 1925.4698 TST_mean_squared_error: 62599636.4257 TST_MAPE_: 1.2910 ///  TRN_loss: 2.1977 TRN_MAE_: 0.3420 TRN_RMSLE: 0.9197 TRN_VAL_: 0.8411 TRN_mean_squared_error: 73575882.3982 TRN_MAPE_: 0.7106\n",
            "# 0005 |  TST_loss: 2020.2779 TST_MAE_: 2017.5324 TST_RMSLE: 1.3634 TST_VAL_: 2018.2216 TST_mean_squared_error: 61682182.5541 TST_MAPE_: 1.4049 ///  TRN_loss: 2.1352 TRN_MAE_: 0.3343 TRN_RMSLE: 0.8915 TRN_VAL_: 0.8438 TRN_mean_squared_error: 72725933.9823 TRN_MAPE_: 0.6924\n",
            "# 0006 |  TST_loss: 1627.8045 TST_MAE_: 1625.2509 TST_RMSLE: 1.2667 TST_VAL_: 1625.7810 TST_mean_squared_error: 60004619.5160 TST_MAPE_: 1.2896 ///  TRN_loss: 2.0836 TRN_MAE_: 0.3244 TRN_RMSLE: 0.8698 TRN_VAL_: 0.8501 TRN_mean_squared_error: 70986170.9753 TRN_MAPE_: 0.6769\n",
            "# 0007 |  TST_loss: 1601.5147 TST_MAE_: 1598.8940 TST_RMSLE: 1.2996 TST_VAL_: 1599.5183 TST_mean_squared_error: 53070346.5344 TST_MAPE_: 1.3219 ///  TRN_loss: 2.0420 TRN_MAE_: 0.3152 TRN_RMSLE: 0.8530 TRN_VAL_: 0.8564 TRN_mean_squared_error: 65949187.7651 TRN_MAPE_: 0.6613\n",
            "# 0008 |  TST_loss: 2012.0892 TST_MAE_: 2009.5863 TST_RMSLE: 1.2403 TST_VAL_: 2010.1236 TST_mean_squared_error: 46822952.6795 TST_MAPE_: 1.2580 ///  TRN_loss: 2.0069 TRN_MAE_: 0.3009 TRN_RMSLE: 0.8420 TRN_VAL_: 0.8691 TRN_mean_squared_error: 50015283.8483 TRN_MAPE_: 0.6517\n",
            "# 0009 |  TST_loss: 1610.0207 TST_MAE_: 1607.3802 TST_RMSLE: 1.3085 TST_VAL_: 1608.0270 TST_mean_squared_error: 105392200.8679 TST_MAPE_: 1.3290 ///  TRN_loss: 2.0002 TRN_MAE_: 0.2815 TRN_RMSLE: 0.8479 TRN_VAL_: 0.8949 TRN_mean_squared_error: 27398758.7423 TRN_MAPE_: 0.6568\n",
            "# 0010 |  TST_loss: 2534.7978 TST_MAE_: 2532.1977 TST_RMSLE: 1.2880 TST_VAL_: 2532.8088 TST_mean_squared_error: 181367357.3434 TST_MAPE_: 1.2895 ///  TRN_loss: 1.9823 TRN_MAE_: 0.2689 TRN_RMSLE: 0.8448 TRN_VAL_: 0.9137 TRN_mean_squared_error: 17782085.7504 TRN_MAPE_: 0.6546\n",
            "# 0011 |  TST_loss: 2045.3586 TST_MAE_: 2042.8001 TST_RMSLE: 1.2670 TST_VAL_: 2043.4226 TST_mean_squared_error: 170522351.5799 TST_MAPE_: 1.2878 ///  TRN_loss: 1.9430 TRN_MAE_: 0.2608 TRN_RMSLE: 0.8288 TRN_VAL_: 0.9210 TRN_mean_squared_error: 15157931.9073 TRN_MAPE_: 0.6398\n",
            "# 0012 |  TST_loss: 1975.9914 TST_MAE_: 1973.4703 TST_RMSLE: 1.2479 TST_VAL_: 1974.0312 TST_mean_squared_error: 205801041.3644 TST_MAPE_: 1.2536 ///  TRN_loss: 1.9261 TRN_MAE_: 0.2553 TRN_RMSLE: 0.8229 TRN_VAL_: 0.9248 TRN_mean_squared_error: 13597523.5036 TRN_MAPE_: 0.6345\n",
            "# 0013 |  TST_loss: 2779.5418 TST_MAE_: 2776.9848 TST_RMSLE: 1.2654 TST_VAL_: 2777.5731 TST_mean_squared_error: 207461614.5005 TST_MAPE_: 1.2565 ///  TRN_loss: 1.9273 TRN_MAE_: 0.2567 TRN_RMSLE: 0.8224 TRN_VAL_: 0.9257 TRN_mean_squared_error: 14480517.0679 TRN_MAPE_: 0.6345\n",
            "# 0014 |  TST_loss: 6289.2886 TST_MAE_: 6286.7402 TST_RMSLE: 1.2608 TST_VAL_: 6287.3210 TST_mean_squared_error: 240988098.7221 TST_MAPE_: 1.2526 ///  TRN_loss: 1.9274 TRN_MAE_: 0.2574 TRN_RMSLE: 0.8218 TRN_VAL_: 0.9249 TRN_mean_squared_error: 13345467.2818 TRN_MAPE_: 0.6344\n",
            "# 0015 |  TST_loss: 2820.8003 TST_MAE_: 2817.9099 TST_RMSLE: 1.4313 TST_VAL_: 2818.2282 TST_mean_squared_error: 63213582.9330 TST_MAPE_: 1.4075 ///  TRN_loss: 1.8950 TRN_MAE_: 0.2489 TRN_RMSLE: 0.8096 TRN_VAL_: 0.9320 TRN_mean_squared_error: 10678237.2209 TRN_MAPE_: 0.6237\n",
            "# 0016 |  TST_loss: 719.1178 TST_MAE_: 716.6655 TST_RMSLE: 1.2123 TST_VAL_: 717.1340 TST_mean_squared_error: 62728969.1122 TST_MAPE_: 1.2337 ///  TRN_loss: 2.0659 TRN_MAE_: 0.3159 TRN_RMSLE: 0.8612 TRN_VAL_: 0.8519 TRN_mean_squared_error: 73487734.3862 TRN_MAPE_: 0.6648\n",
            "# 0017 |  TST_loss: 1920.0983 TST_MAE_: 1917.5936 TST_RMSLE: 1.2383 TST_VAL_: 1918.1630 TST_mean_squared_error: 62351746.7361 TST_MAPE_: 1.2388 ///  TRN_loss: 1.9724 TRN_MAE_: 0.3044 TRN_RMSLE: 0.8201 TRN_VAL_: 0.8578 TRN_mean_squared_error: 73154329.0978 TRN_MAPE_: 0.6288\n",
            "# 0018 |  TST_loss: 1336.6322 TST_MAE_: 1334.2074 TST_RMSLE: 1.1982 TST_VAL_: 1334.7476 TST_mean_squared_error: 61529403.7375 TST_MAPE_: 1.2183 ///  TRN_loss: 1.9422 TRN_MAE_: 0.3005 TRN_RMSLE: 0.8067 TRN_VAL_: 0.8602 TRN_mean_squared_error: 72468704.7283 TRN_MAPE_: 0.6169\n",
            "# 0019 |  TST_loss: 1846.8663 TST_MAE_: 1844.4273 TST_RMSLE: 1.2051 TST_VAL_: 1844.9382 TST_mean_squared_error: 60028624.7868 TST_MAPE_: 1.2082 ///  TRN_loss: 1.9201 TRN_MAE_: 0.2973 TRN_RMSLE: 0.7970 TRN_VAL_: 0.8623 TRN_mean_squared_error: 71161526.5033 TRN_MAPE_: 0.6093\n",
            "# 0020 |  TST_loss: 1683.4890 TST_MAE_: 1680.9472 TST_RMSLE: 1.2563 TST_VAL_: 1681.5946 TST_mean_squared_error: 56684606.2251 TST_MAPE_: 1.2623 ///  TRN_loss: 1.9005 TRN_MAE_: 0.2946 TRN_RMSLE: 0.7885 TRN_VAL_: 0.8638 TRN_mean_squared_error: 67992310.0954 TRN_MAPE_: 0.6028\n",
            "# 0020 |  TST_loss: 1683.4890 TST_MAE_: 1680.9472 TST_RMSLE: 1.2563 TST_VAL_: 1681.5946 TST_mean_squared_error: 56684606.2251 TST_MAPE_: 1.2623 ///  TRN_loss: 1.9005 TRN_MAE_: 0.2946 TRN_RMSLE: 0.7885 TRN_VAL_: 0.8638 TRN_mean_squared_error: 67992310.0954 TRN_MAPE_: 0.6028\n",
            "Epoch 00020: ReduceLROnPlateau reducing learning rate to 0.002100000064820051.\n",
            "# 0021 |  TST_loss: 1494.0885 TST_MAE_: 1491.6720 TST_RMSLE: 1.1938 TST_VAL_: 1492.2810 TST_mean_squared_error: 55299641.2062 TST_MAPE_: 1.2023 ///  TRN_loss: 1.8018 TRN_MAE_: 0.2768 TRN_RMSLE: 0.7480 TRN_VAL_: 0.8720 TRN_mean_squared_error: 63535332.2513 TRN_MAPE_: 0.5646\n",
            "# 0022 |  TST_loss: 1202.9240 TST_MAE_: 1200.5146 TST_RMSLE: 1.1903 TST_VAL_: 1201.1248 TST_mean_squared_error: 53401922.6786 TST_MAPE_: 1.1982 ///  TRN_loss: 1.7852 TRN_MAE_: 0.2734 TRN_RMSLE: 0.7415 TRN_VAL_: 0.8747 TRN_mean_squared_error: 60304870.7851 TRN_MAPE_: 0.5597\n",
            "# 0023 |  TST_loss: 1281.6997 TST_MAE_: 1279.2931 TST_RMSLE: 1.1890 TST_VAL_: 1279.9286 TST_mean_squared_error: 52520390.9877 TST_MAPE_: 1.1879 ///  TRN_loss: 1.7759 TRN_MAE_: 0.2709 TRN_RMSLE: 0.7381 TRN_VAL_: 0.8772 TRN_mean_squared_error: 56733675.9758 TRN_MAPE_: 0.5571\n",
            "# 0024 |  TST_loss: 1186.1710 TST_MAE_: 1183.7885 TST_RMSLE: 1.1769 TST_VAL_: 1184.3959 TST_mean_squared_error: 52232396.8009 TST_MAPE_: 1.1800 ///  TRN_loss: 1.7677 TRN_MAE_: 0.2671 TRN_RMSLE: 0.7360 TRN_VAL_: 0.8810 TRN_mean_squared_error: 51925045.8615 TRN_MAPE_: 0.5557\n",
            "# 0025 |  TST_loss: 1377.9156 TST_MAE_: 1375.4738 TST_RMSLE: 1.2066 TST_VAL_: 1376.1248 TST_mean_squared_error: 52220908.2990 TST_MAPE_: 1.2097 ///  TRN_loss: 1.7570 TRN_MAE_: 0.2614 TRN_RMSLE: 0.7335 TRN_VAL_: 0.8865 TRN_mean_squared_error: 46103043.1440 TRN_MAPE_: 0.5525\n",
            "# 0026 |  TST_loss: 1172.1519 TST_MAE_: 1169.7802 TST_RMSLE: 1.1716 TST_VAL_: 1170.3670 TST_mean_squared_error: 56820262.6779 TST_MAPE_: 1.1759 ///  TRN_loss: 1.7503 TRN_MAE_: 0.2568 TRN_RMSLE: 0.7325 TRN_VAL_: 0.8919 TRN_mean_squared_error: 39294049.3607 TRN_MAPE_: 0.5526\n",
            "# 0027 |  TST_loss: 1771.7847 TST_MAE_: 1769.3900 TST_RMSLE: 1.1831 TST_VAL_: 1770.0454 TST_mean_squared_error: 66673030.6508 TST_MAPE_: 1.1929 ///  TRN_loss: 1.7398 TRN_MAE_: 0.2485 TRN_RMSLE: 0.7313 TRN_VAL_: 0.9000 TRN_mean_squared_error: 31230973.5447 TRN_MAPE_: 0.5510\n",
            "# 0028 |  TST_loss: 1241.9546 TST_MAE_: 1239.5373 TST_RMSLE: 1.1944 TST_VAL_: 1240.1949 TST_mean_squared_error: 92458028.5216 TST_MAPE_: 1.2003 ///  TRN_loss: 1.7271 TRN_MAE_: 0.2385 TRN_RMSLE: 0.7301 TRN_VAL_: 0.9118 TRN_mean_squared_error: 21815499.3363 TRN_MAPE_: 0.5499\n",
            "# 0029 |  TST_loss: 1559.9709 TST_MAE_: 1557.5551 TST_RMSLE: 1.1936 TST_VAL_: 1558.2081 TST_mean_squared_error: 146194927.9894 TST_MAPE_: 1.1962 ///  TRN_loss: 1.7147 TRN_MAE_: 0.2281 TRN_RMSLE: 0.7291 TRN_VAL_: 0.9254 TRN_mean_squared_error: 14021065.1903 TRN_MAPE_: 0.5498\n",
            "# 0030 |  TST_loss: 1442.1769 TST_MAE_: 1439.7938 TST_RMSLE: 1.1773 TST_VAL_: 1440.4261 TST_mean_squared_error: 172621308.6405 TST_MAPE_: 1.1769 ///  TRN_loss: 1.7062 TRN_MAE_: 0.2215 TRN_RMSLE: 0.7281 TRN_VAL_: 0.9350 TRN_mean_squared_error: 10555292.3983 TRN_MAPE_: 0.5485\n",
            "# 0031 |  TST_loss: 2226.9978 TST_MAE_: 2224.5703 TST_RMSLE: 1.1996 TST_VAL_: 2225.1673 TST_mean_squared_error: 112770531.5602 TST_MAPE_: 1.2030 ///  TRN_loss: 1.7048 TRN_MAE_: 0.2199 TRN_RMSLE: 0.7282 TRN_VAL_: 0.9390 TRN_mean_squared_error: 10022914.3409 TRN_MAPE_: 0.5482\n",
            "# 0032 |  TST_loss: 1246.4056 TST_MAE_: 1244.0274 TST_RMSLE: 1.1749 TST_VAL_: 1244.6605 TST_mean_squared_error: 189162683.5915 TST_MAPE_: 1.1794 ///  TRN_loss: 1.7014 TRN_MAE_: 0.2200 TRN_RMSLE: 0.7264 TRN_VAL_: 0.9419 TRN_mean_squared_error: 9446563.6339 TRN_MAPE_: 0.5465\n",
            "# 0033 |  TST_loss: 1446.4782 TST_MAE_: 1444.0990 TST_RMSLE: 1.1754 TST_VAL_: 1444.7399 TST_mean_squared_error: 210270846.1893 TST_MAPE_: 1.1775 ///  TRN_loss: 1.6952 TRN_MAE_: 0.2180 TRN_RMSLE: 0.7244 TRN_VAL_: 0.9410 TRN_mean_squared_error: 9456904.5225 TRN_MAPE_: 0.5451\n",
            "# 0034 |  TST_loss: 1370.9825 TST_MAE_: 1368.6123 TST_RMSLE: 1.1710 TST_VAL_: 1369.2340 TST_mean_squared_error: 198042738.6057 TST_MAPE_: 1.1734 ///  TRN_loss: 1.6894 TRN_MAE_: 0.2172 TRN_RMSLE: 0.7219 TRN_VAL_: 0.9414 TRN_mean_squared_error: 9247780.3796 TRN_MAPE_: 0.5431\n",
            "# 0035 |  TST_loss: 1535.4887 TST_MAE_: 1533.1189 TST_RMSLE: 1.1707 TST_VAL_: 1533.7415 TST_mean_squared_error: 211490716.5323 TST_MAPE_: 1.1709 ///  TRN_loss: 1.6928 TRN_MAE_: 0.2184 TRN_RMSLE: 0.7229 TRN_VAL_: 0.9433 TRN_mean_squared_error: 9145555.3245 TRN_MAPE_: 0.5446\n",
            "# 0036 |  TST_loss: 1728.5832 TST_MAE_: 1726.1264 TST_RMSLE: 1.2142 TST_VAL_: 1726.8253 TST_mean_squared_error: 207089013.1983 TST_MAPE_: 1.2148 ///  TRN_loss: 1.6918 TRN_MAE_: 0.2179 TRN_RMSLE: 0.7227 TRN_VAL_: 0.9425 TRN_mean_squared_error: 9293394.5712 TRN_MAPE_: 0.5437\n",
            "# 0037 |  TST_loss: 1521.3220 TST_MAE_: 1518.9412 TST_RMSLE: 1.1763 TST_VAL_: 1519.5606 TST_mean_squared_error: 225538160.4256 TST_MAPE_: 1.1679 ///  TRN_loss: 1.6828 TRN_MAE_: 0.2160 TRN_RMSLE: 0.7192 TRN_VAL_: 0.9438 TRN_mean_squared_error: 9123804.2589 TRN_MAPE_: 0.5402\n",
            "# 0038 |  TST_loss: 1371.3526 TST_MAE_: 1368.9719 TST_RMSLE: 1.1761 TST_VAL_: 1369.6111 TST_mean_squared_error: 230379296.7513 TST_MAPE_: 1.1731 ///  TRN_loss: 1.6878 TRN_MAE_: 0.2173 TRN_RMSLE: 0.7210 TRN_VAL_: 0.9438 TRN_mean_squared_error: 9098331.0339 TRN_MAPE_: 0.5416\n",
            "# 0039 |  TST_loss: 1617.8610 TST_MAE_: 1615.4717 TST_RMSLE: 1.1805 TST_VAL_: 1616.1287 TST_mean_squared_error: 232221707.2951 TST_MAPE_: 1.1772 ///  TRN_loss: 1.6809 TRN_MAE_: 0.2152 TRN_RMSLE: 0.7187 TRN_VAL_: 0.9439 TRN_mean_squared_error: 9033985.4122 TRN_MAPE_: 0.5396\n",
            "# 0040 |  TST_loss: 1451.5747 TST_MAE_: 1449.1929 TST_RMSLE: 1.1767 TST_VAL_: 1449.8388 TST_mean_squared_error: 227137339.5655 TST_MAPE_: 1.1726 ///  TRN_loss: 1.6783 TRN_MAE_: 0.2150 TRN_RMSLE: 0.7175 TRN_VAL_: 0.9435 TRN_mean_squared_error: 8992942.1138 TRN_MAPE_: 0.5388\n",
            "# 0041 |  TST_loss: 1569.3650 TST_MAE_: 1566.9432 TST_RMSLE: 1.1968 TST_VAL_: 1567.6078 TST_mean_squared_error: 206363913.3077 TST_MAPE_: 1.1925 ///  TRN_loss: 1.6782 TRN_MAE_: 0.2153 TRN_RMSLE: 0.7173 TRN_VAL_: 0.9436 TRN_mean_squared_error: 8971544.4398 TRN_MAPE_: 0.5383\n",
            "# 0042 |  TST_loss: 1817.6920 TST_MAE_: 1815.2689 TST_RMSLE: 1.1975 TST_VAL_: 1815.9463 TST_mean_squared_error: 230663620.4422 TST_MAPE_: 1.1954 ///  TRN_loss: 1.6773 TRN_MAE_: 0.2148 TRN_RMSLE: 0.7171 TRN_VAL_: 0.9443 TRN_mean_squared_error: 8959913.0629 TRN_MAPE_: 0.5378\n",
            "# 0043 |  TST_loss: 1582.6204 TST_MAE_: 1580.2186 TST_RMSLE: 1.1868 TST_VAL_: 1580.8079 TST_mean_squared_error: 190980062.6713 TST_MAPE_: 1.1835 ///  TRN_loss: 1.6753 TRN_MAE_: 0.2150 TRN_RMSLE: 0.7160 TRN_VAL_: 0.9443 TRN_mean_squared_error: 8965575.5623 TRN_MAPE_: 0.5378\n",
            "# 0044 |  TST_loss: 1283.2441 TST_MAE_: 1280.8866 TST_RMSLE: 1.1647 TST_VAL_: 1281.4989 TST_mean_squared_error: 204575201.3043 TST_MAPE_: 1.1639 ///  TRN_loss: 1.6739 TRN_MAE_: 0.2143 TRN_RMSLE: 0.7156 TRN_VAL_: 0.9449 TRN_mean_squared_error: 8967121.8373 TRN_MAPE_: 0.5367\n",
            "# 0045 |  TST_loss: 1734.4731 TST_MAE_: 1732.0872 TST_RMSLE: 1.1788 TST_VAL_: 1732.7140 TST_mean_squared_error: 218840815.0317 TST_MAPE_: 1.1695 ///  TRN_loss: 1.6751 TRN_MAE_: 0.2149 TRN_RMSLE: 0.7159 TRN_VAL_: 0.9443 TRN_mean_squared_error: 8946590.1997 TRN_MAPE_: 0.5367\n",
            "# 0046 |  TST_loss: 2027.7072 TST_MAE_: 2025.3239 TST_RMSLE: 1.1776 TST_VAL_: 2025.9623 TST_mean_squared_error: 215654872.2078 TST_MAPE_: 1.1659 ///  TRN_loss: 1.6731 TRN_MAE_: 0.2149 TRN_RMSLE: 0.7149 TRN_VAL_: 0.9435 TRN_mean_squared_error: 9515875.9095 TRN_MAPE_: 0.5367\n",
            "# 0047 |  TST_loss: 1549.1135 TST_MAE_: 1546.7233 TST_RMSLE: 1.1809 TST_VAL_: 1547.3726 TST_mean_squared_error: 211420805.3533 TST_MAPE_: 1.1782 ///  TRN_loss: 1.6676 TRN_MAE_: 0.2133 TRN_RMSLE: 0.7130 TRN_VAL_: 0.9456 TRN_mean_squared_error: 8901631.6653 TRN_MAPE_: 0.5345\n",
            "# 0048 |  TST_loss: 1649.0986 TST_MAE_: 1646.7146 TST_RMSLE: 1.1778 TST_VAL_: 1647.3717 TST_mean_squared_error: 215203667.4648 TST_MAPE_: 1.1775 ///  TRN_loss: 1.6751 TRN_MAE_: 0.2156 TRN_RMSLE: 0.7156 TRN_VAL_: 0.9447 TRN_mean_squared_error: 8978572.8237 TRN_MAPE_: 0.5370\n",
            "# 0049 |  TST_loss: 2136.0753 TST_MAE_: 2133.6638 TST_RMSLE: 1.1917 TST_VAL_: 2134.3417 TST_mean_squared_error: 220978036.4015 TST_MAPE_: 1.1898 ///  TRN_loss: 1.6661 TRN_MAE_: 0.2132 TRN_RMSLE: 0.7123 TRN_VAL_: 0.9454 TRN_mean_squared_error: 8828089.4407 TRN_MAPE_: 0.5341\n",
            "# 0050 |  TST_loss: 1935.6948 TST_MAE_: 1933.2943 TST_RMSLE: 1.1861 TST_VAL_: 1933.9466 TST_mean_squared_error: 217634902.4667 TST_MAPE_: 1.1718 ///  TRN_loss: 1.6656 TRN_MAE_: 0.2136 TRN_RMSLE: 0.7118 TRN_VAL_: 0.9457 TRN_mean_squared_error: 8898975.1100 TRN_MAPE_: 0.5338\n",
            "# 0051 |  TST_loss: 1671.5489 TST_MAE_: 1669.1419 TST_RMSLE: 1.1894 TST_VAL_: 1669.8005 TST_mean_squared_error: 226323427.2827 TST_MAPE_: 1.1837 ///  TRN_loss: 1.6634 TRN_MAE_: 0.2124 TRN_RMSLE: 0.7113 TRN_VAL_: 0.9461 TRN_mean_squared_error: 8855913.8897 TRN_MAPE_: 0.5334\n"
          ],
          "name": "stdout"
        }
      ]
    },
    {
      "cell_type": "markdown",
      "metadata": {
        "id": "qzti4C2Ac6OD",
        "colab_type": "text"
      },
      "source": [
        ""
      ]
    },
    {
      "cell_type": "code",
      "metadata": {
        "id": "hHKu4TMG8ROI",
        "colab_type": "code",
        "colab": {}
      },
      "source": [
        "if 2==2:\n",
        "  reg = 0.000001\n",
        "  meter = 2\n",
        "  epochs = 50\n",
        "  batch_size = 200\n",
        "  opt = Adam(lr = 0.002)\n",
        "\n",
        "  earlyStopping = EarlyStopping(monitor='loss', patience=30, verbose=1, mode='min')\n",
        "  reduce_lr_loss = ReduceLROnPlateau(monitor='loss', factor=0.2, patience=55, verbose=1, min_delta=1e-3, mode='min')\n",
        "  model_checkpoint = ModelCheckpoint(monitor='loss', save_best_only=True, filepath = DIR + 'best_nn_' + str(meter) + '.model', save_weights_only = False, verbose=0, mode='min')\n",
        "\n",
        "  nn_2 = Sequential()\n",
        "  nn_2.add(Dense(90, input_shape = df[In_Columns].shape[1:], activation = 'tanh', kernel_regularizer=l1(reg), kernel_initializer = keras.initializers.RandomUniform(minval=-0.25, maxval=0.25, seed=None), bias_initializer=keras.initializers.Constant(0.1)))\n",
        "  nn_2.add(Dense(90, activation = 'tanh',  kernel_initializer = keras.initializers.RandomUniform(minval=-0.25, maxval=0.25, seed=None), bias_initializer=keras.initializers.Constant(0.1)))\n",
        "  nn_2.add(Dense( 1, activation = 'relu', kernel_initializer = 'normal'))\n",
        "\n",
        "  nn_2.compile(optimizer = opt, loss = RMSLE, metrics=[ MAE_, RMSLE, VAL_, 'mse', MAPE_ ])\n",
        "  \n",
        "  val = df[(df['meter']==meter) & (df['day']%6==0)]\n",
        "  hist = nn_2.fit( df[(df['meter']==meter) & (df['IS_BAD_PRCNT']<0.75)][In_Columns], df[(df['meter']==meter) & (df['IS_BAD_PRCNT']<0.75)][Out_Columns], batch_size = batch_size, verbose = 0\n",
        "                  , epochs = epochs, shuffle = True, callbacks=[MyCustomCallback(epochs, 1), earlyStopping, reduce_lr_loss,model_checkpoint]\n",
        "                  , validation_data=(val[In_Columns], val[Out_Columns])\n",
        "                  ) \n",
        "  nn_2.save(DIR + str(meter) + 'HANDLY_SAVED3.MODEL')\n",
        "  gc.collect()"
      ],
      "execution_count": 0,
      "outputs": []
    },
    {
      "cell_type": "code",
      "metadata": {
        "id": "2PlNOAoppy96",
        "colab_type": "code",
        "colab": {}
      },
      "source": [
        "# lr = 0.002 , 0.003, \n",
        "#nn_2 = keras.models.load_model (DIR + '2HANDLY_SAVED2.MODEL')\n",
        "opt = Adam(lr = 0.003)\n",
        "batch_size = 100\n",
        "epochs = 7\n",
        "nn_2.compile(optimizer = opt, loss = RMSLE, metrics=[ MAE_, RMSLE, VAL_, 'mse', MAPE_ ])\n",
        "hist = nn_2.fit( df[(df['meter']==meter) & (df['IS_BAD_PRCNT']<0.75)][In_Columns], df[(df['meter']==meter) & (df['IS_BAD_PRCNT']<0.75)][Out_Columns], batch_size = batch_size, verbose = 0\n",
        "                , epochs = epochs, shuffle = True, callbacks=[ MyCustomCallback(epochs, 1), earlyStopping, reduce_lr_loss,model_checkpoint] #MyCustomCallback(epochs, 1),\n",
        "                , validation_data=(val[In_Columns], val[Out_Columns])\n",
        "                ) \n",
        "#nn_2.save(DIR + str(meter) + 'HANDLY_SAVED3.MODEL')\n",
        "gc.collect()"
      ],
      "execution_count": 0,
      "outputs": []
    },
    {
      "cell_type": "code",
      "metadata": {
        "id": "cdad7yTx8Uri",
        "colab_type": "code",
        "colab": {}
      },
      "source": [
        "if 3==3:\n",
        "  meter = 3\n",
        "  epochs = 50\n",
        "  batch_size = 200\n",
        "  opt = Adam(lr = 0.00002)\n",
        "\n",
        "  earlyStopping = EarlyStopping(monitor='loss', patience=50, verbose=1, mode='min')\n",
        "  reduce_lr_loss = ReduceLROnPlateau(monitor='loss', factor=0.2, patience=10, verbose=1, min_delta=1e-3, mode='min')\n",
        "  model_checkpoint = ModelCheckpoint(monitor='loss', save_best_only=True, filepath = DIR + 'best_nn_' + str(meter) + '.model', save_weights_only = False, verbose=0, mode='min')\n",
        "\n",
        "  nn_3 = Sequential()\n",
        "  nn_3.add(Dense(45, input_shape = df[In_Columns].shape[1:], activation = 'relu', kernel_regularizer=l1(reg), kernel_initializer = 'normal', bias_initializer=keras.initializers.Constant(0.1)))\n",
        "  nn_3.add(Dense(45, activation = 'relu',  kernel_initializer = 'normal', bias_initializer=keras.initializers.Constant(0.1)))\n",
        "  nn_3.add(Dense(70, activation = 'relu',  kernel_initializer = 'normal', bias_initializer=keras.initializers.Constant(0.1)))\n",
        "  nn_3.add(Dense(1, activation = 'relu', kernel_initializer = 'normal'))\n",
        "\n",
        "  nn_3.compile(optimizer = opt, loss = RMSLE, metrics=[ MAE_, RMSLE, VAL_, 'mse', MAPE_ ])\n",
        "  \n",
        "  val = df[(df['meter']==meter) & (df['day']%6==0)]\n",
        "  hist = nn_3.fit( df[(df['meter']==meter) & (df['IS_BAD_PRCNT']<0.25)][In_Columns], df[(df['meter']==meter) & (df['IS_BAD_PRCNT']<0.25)][Out_Columns], batch_size = batch_size, verbose = 0\n",
        "                  , epochs = epochs, shuffle = True, callbacks=[MyCustomCallback(epochs, 1), earlyStopping, reduce_lr_loss]\n",
        "                  , validation_data=(val[In_Columns], val[Out_Columns])\n",
        "                  ) \n",
        "  nn_3.save(DIR + str(meter) + 'HANDLY_SAVED03.MODEL')\n",
        "  gc.collect()"
      ],
      "execution_count": 0,
      "outputs": []
    },
    {
      "cell_type": "code",
      "metadata": {
        "id": "38XziDvm_mhH",
        "colab_type": "code",
        "colab": {}
      },
      "source": [
        "for lr in [0.00004,0.00007,0.0002,0.0007]:\n",
        "  opt = Adam(lr = lr)\n",
        "  epochs = 50\n",
        "  nn_3.compile(optimizer = opt, loss = RMSLE, metrics=[ MAE_, RMSLE, VAL_, 'mse', MAPE_ ])\n",
        "  hist = nn_3.fit( df[(df['meter']==meter) & (df['IS_BAD_PRCNT']<0.25)][In_Columns], df[(df['meter']==meter) & (df['IS_BAD_PRCNT']<0.25)][Out_Columns], batch_size = batch_size, verbose = 0\n",
        "                  , epochs = epochs, shuffle = True, callbacks=[ MyCustomCallback(epochs, 1), earlyStopping, reduce_lr_loss]\n",
        "                  , validation_data=(val[In_Columns], val[Out_Columns])\n",
        "                  ) \n",
        "  nn_3.save(DIR + str(meter) + 'HANDLY_SAVED03.MODEL')\n",
        "  gc.collect()"
      ],
      "execution_count": 0,
      "outputs": []
    },
    {
      "cell_type": "code",
      "metadata": {
        "id": "H75KbUGtAdOG",
        "colab_type": "code",
        "colab": {}
      },
      "source": [
        "#nn_3.save(DIR + str(meter) + 'HANDLY_SAVED.MODEL')\n",
        "# keras.initializers.RandomUniform(minval=-0.05, maxval=0.05, seed=None)"
      ],
      "execution_count": 0,
      "outputs": []
    },
    {
      "cell_type": "code",
      "metadata": {
        "id": "_zWSKYPSOjpz",
        "colab_type": "code",
        "outputId": "c70e25c2-b1d6-46d7-9962-9809aadfa861",
        "colab": {
          "base_uri": "https://localhost:8080/",
          "height": 34
        }
      },
      "source": [
        "nn_0 = keras.models.load_model (DIR + '0HANDLY_SAVED3.MODEL')\n",
        "nn_1 = keras.models.load_model (DIR + '1HANDLY_SAVED3.MODEL')\n",
        "nn_2 = keras.models.load_model (DIR + '2HANDLY_SAVED3.MODEL')\n",
        "nn_3 = keras.models.load_model (DIR + '3HANDLY_SAVED03.MODEL')\n",
        "\n",
        "# score = model.evaluate(X, Y, verbose=0)\n",
        "# print(\"%s: %.2f%%\" % (model.metrics_names[1], score[1]*100))\n",
        "gc.collect()"
      ],
      "execution_count": 0,
      "outputs": [
        {
          "output_type": "execute_result",
          "data": {
            "text/plain": [
              "907"
            ]
          },
          "metadata": {
            "tags": []
          },
          "execution_count": 63
        }
      ]
    },
    {
      "cell_type": "code",
      "metadata": {
        "id": "3xsuPcIPCvW2",
        "colab_type": "code",
        "outputId": "baaeacd8-f9fe-49be-8491-b69d1ea8b605",
        "colab": {
          "base_uri": "https://localhost:8080/",
          "height": 34
        }
      },
      "source": [
        "#Предсказание из 4х значений:\n",
        "  df['NN_PRED'] = 0\n",
        "  df['NN_PRED_0'] = nn_0.predict(df[In_Columns], batch_size = 10000) \n",
        "  df['NN_PRED_1'] = nn_1.predict(df[In_Columns], batch_size = 10000) \n",
        "  df['NN_PRED_2'] = nn_2.predict(df[In_Columns], batch_size = 10000) \n",
        "  df['NN_PRED_3'] = nn_3.predict(df[In_Columns], batch_size = 10000) \n",
        "  df['NN_PRED'] = np.where(df['meter'] == 0, df['NN_PRED_0'], df['NN_PRED'])\n",
        "  df['NN_PRED'] = np.where(df['meter'] == 1, df['NN_PRED_1'], df['NN_PRED'])\n",
        "  df['NN_PRED'] = np.where(df['meter'] == 2, df['NN_PRED_2'], df['NN_PRED'])\n",
        "  df['NN_PRED'] = np.where(df['meter'] == 3, df['NN_PRED_3'], df['NN_PRED'])\n",
        "  df.drop(columns = ['NN_PRED_0', 'NN_PRED_1', 'NN_PRED_2', 'NN_PRED_3'], inplace = True)\n",
        "  #df.drop(columns = ['Value_x', 'Value_y'])\n",
        "  gc.collect()"
      ],
      "execution_count": 0,
      "outputs": [
        {
          "output_type": "execute_result",
          "data": {
            "text/plain": [
              "28"
            ]
          },
          "metadata": {
            "tags": []
          },
          "execution_count": 64
        }
      ]
    },
    {
      "cell_type": "code",
      "metadata": {
        "id": "jV_7qcb1EK2t",
        "colab_type": "code",
        "outputId": "94525e46-75b2-4b86-f38c-04a5f963e176",
        "colab": {
          "base_uri": "https://localhost:8080/",
          "height": 119
        }
      },
      "source": [
        "df['NN_ERR'] = np.abs(df['NN_PRED']-df['meter_reading'])\n",
        "print( np.sqrt( np.mean( np.power(np.log(df['meter_reading']+1) - np.log(df['NN_ERR']+1),2.00000)))     )\n",
        "print('Ошибка 0: ', np.sqrt( np.mean( np.power(np.log(df[df['meter']==0]['meter_reading']+1) - np.log(df[df['meter']==0]['NN_ERR']+1),2.00000)))        )\n",
        "print('Ошибка 1: ', np.sqrt( np.mean( np.power(np.log(df[df['meter']==1]['meter_reading']+1) - np.log(df[df['meter']==1]['NN_ERR']+1),2.00000)))        )\n",
        "print('Ошибка 2: ', np.sqrt( np.mean( np.power(np.log(df[df['meter']==2]['meter_reading']+1) - np.log(df[df['meter']==2]['NN_ERR']+1),2.00000)))        )\n",
        "print('Ошибка 3: ', np.sqrt( np.mean( np.power(np.log(df[df['meter']==3]['meter_reading']+1) - np.log(df[df['meter']==3]['NN_ERR']+1),2.00000)))        )\n",
        "gc.collect()"
      ],
      "execution_count": 0,
      "outputs": [
        {
          "output_type": "stream",
          "text": [
            "2.31600296573249\n",
            "Ошибка 0:  2.367548887649364\n",
            "Ошибка 1:  2.3341838812051288\n",
            "Ошибка 2:  2.0793432874515667\n",
            "Ошибка 3:  2.238230002103621\n"
          ],
          "name": "stdout"
        },
        {
          "output_type": "execute_result",
          "data": {
            "text/plain": [
              "0"
            ]
          },
          "metadata": {
            "tags": []
          },
          "execution_count": 65
        }
      ]
    },
    {
      "cell_type": "code",
      "metadata": {
        "id": "HSg8qh29X2xl",
        "colab_type": "code",
        "colab": {}
      },
      "source": [
        "#Evaluate:\n",
        "  score = nn_0.evaluate(df[df['meter']==0][In_Columns], df[df['meter']==0][Out_Columns], verbose=1, batch_size = 30000)\n",
        "  print(0)\n",
        "  for i in range(len(nn_0.metrics_names)):\n",
        "    print(\"%s: %.2f%%\" % (nn_0.metrics_names[i], score[i]*100))\n",
        "\n",
        "  score = nn_1.evaluate(df[df['meter']==1][In_Columns], df[df['meter']==1][Out_Columns], verbose=1, batch_size = 30000)\n",
        "  print(1)\n",
        "  for i in range(len(nn_1.metrics_names)):\n",
        "    print(\"%s: %.2f%%\" % (nn_1.metrics_names[i], score[i]*100))\n",
        "\n",
        "  score = nn_2.evaluate(df[df['meter']==2][In_Columns], df[df['meter']==2][Out_Columns], verbose=1, batch_size = 30000)\n",
        "  print(2)\n",
        "  for i in range(len(nn_2.metrics_names)):\n",
        "    print(\"%s: %.2f%%\" % (nn_2.metrics_names[i], score[i]*100))\n",
        "\n",
        "  score = nn_3.evaluate(df[df['meter']==3][In_Columns], df[df['meter']==3][Out_Columns], verbose=1, batch_size = 30000)\n",
        "  print(3)\n",
        "  for i in range(len(nn_3.metrics_names)):\n",
        "    print(\"%s: %.2f%%\" % (nn_3.metrics_names[i], score[i]*100))\n",
        "  \n",
        "  gc.collect()"
      ],
      "execution_count": 0,
      "outputs": []
    },
    {
      "cell_type": "code",
      "metadata": {
        "id": "o8qHP3Icaw2D",
        "colab_type": "code",
        "colab": {}
      },
      "source": [
        "#Важность показателей\n",
        "  from sklearn.utils import shuffle\n",
        "  #Подставить нужную нейронку в зависимости от meter\n",
        "  k = nn.evaluate(val[In_Columns], val[Out_Columns], batch_size = 100000, verbose = 0)\n",
        "  print(k)\n",
        "  for i in range(X_val.shape[1]):\n",
        "      X_val_2 = X_val.copy()\n",
        "      s = shuffle(X_val_2.iloc[:,i])\n",
        "      s.index = X_val_2.index\n",
        "      X_val_2.iloc[:, i] = s\n",
        "      print('{}: {:2.5}'.format(cols[i], nn.evaluate(X_val_2, y_val, batch_size = 800000, verbose = 0) - k))\n",
        "      X_val_2 = None"
      ],
      "execution_count": 0,
      "outputs": []
    },
    {
      "cell_type": "code",
      "metadata": {
        "id": "VsiTWGypOAHb",
        "colab_type": "code",
        "colab": {}
      },
      "source": [
        "ИДЕИ:\n",
        "  1) Сделать не показатель, а его отклонение от медианы по строению/дню/часу\n",
        "  2) \n",
        "\n"
      ],
      "execution_count": 0,
      "outputs": []
    },
    {
      "cell_type": "markdown",
      "metadata": {
        "id": "PLLVe_MMYIz-",
        "colab_type": "text"
      },
      "source": [
        ""
      ]
    },
    {
      "cell_type": "code",
      "metadata": {
        "id": "g6AezgKyEBi6",
        "colab_type": "code",
        "colab": {}
      },
      "source": [
        "reduce_mem_usage(df_test)\n",
        "gc.collect()\n",
        "df_test.describe()"
      ],
      "execution_count": 0,
      "outputs": []
    },
    {
      "cell_type": "code",
      "metadata": {
        "id": "HWDYNM3xOBZx",
        "colab_type": "code",
        "colab": {}
      },
      "source": [
        "# Подготовка данных тест:\n",
        "  df_test = pd.read_csv(DIR + \"test.csv\", engine = 'python')\n",
        "  print('Забрали с диска')\n",
        "  df_test['timestamp'] = pd.to_datetime(df_test['timestamp'])\n",
        "\n",
        "  df_test['hour_cos'] = np.cos(df_test['timestamp'].dt.hour * 2. * np.pi / 24.)\n",
        "  df_test['hour_sin'] = np.sin(df_test['timestamp'].dt.hour * 2. * np.pi / 24.)\n",
        "\n",
        "  df_test['weekday_cos'] = np.cos(df_test['timestamp'].dt.weekday * 2. * np.pi / 7.)\n",
        "  df_test['weekday_sin'] = np.sin(df_test['timestamp'].dt.weekday * 2. * np.pi / 7.)\n",
        "\n",
        "  df_test['week_cos'] = np.cos(df_test['timestamp'].dt.week * 2. * np.pi / 53.)\n",
        "  df_test['week_sin'] = np.sin(df_test['timestamp'].dt.week * 2. * np.pi / 53.)\n",
        "\n",
        "  reduce_mem_usage(df_test)\n",
        "  gc.collect()\n"
      ],
      "execution_count": 0,
      "outputs": []
    },
    {
      "cell_type": "code",
      "metadata": {
        "id": "yRkbaJjBUGZP",
        "colab_type": "code",
        "outputId": "ea6ccc3f-cecc-45c2-acba-822f0d1d1f4d",
        "colab": {
          "base_uri": "https://localhost:8080/",
          "height": 87
        }
      },
      "source": [
        "# Добавление медианы по метрике постройки\n",
        "  df_median = df.groupby(by=['building_id','meter'])['meter_reading'].median()\n",
        "  df_median.name = 'building_meter_median'\n",
        "  df_test = pd.merge(df_test, df_median, how = 'inner', on = ['building_id','meter'])\n",
        "  del df_median \n",
        "  gc.collect()\n",
        "  print('Построены медианы по сооружению')\n",
        "# Добавление медианы по часу, по неделе, метрике постройки\n",
        "  df_test['hour'] = df_test['timestamp'].dt.hour\n",
        "  df_median = df.groupby(by=['building_id','hour','meter'])['meter_reading'].median()\n",
        "  df_median.name = 'building_meter_hour_median'\n",
        "  df_test = pd.merge(df_test, df_median, how = 'inner', on = ['building_id','hour','meter'])\n",
        "  del df_median \n",
        "  gc.collect()\n",
        "  df_test['weekday'] = df_test['timestamp'].dt.weekday\n",
        "  df_median = df.groupby(by=['building_id','weekday','meter'])['meter_reading'].median()\n",
        "  df_median.name = 'building_meter_weekday_median'\n",
        "  df_test = pd.merge(df_test, df_median, how = 'inner', on = ['building_id','weekday','meter'])\n",
        "  del df_median \n",
        "  print('Построены медианы по сооружению/часу')\n",
        "  holidays = [\"2016-01-01\", \"2016-01-18\", \"2016-02-15\", \"2016-05-30\", \"2016-07-04\",\n",
        "                    \"2016-09-05\", \"2016-10-10\", \"2016-11-11\", \"2016-11-24\", \"2016-12-26\",\n",
        "                    \"2017-01-02\", \"2017-01-16\", \"2017-02-20\", \"2017-05-29\", \"2017-07-04\",\n",
        "                    \"2017-09-04\", \"2017-10-09\", \"2017-11-10\", \"2017-11-23\", \"2017-12-25\",\n",
        "                    \"2018-01-01\", \"2018-01-15\", \"2018-02-19\", \"2018-05-28\", \"2018-07-04\",\n",
        "                    \"2018-09-03\", \"2018-10-08\", \"2018-11-12\", \"2018-11-22\", \"2018-12-25\",\n",
        "                    \"2019-01-01\"]\n",
        "  df_test[\"is_holiday\"] = (df_test.timestamp.isin(holidays)).astype(int)\n",
        "  del holidays\n",
        "  gc.collect()\n",
        "# Подстановка параметров сооружения\n",
        "  building_df = pd.read_csv(DIR + \"building_metadata.csv\", engine = 'python')\n",
        "  from sklearn.preprocessing import LabelEncoder\n",
        "  le = LabelEncoder()\n",
        "  building_df[\"primary_use_ID\"] = le.fit_transform(building_df[\"primary_use\"])\n",
        "\n",
        "  #building_df['primary_use'] = building_df['primary_use'].astype('category')\n",
        "  #building_df = pd.get_dummies(building_df)\n",
        "\n",
        "  df_test = df_test.merge(building_df, left_on = \"building_id\", right_on = \"building_id\", how = \"left\")\n",
        "  del building_df\n",
        "  print('Подставлены данные по сооружению')\n",
        "  gc.collect()"
      ],
      "execution_count": 12,
      "outputs": [
        {
          "output_type": "stream",
          "text": [
            "Построены медианы по сооружению\n",
            "Построены медианы по сооружению/часу\n",
            "Подставлены данные по сооружению\n"
          ],
          "name": "stdout"
        },
        {
          "output_type": "execute_result",
          "data": {
            "text/plain": [
              "24"
            ]
          },
          "metadata": {
            "tags": []
          },
          "execution_count": 12
        }
      ]
    },
    {
      "cell_type": "code",
      "metadata": {
        "id": "i34pNJGAWNLV",
        "colab_type": "code",
        "outputId": "089280f0-88ec-4a97-9826-c5e1f22a0033",
        "colab": {
          "base_uri": "https://localhost:8080/",
          "height": 34
        }
      },
      "source": [
        "# del df\n",
        "#del tmp\n",
        "gc.collect()"
      ],
      "execution_count": 36,
      "outputs": [
        {
          "output_type": "execute_result",
          "data": {
            "text/plain": [
              "0"
            ]
          },
          "metadata": {
            "tags": []
          },
          "execution_count": 36
        }
      ]
    },
    {
      "cell_type": "code",
      "metadata": {
        "id": "ozAyo91RRIfR",
        "colab_type": "code",
        "colab": {}
      },
      "source": [
        ""
      ],
      "execution_count": 0,
      "outputs": []
    },
    {
      "cell_type": "code",
      "metadata": {
        "colab_type": "code",
        "id": "gZDPAWaD0M5n",
        "colab": {}
      },
      "source": [
        "#Вставка данных погоды\n",
        "#Восстановление пустых данных погоды через соседей по линейной инетрполяции\n",
        "  df_weather = pd.read_csv(DIR + \"weather_test.csv\", engine = 'python')\n",
        "  df_weather['timestamp'] = pd.to_datetime(df_weather['timestamp'])\n",
        "  gc.collect()\n",
        "  #weather_train.groupby('site_id').apply(lambda group: group.isna().sum())\n",
        "  df_times = df_test.drop_duplicates(['site_id','timestamp'])[['site_id','timestamp']]\n",
        "  df_times = pd.merge(df_times, df_weather, how = 'left', on = ['site_id','timestamp'])\n",
        "  df_times = df_times.sort_values(by = ['site_id','timestamp'])\n",
        "  gc.collect()\n",
        "  df_times = df_times.groupby('site_id').apply(lambda group: group.interpolate(limit_direction='both'))\n",
        "  df_test = pd.merge(df_test, df_times, how = 'left', on = ['site_id','timestamp'])\n",
        "  del df_weather, df_times"
      ],
      "execution_count": 0,
      "outputs": []
    },
    {
      "cell_type": "code",
      "metadata": {
        "id": "jblybbA1X8IM",
        "colab_type": "code",
        "colab": {}
      },
      "source": [
        "reduce_mem_usage(df_test)\n",
        "df_test.to_feather(DIR + 'DF_TEST_REDUCED3.FTHR')\n",
        "gc.collect()"
      ],
      "execution_count": 0,
      "outputs": []
    },
    {
      "cell_type": "code",
      "metadata": {
        "id": "jjgCdq3PZh81",
        "colab_type": "code",
        "colab": {}
      },
      "source": [
        "df_test = pd.read_feather(DIR + 'DF_TEST_REDUCED3.FTHR')\n",
        "gc.collect()\n",
        "\n",
        "import pickle\n",
        "with open(DIR+'scaler.pickle', 'rb') as handle:\n",
        "    scaler = pickle.load(handle)\n",
        "    In_Columns = pickle.load(handle)\n",
        "    Out_Columns = pickle.load(handle)\n",
        "  \n",
        "  #with open('filename.pickle', 'rb') as handle:\n",
        "  #  b = pickle.load(handle)\n"
      ],
      "execution_count": 0,
      "outputs": []
    },
    {
      "cell_type": "code",
      "metadata": {
        "id": "hTDcNmss8mK5",
        "colab_type": "code",
        "colab": {
          "base_uri": "https://localhost:8080/",
          "height": 650
        },
        "outputId": "e08ac5c4-b97d-4039-a9be-fe38fd9207e0"
      },
      "source": [
        "# Нормализация\n",
        "i=0\n",
        "for c in In_Columns:\n",
        "  print(i, c, scaler.scale_[i],scaler.min_[i])\n",
        "  df_test[c] = df_test[c] * scaler.scale_[i] + scaler.min_[i]\n",
        "  i+=1\n",
        "  gc.collect()"
      ],
      "execution_count": 5,
      "outputs": [
        {
          "output_type": "stream",
          "text": [
            "0 hour_cos 0.5 0.5\n",
            "1 hour_sin 0.5 0.5\n",
            "2 weekday_cos 0.5260475468492817 0.4739524531507184\n",
            "3 weekday_sin 0.5128584368757862 0.5\n",
            "4 week_cos 0.5004394486055721 0.49956055139442795\n",
            "5 week_sin 0.5002196799875587 0.5\n",
            "6 site_id 0.06666666666666667 0.0\n",
            "7 square_feet 1.1432268950986433e-06 -0.00032353321131291604\n",
            "8 year_built 0.008547008547008548 -16.239316239316242\n",
            "9 floor_count 0.04 -0.04\n",
            "10 primary_use_Education 1.0 0.0\n",
            "11 primary_use_Entertainment/public assembly 1.0 0.0\n",
            "12 primary_use_Food sales and service 1.0 0.0\n",
            "13 primary_use_Healthcare 1.0 0.0\n",
            "14 primary_use_Lodging/residential 1.0 0.0\n",
            "15 primary_use_Manufacturing/industrial 1.0 0.0\n",
            "16 primary_use_Office 1.0 0.0\n",
            "17 primary_use_Other 1.0 0.0\n",
            "18 primary_use_Parking 1.0 0.0\n",
            "19 primary_use_Public services 1.0 0.0\n",
            "20 primary_use_Religious worship 1.0 0.0\n",
            "21 primary_use_Retail 1.0 0.0\n",
            "22 primary_use_Services 1.0 0.0\n",
            "23 primary_use_Technology/science 1.0 0.0\n",
            "24 primary_use_Utility 1.0 0.0\n",
            "25 primary_use_Warehouse/storage 1.0 0.0\n",
            "26 air_temperature 0.01314060440193505 0.3797634622031802\n",
            "27 cloud_coverage 0.1111111111111111 0.0\n",
            "28 dew_temperature 0.016366612009110198 0.5728314203188569\n",
            "29 precip_depth_1_hr 0.0029069767441860465 0.0029069767441860465\n",
            "30 sea_level_pressure 0.01293661265093965 -12.525228526557404\n",
            "31 wind_direction 0.002777777777777778 0.0\n",
            "32 wind_speed 0.05263157894736842 0.0\n",
            "33 building_meter_median 2.4980515685665876e-05 0.0\n",
            "34 building_meter_hour_median 2.2260881179590182e-05 0.0\n",
            "35 building_meter_weekday_median 2.4132730015082955e-05 0.0\n"
          ],
          "name": "stdout"
        }
      ]
    },
    {
      "cell_type": "code",
      "metadata": {
        "id": "cG1CZk1i-CHl",
        "colab_type": "code",
        "colab": {}
      },
      "source": [
        "# Выбор нейронок:\n",
        "  nn_0 = keras.models.load_model (DIR + '0HANDLY_SAVED3.MODEL')\n",
        "  nn_1 = keras.models.load_model (DIR + '1HANDLY_SAVED3.MODEL')\n",
        "  nn_2 = keras.models.load_model (DIR + '2HANDLY_SAVED3.MODEL')\n",
        "  nn_3 = keras.models.load_model (DIR + '3HANDLY_SAVED03.MODEL')\n",
        "  # score = model.evaluate(X, Y, verbose=0)\n",
        "  # print(\"%s: %.2f%%\" % (model.metrics_names[1], score[1]*100))\n",
        "  gc.collect()"
      ],
      "execution_count": 0,
      "outputs": []
    },
    {
      "cell_type": "code",
      "metadata": {
        "id": "xqmLUHDySwg-",
        "colab_type": "code",
        "colab": {}
      },
      "source": [
        "#Предсказание из 4х значений:\n",
        "  df_test['NN_PRED'] = 0 \n",
        "  df_test['NN_PRED']  = df_test['NN_PRED'].astype('float16')\n",
        "  l = len(df_test)\n",
        "  print( len(df_test) )\n",
        "  step = 200000\n",
        "  for i in range(int(l/step)+1):\n",
        "    print(i*step, (i+1)*step)\n",
        "    tmp = df_test[i*step: (i+1)*step][In_Columns + ['row_id','meter']]\n",
        "    gc.collect() \n",
        "    tmp['NN_PRED'] = 0 \n",
        "    tmp['NN_PRED_0'] = nn_0.predict(tmp[In_Columns], batch_size = 20000) \n",
        "    tmp['NN_PRED_1'] = nn_1.predict(tmp[In_Columns], batch_size = 20000) \n",
        "    tmp['NN_PRED_2'] = nn_2.predict(tmp[In_Columns], batch_size = 20000) \n",
        "    tmp['NN_PRED_3'] = nn_3.predict(tmp[In_Columns], batch_size = 20000) \n",
        "    gc.collect()\n",
        "    tmp['NN_PRED'] = np.where(tmp['meter'] == 0, tmp['NN_PRED_0'], tmp['NN_PRED'])\n",
        "    tmp['NN_PRED'] = np.where(tmp['meter'] == 1, tmp['NN_PRED_1'], tmp['NN_PRED'])\n",
        "    tmp['NN_PRED'] = np.where(tmp['meter'] == 2, tmp['NN_PRED_2'], tmp['NN_PRED'])\n",
        "    tmp['NN_PRED'] = np.where(tmp['meter'] == 3, tmp['NN_PRED_3'], tmp['NN_PRED'])\n",
        "    gc.collect()\n",
        "    #print('спрогнозили')\n",
        "    #df_test[i*step: (i+1)*step]['NN_PRED'] = pd.merge(df_test, tmp[['row_id','NN_PRED']], how = 'left', on = ['row_id'])\n",
        "    #df_test.loc[i*step: (i+1)*step, 'NN_PRED'] = tmp['NN_PRED']\n",
        "    \n",
        "    if i==0:\n",
        "      a = tmp[['row_id','NN_PRED']].copy()\n",
        "    else:\n",
        "      a = pd.concat([a, tmp[['row_id','NN_PRED']].copy()], sort=False)\n",
        "    #del tmp\n",
        "    #gc.collect() "
      ],
      "execution_count": 0,
      "outputs": []
    },
    {
      "cell_type": "code",
      "metadata": {
        "id": "ZtxkAc9E00Yn",
        "colab_type": "code",
        "colab": {
          "base_uri": "https://localhost:8080/",
          "height": 52
        },
        "outputId": "fcceb21e-7a31-4588-aec3-e984b54b91aa"
      },
      "source": [
        "print(len(a))\n",
        "a.drop_duplicates(inplace =True)\n",
        "print(len(a))"
      ],
      "execution_count": 27,
      "outputs": [
        {
          "output_type": "stream",
          "text": [
            "41697600\n",
            "41697600\n"
          ],
          "name": "stdout"
        }
      ]
    },
    {
      "cell_type": "code",
      "metadata": {
        "id": "OXmjfkrQC61e",
        "colab_type": "code",
        "colab": {}
      },
      "source": [
        "a['row_id']         = a['row_id'].astype('Int32')\n",
        "a['meter_reading']  = a['NN_PRED'].astype('float32')\n",
        "a[['row_id', 'meter_reading']].to_csv(DIR+'OUT_Ver0.3.csv', index = False)"
      ],
      "execution_count": 0,
      "outputs": []
    },
    {
      "cell_type": "code",
      "metadata": {
        "id": "4pSaG8s-5_yL",
        "colab_type": "code",
        "colab": {
          "base_uri": "https://localhost:8080/",
          "height": 402
        },
        "outputId": "f113d824-f725-4047-88d3-cfb2a59ebaed"
      },
      "source": [
        "a.head(-5)"
      ],
      "execution_count": 31,
      "outputs": [
        {
          "output_type": "execute_result",
          "data": {
            "text/html": [
              "<div>\n",
              "<style scoped>\n",
              "    .dataframe tbody tr th:only-of-type {\n",
              "        vertical-align: middle;\n",
              "    }\n",
              "\n",
              "    .dataframe tbody tr th {\n",
              "        vertical-align: top;\n",
              "    }\n",
              "\n",
              "    .dataframe thead th {\n",
              "        text-align: right;\n",
              "    }\n",
              "</style>\n",
              "<table border=\"1\" class=\"dataframe\">\n",
              "  <thead>\n",
              "    <tr style=\"text-align: right;\">\n",
              "      <th></th>\n",
              "      <th>row_id</th>\n",
              "      <th>NN_PRED</th>\n",
              "      <th>meter_reading</th>\n",
              "    </tr>\n",
              "  </thead>\n",
              "  <tbody>\n",
              "    <tr>\n",
              "      <th>0</th>\n",
              "      <td>0</td>\n",
              "      <td>234.510788</td>\n",
              "      <td>234.510788</td>\n",
              "    </tr>\n",
              "    <tr>\n",
              "      <th>1</th>\n",
              "      <td>21672</td>\n",
              "      <td>184.514343</td>\n",
              "      <td>184.514343</td>\n",
              "    </tr>\n",
              "    <tr>\n",
              "      <th>2</th>\n",
              "      <td>43344</td>\n",
              "      <td>251.292831</td>\n",
              "      <td>251.292831</td>\n",
              "    </tr>\n",
              "    <tr>\n",
              "      <th>3</th>\n",
              "      <td>65016</td>\n",
              "      <td>249.557755</td>\n",
              "      <td>249.557755</td>\n",
              "    </tr>\n",
              "    <tr>\n",
              "      <th>4</th>\n",
              "      <td>86688</td>\n",
              "      <td>198.508957</td>\n",
              "      <td>198.508957</td>\n",
              "    </tr>\n",
              "    <tr>\n",
              "      <th>...</th>\n",
              "      <td>...</td>\n",
              "      <td>...</td>\n",
              "      <td>...</td>\n",
              "    </tr>\n",
              "    <tr>\n",
              "      <th>41697590</th>\n",
              "      <td>41110039</td>\n",
              "      <td>255.980148</td>\n",
              "      <td>255.980148</td>\n",
              "    </tr>\n",
              "    <tr>\n",
              "      <th>41697591</th>\n",
              "      <td>41152039</td>\n",
              "      <td>259.096619</td>\n",
              "      <td>259.096619</td>\n",
              "    </tr>\n",
              "    <tr>\n",
              "      <th>41697592</th>\n",
              "      <td>41194037</td>\n",
              "      <td>263.612885</td>\n",
              "      <td>263.612885</td>\n",
              "    </tr>\n",
              "    <tr>\n",
              "      <th>41697593</th>\n",
              "      <td>41230287</td>\n",
              "      <td>278.547913</td>\n",
              "      <td>278.547913</td>\n",
              "    </tr>\n",
              "    <tr>\n",
              "      <th>41697594</th>\n",
              "      <td>41272287</td>\n",
              "      <td>304.864227</td>\n",
              "      <td>304.864227</td>\n",
              "    </tr>\n",
              "  </tbody>\n",
              "</table>\n",
              "<p>41697595 rows × 3 columns</p>\n",
              "</div>"
            ],
            "text/plain": [
              "            row_id     NN_PRED  meter_reading\n",
              "0                0  234.510788     234.510788\n",
              "1            21672  184.514343     184.514343\n",
              "2            43344  251.292831     251.292831\n",
              "3            65016  249.557755     249.557755\n",
              "4            86688  198.508957     198.508957\n",
              "...            ...         ...            ...\n",
              "41697590  41110039  255.980148     255.980148\n",
              "41697591  41152039  259.096619     259.096619\n",
              "41697592  41194037  263.612885     263.612885\n",
              "41697593  41230287  278.547913     278.547913\n",
              "41697594  41272287  304.864227     304.864227\n",
              "\n",
              "[41697595 rows x 3 columns]"
            ]
          },
          "metadata": {
            "tags": []
          },
          "execution_count": 31
        }
      ]
    },
    {
      "cell_type": "code",
      "metadata": {
        "id": "8HcOED4IDv0k",
        "colab_type": "code",
        "outputId": "125bad6b-9605-4831-d451-f1428d5e1b45",
        "colab": {
          "base_uri": "https://localhost:8080/",
          "height": 863
        }
      },
      "source": [
        "show_plot(hist) "
      ],
      "execution_count": 0,
      "outputs": [
        {
          "output_type": "display_data",
          "data": {
            "image/png": "[encoded data removed]",
            "text/plain": [
              "<Figure size 432x288 with 1 Axes>"
            ]
          },
          "metadata": {
            "tags": []
          }
        },
        {
          "output_type": "display_data",
          "data": {
            "image/png": "[encoded data removed]",
            "text/plain": [
              "<Figure size 432x288 with 1 Axes>"
            ]
          },
          "metadata": {
            "tags": []
          }
        },
        {
          "output_type": "display_data",
          "data": {
            "image/png": "[encoded data removed]",
            "text/plain": [
              "<Figure size 432x288 with 1 Axes>"
            ]
          },
          "metadata": {
            "tags": []
          }
        }
      ]
    },
    {
      "cell_type": "code",
      "metadata": {
        "id": "3y8HyLW1fPvb",
        "colab_type": "code",
        "colab": {}
      },
      "source": [
        ""
      ],
      "execution_count": 0,
      "outputs": []
    },
    {
      "cell_type": "code",
      "metadata": {
        "id": "YsYpyA4omuiY",
        "colab_type": "code",
        "colab": {}
      },
      "source": [
        "from keras.models import model_from_json\n",
        "\n",
        "def load_model(dir = os.getcwd(), name = 'model'):\n",
        "  json_file = open(os.path.join(dir,name+'.json'), 'r')\n",
        "  loaded_model_json = json_file.read()\n",
        "  json_file.close()\n",
        "  model = model_from_json(loaded_model_json)\n",
        "  model.load_weights(os.path.join(dir,name+'.h5'))\n",
        "  print(\"Loading is complete.\")\n",
        "  return model"
      ],
      "execution_count": 0,
      "outputs": []
    },
    {
      "cell_type": "code",
      "metadata": {
        "id": "fvoCZeopmulB",
        "colab_type": "code",
        "colab": {}
      },
      "source": [
        "nn = load_model(DIR, 'model_nn')\n",
        "opt = Adam(lr = 0.05)\n",
        "nn.compile(optimizer = opt, loss = mse)\n"
      ],
      "execution_count": 0,
      "outputs": []
    },
    {
      "cell_type": "code",
      "metadata": {
        "id": "_vze6V-2Dv3R",
        "colab_type": "code",
        "colab": {}
      },
      "source": [
        ""
      ],
      "execution_count": 0,
      "outputs": []
    },
    {
      "cell_type": "code",
      "metadata": {
        "id": "OwGQ3nubDv6C",
        "colab_type": "code",
        "colab": {}
      },
      "source": [
        ""
      ],
      "execution_count": 0,
      "outputs": []
    },
    {
      "cell_type": "code",
      "metadata": {
        "id": "Q7cW0BjWDog5",
        "colab_type": "code",
        "colab": {}
      },
      "source": [
        "X_test.shape"
      ],
      "execution_count": 0,
      "outputs": []
    },
    {
      "cell_type": "code",
      "metadata": {
        "id": "rglOCdGlDojs",
        "colab_type": "code",
        "colab": {}
      },
      "source": [
        "p = nn.predict(X_test, batch_size = 100000)"
      ],
      "execution_count": 0,
      "outputs": []
    },
    {
      "cell_type": "code",
      "metadata": {
        "id": "zHSFbHZiq7Of",
        "colab_type": "code",
        "colab": {}
      },
      "source": [
        ""
      ],
      "execution_count": 0,
      "outputs": []
    },
    {
      "cell_type": "code",
      "metadata": {
        "id": "TuyutB_Z1pu4",
        "colab_type": "code",
        "colab": {}
      },
      "source": [
        "df_sample_submission.to_csv(DIR+'out_file_int.csv', index = False)"
      ],
      "execution_count": 0,
      "outputs": []
    },
    {
      "cell_type": "code",
      "metadata": {
        "id": "7gQzWTyi1Vjb",
        "colab_type": "code",
        "outputId": "4a1a4271-a100-49b4-8b17-4effad4507ba",
        "colab": {
          "base_uri": "https://localhost:8080/",
          "height": 204
        }
      },
      "source": [
        "df_sample_submission.head()"
      ],
      "execution_count": 0,
      "outputs": [
        {
          "output_type": "execute_result",
          "data": {
            "text/html": [
              "<div>\n",
              "<style scoped>\n",
              "    .dataframe tbody tr th:only-of-type {\n",
              "        vertical-align: middle;\n",
              "    }\n",
              "\n",
              "    .dataframe tbody tr th {\n",
              "        vertical-align: top;\n",
              "    }\n",
              "\n",
              "    .dataframe thead th {\n",
              "        text-align: right;\n",
              "    }\n",
              "</style>\n",
              "<table border=\"1\" class=\"dataframe\">\n",
              "  <thead>\n",
              "    <tr style=\"text-align: right;\">\n",
              "      <th></th>\n",
              "      <th>row_id</th>\n",
              "      <th>meter_reading</th>\n",
              "    </tr>\n",
              "  </thead>\n",
              "  <tbody>\n",
              "    <tr>\n",
              "      <th>8784</th>\n",
              "      <td>0</td>\n",
              "      <td>187.721802</td>\n",
              "    </tr>\n",
              "    <tr>\n",
              "      <th>8785</th>\n",
              "      <td>129</td>\n",
              "      <td>170.970444</td>\n",
              "    </tr>\n",
              "    <tr>\n",
              "      <th>8786</th>\n",
              "      <td>258</td>\n",
              "      <td>158.120926</td>\n",
              "    </tr>\n",
              "    <tr>\n",
              "      <th>8787</th>\n",
              "      <td>387</td>\n",
              "      <td>150.405380</td>\n",
              "    </tr>\n",
              "    <tr>\n",
              "      <th>8788</th>\n",
              "      <td>516</td>\n",
              "      <td>149.041794</td>\n",
              "    </tr>\n",
              "  </tbody>\n",
              "</table>\n",
              "</div>"
            ],
            "text/plain": [
              "      row_id  meter_reading\n",
              "8784       0     187.721802\n",
              "8785     129     170.970444\n",
              "8786     258     158.120926\n",
              "8787     387     150.405380\n",
              "8788     516     149.041794"
            ]
          },
          "metadata": {
            "tags": []
          },
          "execution_count": 41
        }
      ]
    },
    {
      "cell_type": "code",
      "metadata": {
        "id": "yaKZlONMsta8",
        "colab_type": "code",
        "colab": {}
      },
      "source": [
        "df_sample_submission['row_id'] = df_sample_submission['row_id'].astype('Int32')\n",
        "df_sample_submission['meter_reading'] = df_sample_submission['meter_reading'].astype('float16')"
      ],
      "execution_count": 0,
      "outputs": []
    },
    {
      "cell_type": "code",
      "metadata": {
        "id": "kOIMC9y_steQ",
        "colab_type": "code",
        "colab": {}
      },
      "source": [
        "\n"
      ],
      "execution_count": 0,
      "outputs": []
    }
  ]
}